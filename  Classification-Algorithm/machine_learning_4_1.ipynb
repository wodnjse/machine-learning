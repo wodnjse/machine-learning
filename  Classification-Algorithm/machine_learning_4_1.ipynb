{
  "nbformat": 4,
  "nbformat_minor": 0,
  "metadata": {
    "colab": {
      "provenance": [],
      "collapsed_sections": [],
      "mount_file_id": "1Ifpaii8eTDfMQjg8Cxfpgdk6V5tE4Osh",
      "authorship_tag": "ABX9TyMufs1Av7FxNoK0Zd2Y4Wae",
      "include_colab_link": true
    },
    "kernelspec": {
      "name": "python3",
      "display_name": "Python 3"
    },
    "language_info": {
      "name": "python"
    }
  },
  "cells": [
    {
      "cell_type": "markdown",
      "metadata": {
        "id": "view-in-github",
        "colab_type": "text"
      },
      "source": [
        "<a href=\"https://colab.research.google.com/github/wodnjse/machine-learning/blob/main/%20Classification-Algorithm/machine_learning_4_1.ipynb\" target=\"_parent\"><img src=\"https://colab.research.google.com/assets/colab-badge.svg\" alt=\"Open In Colab\"/></a>"
      ]
    },
    {
      "cell_type": "code",
      "source": [
        "# pd는 관례적으로 사용하는 별칭\n",
        "import pandas as pd"
      ],
      "metadata": {
        "id": "oSrBJYNdXm6d"
      },
      "execution_count": 1,
      "outputs": []
    },
    {
      "cell_type": "code",
      "source": [
        "fish = pd.read_csv('/content/drive/MyDrive/Colab Notebooks/머신러닝/4_1 럭키백/fish.csv')\n",
        "fish.head()"
      ],
      "metadata": {
        "colab": {
          "base_uri": "https://localhost:8080/",
          "height": 206
        },
        "id": "0EYQ5XqVXqyn",
        "outputId": "0bc9033a-aaa8-4b8b-9a9f-097dc4a37183"
      },
      "execution_count": 2,
      "outputs": [
        {
          "output_type": "execute_result",
          "data": {
            "text/plain": [
              "  Species  Weight  Length  Diagonal   Height   Width\n",
              "0   Bream   242.0    25.4      30.0  11.5200  4.0200\n",
              "1   Bream   290.0    26.3      31.2  12.4800  4.3056\n",
              "2   Bream   340.0    26.5      31.1  12.3778  4.6961\n",
              "3   Bream   363.0    29.0      33.5  12.7300  4.4555\n",
              "4   Bream   430.0    29.0      34.0  12.4440  5.1340"
            ],
            "text/html": [
              "\n",
              "  <div id=\"df-20b38e8c-8d9b-4028-981e-521d4558b598\">\n",
              "    <div class=\"colab-df-container\">\n",
              "      <div>\n",
              "<style scoped>\n",
              "    .dataframe tbody tr th:only-of-type {\n",
              "        vertical-align: middle;\n",
              "    }\n",
              "\n",
              "    .dataframe tbody tr th {\n",
              "        vertical-align: top;\n",
              "    }\n",
              "\n",
              "    .dataframe thead th {\n",
              "        text-align: right;\n",
              "    }\n",
              "</style>\n",
              "<table border=\"1\" class=\"dataframe\">\n",
              "  <thead>\n",
              "    <tr style=\"text-align: right;\">\n",
              "      <th></th>\n",
              "      <th>Species</th>\n",
              "      <th>Weight</th>\n",
              "      <th>Length</th>\n",
              "      <th>Diagonal</th>\n",
              "      <th>Height</th>\n",
              "      <th>Width</th>\n",
              "    </tr>\n",
              "  </thead>\n",
              "  <tbody>\n",
              "    <tr>\n",
              "      <th>0</th>\n",
              "      <td>Bream</td>\n",
              "      <td>242.0</td>\n",
              "      <td>25.4</td>\n",
              "      <td>30.0</td>\n",
              "      <td>11.5200</td>\n",
              "      <td>4.0200</td>\n",
              "    </tr>\n",
              "    <tr>\n",
              "      <th>1</th>\n",
              "      <td>Bream</td>\n",
              "      <td>290.0</td>\n",
              "      <td>26.3</td>\n",
              "      <td>31.2</td>\n",
              "      <td>12.4800</td>\n",
              "      <td>4.3056</td>\n",
              "    </tr>\n",
              "    <tr>\n",
              "      <th>2</th>\n",
              "      <td>Bream</td>\n",
              "      <td>340.0</td>\n",
              "      <td>26.5</td>\n",
              "      <td>31.1</td>\n",
              "      <td>12.3778</td>\n",
              "      <td>4.6961</td>\n",
              "    </tr>\n",
              "    <tr>\n",
              "      <th>3</th>\n",
              "      <td>Bream</td>\n",
              "      <td>363.0</td>\n",
              "      <td>29.0</td>\n",
              "      <td>33.5</td>\n",
              "      <td>12.7300</td>\n",
              "      <td>4.4555</td>\n",
              "    </tr>\n",
              "    <tr>\n",
              "      <th>4</th>\n",
              "      <td>Bream</td>\n",
              "      <td>430.0</td>\n",
              "      <td>29.0</td>\n",
              "      <td>34.0</td>\n",
              "      <td>12.4440</td>\n",
              "      <td>5.1340</td>\n",
              "    </tr>\n",
              "  </tbody>\n",
              "</table>\n",
              "</div>\n",
              "      <button class=\"colab-df-convert\" onclick=\"convertToInteractive('df-20b38e8c-8d9b-4028-981e-521d4558b598')\"\n",
              "              title=\"Convert this dataframe to an interactive table.\"\n",
              "              style=\"display:none;\">\n",
              "        \n",
              "  <svg xmlns=\"http://www.w3.org/2000/svg\" height=\"24px\"viewBox=\"0 0 24 24\"\n",
              "       width=\"24px\">\n",
              "    <path d=\"M0 0h24v24H0V0z\" fill=\"none\"/>\n",
              "    <path d=\"M18.56 5.44l.94 2.06.94-2.06 2.06-.94-2.06-.94-.94-2.06-.94 2.06-2.06.94zm-11 1L8.5 8.5l.94-2.06 2.06-.94-2.06-.94L8.5 2.5l-.94 2.06-2.06.94zm10 10l.94 2.06.94-2.06 2.06-.94-2.06-.94-.94-2.06-.94 2.06-2.06.94z\"/><path d=\"M17.41 7.96l-1.37-1.37c-.4-.4-.92-.59-1.43-.59-.52 0-1.04.2-1.43.59L10.3 9.45l-7.72 7.72c-.78.78-.78 2.05 0 2.83L4 21.41c.39.39.9.59 1.41.59.51 0 1.02-.2 1.41-.59l7.78-7.78 2.81-2.81c.8-.78.8-2.07 0-2.86zM5.41 20L4 18.59l7.72-7.72 1.47 1.35L5.41 20z\"/>\n",
              "  </svg>\n",
              "      </button>\n",
              "      \n",
              "  <style>\n",
              "    .colab-df-container {\n",
              "      display:flex;\n",
              "      flex-wrap:wrap;\n",
              "      gap: 12px;\n",
              "    }\n",
              "\n",
              "    .colab-df-convert {\n",
              "      background-color: #E8F0FE;\n",
              "      border: none;\n",
              "      border-radius: 50%;\n",
              "      cursor: pointer;\n",
              "      display: none;\n",
              "      fill: #1967D2;\n",
              "      height: 32px;\n",
              "      padding: 0 0 0 0;\n",
              "      width: 32px;\n",
              "    }\n",
              "\n",
              "    .colab-df-convert:hover {\n",
              "      background-color: #E2EBFA;\n",
              "      box-shadow: 0px 1px 2px rgba(60, 64, 67, 0.3), 0px 1px 3px 1px rgba(60, 64, 67, 0.15);\n",
              "      fill: #174EA6;\n",
              "    }\n",
              "\n",
              "    [theme=dark] .colab-df-convert {\n",
              "      background-color: #3B4455;\n",
              "      fill: #D2E3FC;\n",
              "    }\n",
              "\n",
              "    [theme=dark] .colab-df-convert:hover {\n",
              "      background-color: #434B5C;\n",
              "      box-shadow: 0px 1px 3px 1px rgba(0, 0, 0, 0.15);\n",
              "      filter: drop-shadow(0px 1px 2px rgba(0, 0, 0, 0.3));\n",
              "      fill: #FFFFFF;\n",
              "    }\n",
              "  </style>\n",
              "\n",
              "      <script>\n",
              "        const buttonEl =\n",
              "          document.querySelector('#df-20b38e8c-8d9b-4028-981e-521d4558b598 button.colab-df-convert');\n",
              "        buttonEl.style.display =\n",
              "          google.colab.kernel.accessAllowed ? 'block' : 'none';\n",
              "\n",
              "        async function convertToInteractive(key) {\n",
              "          const element = document.querySelector('#df-20b38e8c-8d9b-4028-981e-521d4558b598');\n",
              "          const dataTable =\n",
              "            await google.colab.kernel.invokeFunction('convertToInteractive',\n",
              "                                                     [key], {});\n",
              "          if (!dataTable) return;\n",
              "\n",
              "          const docLinkHtml = 'Like what you see? Visit the ' +\n",
              "            '<a target=\"_blank\" href=https://colab.research.google.com/notebooks/data_table.ipynb>data table notebook</a>'\n",
              "            + ' to learn more about interactive tables.';\n",
              "          element.innerHTML = '';\n",
              "          dataTable['output_type'] = 'display_data';\n",
              "          await google.colab.output.renderOutput(dataTable, element);\n",
              "          const docLink = document.createElement('div');\n",
              "          docLink.innerHTML = docLinkHtml;\n",
              "          element.appendChild(docLink);\n",
              "        }\n",
              "      </script>\n",
              "    </div>\n",
              "  </div>\n",
              "  "
            ]
          },
          "metadata": {},
          "execution_count": 2
        }
      ]
    },
    {
      "cell_type": "markdown",
      "source": [
        "# **데이터 프레임**\n",
        "\n",
        "1.   **dataframe**\n",
        "2.   판다스에서 제공하는 **2차원 표** 형식의 주요 데이터 구조\n",
        "3. 넘파이 배열과 비슷하게 열과 행으로 구성\n",
        "4. 통계와 그래프를 위한 풍부한 메서드 제공\n",
        "5. numpy로 상호 변환이 쉽고 사이킷런과도 잘 호환됨\n",
        "6. 맨 왼쪽의 0, 1, 2숫자는 **행번호**(pandas의 인덱스)\n",
        "7. 맨위의 species, weight, length, diagonal, height, width는 **열 제목**\n",
        "8. pandas는 csv파일의 첫 줄을 자동으로 인식해 열 제목으로 구성\n",
        "\n",
        "####**species: 종류**\n",
        "\n",
        "####**weight: 몸무게**\n",
        "\n",
        "####**length: 길이**\n",
        "\n",
        "####**diagonal: 대각선**\n",
        "\n",
        "####**height: 높이**\n",
        "\n",
        "####**width: 두께**\n",
        "\n"
      ],
      "metadata": {
        "id": "Xb4_F_SvX97-"
      }
    },
    {
      "cell_type": "code",
      "source": [
        "print(pd.unique(fish['Species'])) # pandas의 unique()함수 사용"
      ],
      "metadata": {
        "colab": {
          "base_uri": "https://localhost:8080/"
        },
        "id": "UNlPAkYJZObG",
        "outputId": "1ae1954b-7b93-4fb5-db34-96423d409510"
      },
      "execution_count": 3,
      "outputs": [
        {
          "output_type": "stream",
          "name": "stdout",
          "text": [
            "['Bream' 'Roach' 'Whitefish' 'Parkki' 'Perch' 'Pike' 'Smelt']\n"
          ]
        }
      ]
    },
    {
      "cell_type": "markdown",
      "source": [
        "# **입력 데이터 생성**\n",
        "- Species 열: 타깃 / **나머지 5개 열: 입력 데이터**\n",
        "- 데이터프레임에서 원하는 열을 리스트로 나열: 5개 열만 선택\n",
        "- 반환된 새로운 데이터프레임을 **to_numpy()** 메서드로 넘파이 배열로 변경\n",
        "- [  ] 2개 쓰는 이유: **2차원 배열**\n"
      ],
      "metadata": {
        "id": "2au6SXgZZWkW"
      }
    },
    {
      "cell_type": "code",
      "source": [
        "fish_input = fish[['Weight', 'Length', 'Diagonal', 'Height', 'Width']].to_numpy()\n",
        "print(fish_input[:5]) # 5열 까지만 출력"
      ],
      "metadata": {
        "colab": {
          "base_uri": "https://localhost:8080/"
        },
        "id": "GxdknxRsZZZf",
        "outputId": "371eec34-a4e9-4a15-b21d-0af6d323fea2"
      },
      "execution_count": 4,
      "outputs": [
        {
          "output_type": "stream",
          "name": "stdout",
          "text": [
            "[[242.      25.4     30.      11.52     4.02  ]\n",
            " [290.      26.3     31.2     12.48     4.3056]\n",
            " [340.      26.5     31.1     12.3778   4.6961]\n",
            " [363.      29.      33.5     12.73     4.4555]\n",
            " [430.      29.      34.      12.444    5.134 ]]\n"
          ]
        }
      ]
    },
    {
      "cell_type": "markdown",
      "source": [
        "# **타깃 데이터 생성**\n",
        "- 입력 데이터와 동일한 방식\n",
        "- [  ] 1개 쓰는 이유: **1차원 배열**"
      ],
      "metadata": {
        "id": "6V9BHiHxaJpT"
      }
    },
    {
      "cell_type": "code",
      "source": [
        "fish_target = fish['Species'].to_numpy()\n",
        "print(fish_target)"
      ],
      "metadata": {
        "colab": {
          "base_uri": "https://localhost:8080/"
        },
        "id": "_6eBNb4kaIfO",
        "outputId": "0b3c29eb-3ecb-4155-a255-116d248bf5fc"
      },
      "execution_count": 5,
      "outputs": [
        {
          "output_type": "stream",
          "name": "stdout",
          "text": [
            "['Bream' 'Bream' 'Bream' 'Bream' 'Bream' 'Bream' 'Bream' 'Bream' 'Bream'\n",
            " 'Bream' 'Bream' 'Bream' 'Bream' 'Bream' 'Bream' 'Bream' 'Bream' 'Bream'\n",
            " 'Bream' 'Bream' 'Bream' 'Bream' 'Bream' 'Bream' 'Bream' 'Bream' 'Bream'\n",
            " 'Bream' 'Bream' 'Bream' 'Bream' 'Bream' 'Bream' 'Bream' 'Bream' 'Roach'\n",
            " 'Roach' 'Roach' 'Roach' 'Roach' 'Roach' 'Roach' 'Roach' 'Roach' 'Roach'\n",
            " 'Roach' 'Roach' 'Roach' 'Roach' 'Roach' 'Roach' 'Roach' 'Roach' 'Roach'\n",
            " 'Roach' 'Whitefish' 'Whitefish' 'Whitefish' 'Whitefish' 'Whitefish'\n",
            " 'Whitefish' 'Parkki' 'Parkki' 'Parkki' 'Parkki' 'Parkki' 'Parkki'\n",
            " 'Parkki' 'Parkki' 'Parkki' 'Parkki' 'Parkki' 'Perch' 'Perch' 'Perch'\n",
            " 'Perch' 'Perch' 'Perch' 'Perch' 'Perch' 'Perch' 'Perch' 'Perch' 'Perch'\n",
            " 'Perch' 'Perch' 'Perch' 'Perch' 'Perch' 'Perch' 'Perch' 'Perch' 'Perch'\n",
            " 'Perch' 'Perch' 'Perch' 'Perch' 'Perch' 'Perch' 'Perch' 'Perch' 'Perch'\n",
            " 'Perch' 'Perch' 'Perch' 'Perch' 'Perch' 'Perch' 'Perch' 'Perch' 'Perch'\n",
            " 'Perch' 'Perch' 'Perch' 'Perch' 'Perch' 'Perch' 'Perch' 'Perch' 'Perch'\n",
            " 'Perch' 'Perch' 'Perch' 'Perch' 'Perch' 'Perch' 'Perch' 'Perch' 'Pike'\n",
            " 'Pike' 'Pike' 'Pike' 'Pike' 'Pike' 'Pike' 'Pike' 'Pike' 'Pike' 'Pike'\n",
            " 'Pike' 'Pike' 'Pike' 'Pike' 'Pike' 'Pike' 'Smelt' 'Smelt' 'Smelt' 'Smelt'\n",
            " 'Smelt' 'Smelt' 'Smelt' 'Smelt' 'Smelt' 'Smelt' 'Smelt' 'Smelt' 'Smelt'\n",
            " 'Smelt']\n"
          ]
        }
      ]
    },
    {
      "cell_type": "markdown",
      "source": [
        "# **데이터 분류**\n",
        "- 머신러닝에서는 기본적으로 데이터  세트 2개가 필요하다."
      ],
      "metadata": {
        "id": "mxH5XNIzgyfC"
      }
    },
    {
      "cell_type": "code",
      "source": [
        "from sklearn.model_selection import train_test_split\n",
        "\n",
        "train_input, test_input, train_target, test_target = train_test_split(\n",
        "    fish_input, fish_target, random_state=42)"
      ],
      "metadata": {
        "id": "ldoabRF7akL8"
      },
      "execution_count": 6,
      "outputs": []
    },
    {
      "cell_type": "markdown",
      "source": [
        "- 사이킷런의 **StandardScaler** 클래스 사용: 데이터 세트를 **표준화 전처리**!\n",
        "- **훈련 세트의 통계 값**으로 테스트 세트 변환 필요\n"
      ],
      "metadata": {
        "id": "ol4gaDczhHya"
      }
    },
    {
      "cell_type": "code",
      "source": [
        "from sklearn.preprocessing import StandardScaler\n",
        "ss = StandardScaler()\n",
        "ss.fit(train_input)\n",
        "train_scaled = ss.transform(train_input)\n",
        "test_scaled = ss.transform(test_input)"
      ],
      "metadata": {
        "id": "lB4DcOICa001"
      },
      "execution_count": 7,
      "outputs": []
    },
    {
      "cell_type": "markdown",
      "source": [
        "# **k-최근접 이웃 분류기의 확률 예측**\n",
        "\n",
        "\n",
        "1.   **KNeighborsClassifier** 클래스 객체를 만들고 (최근접 이웃 갯수 k를 3으로 지정)\n",
        "2.   훈련 세트로 **모델 학습** 후\n",
        "3. 훈련 세트와 테스트 세트의 **점수** 확인\n",
        "\n"
      ],
      "metadata": {
        "id": "df6xddPpbnc0"
      }
    },
    {
      "cell_type": "code",
      "source": [
        "from sklearn.neighbors import KNeighborsClassifier\n",
        "\n",
        "kn = KNeighborsClassifier(n_neighbors = 3)\n",
        "kn.fit(train_scaled, train_target)\n",
        "\n",
        "print(kn.score(train_scaled, train_target))\n",
        "print(kn.score(test_scaled, test_target))"
      ],
      "metadata": {
        "colab": {
          "base_uri": "https://localhost:8080/"
        },
        "id": "hofmBNwPbKSc",
        "outputId": "05bef85f-3e1c-4d60-b2f0-94b05f461416"
      },
      "execution_count": 8,
      "outputs": [
        {
          "output_type": "stream",
          "name": "stdout",
          "text": [
            "0.8907563025210085\n",
            "0.85\n"
          ]
        }
      ]
    },
    {
      "cell_type": "markdown",
      "source": [
        "# **다중 분류**\n",
        "- 현재 데이터셋의 훈련 세트와 테스트 세트의 **타깃 데이터에는 7개의 생선 종류**\n",
        "- **다중 분류**(multi-class classification)</br>\n",
        "  : 타깃 데이터에 2개 이상의 클래스가 포함된 문제\n",
        "- 모델을 만들고 훈련하는 방식은 이진 분류와 동일하다.\n",
        "- 이중 분류는 클래스가 0과 1\n",
        "- 사이킷런에서는 편리하게도 **문자열로 된 타깃값 그대로 사용 가능**</br>\n",
        "  (단 순서가 자동으로 *알파벳 순*으로 매겨짐)\n",
        "\n",
        "- KNeighborsClassifier에서 정렬된 타깃값: ***classes_*** 속성에 저장\n",
        "\n",
        "\n"
      ],
      "metadata": {
        "id": "6y_NVm7XcP7k"
      }
    },
    {
      "cell_type": "code",
      "source": [
        "print(kn.classes_)\n",
        "\n",
        "# Bream이 첫 번째 클래스, Parkki가 두 번째 클래스"
      ],
      "metadata": {
        "colab": {
          "base_uri": "https://localhost:8080/"
        },
        "id": "KbBOL5dVcCac",
        "outputId": "25fb3441-f543-4fdf-c0a7-dd0149fec477"
      },
      "execution_count": 9,
      "outputs": [
        {
          "output_type": "stream",
          "name": "stdout",
          "text": [
            "['Bream' 'Parkki' 'Perch' 'Pike' 'Roach' 'Smelt' 'Whitefish']\n"
          ]
        }
      ]
    },
    {
      "cell_type": "markdown",
      "source": [
        "# **타깃값 예측**\n",
        "\n",
        "- 사이킷런의 **predict()** 메서드는 **타깃값**으로 예측 출력"
      ],
      "metadata": {
        "id": "RZRcoToscwJs"
      }
    },
    {
      "cell_type": "code",
      "source": [
        "print(kn.predict(test_scaled[:5]))"
      ],
      "metadata": {
        "colab": {
          "base_uri": "https://localhost:8080/"
        },
        "id": "jI7zodZzcjK0",
        "outputId": "096a1949-a1af-46c7-b02c-fc2ea5199cea"
      },
      "execution_count": 10,
      "outputs": [
        {
          "output_type": "stream",
          "name": "stdout",
          "text": [
            "['Perch' 'Smelt' 'Pike' 'Perch' 'Perch']\n"
          ]
        }
      ]
    },
    {
      "cell_type": "markdown",
      "source": [
        "- **predict_proba()**메서드: 클래스별 확률값 반환"
      ],
      "metadata": {
        "id": "iFDp7jNujWsZ"
      }
    },
    {
      "cell_type": "code",
      "source": [
        "import numpy as np\n",
        "\n",
        "proba = kn.predict_proba(test_scaled[:5])\n",
        "print(np.round(proba, decimals = 4))"
      ],
      "metadata": {
        "colab": {
          "base_uri": "https://localhost:8080/"
        },
        "id": "TvqIUO0Hc5Hk",
        "outputId": "97a4df96-d959-47b4-8712-4d336c1e3fa0"
      },
      "execution_count": 11,
      "outputs": [
        {
          "output_type": "stream",
          "name": "stdout",
          "text": [
            "[[0.     0.     1.     0.     0.     0.     0.    ]\n",
            " [0.     0.     0.     0.     0.     1.     0.    ]\n",
            " [0.     0.     0.     1.     0.     0.     0.    ]\n",
            " [0.     0.     0.6667 0.     0.3333 0.     0.    ]\n",
            " [0.     0.     0.6667 0.     0.3333 0.     0.    ]]\n"
          ]
        }
      ]
    },
    {
      "cell_type": "markdown",
      "source": [
        "- numpy **round**()함수</br>\n",
        "  : 소수점 첫째 자리에서 반올림\n",
        "- **decimals** 매개변수</br>\n",
        "  : 유지할 소수점 아래 자릿수 지정\n",
        "- 출력 순서는 classes_ 속성과 동일(*알파멧 순서*)"
      ],
      "metadata": {
        "id": "HI_OPkNxjoHh"
      }
    },
    {
      "cell_type": "code",
      "source": [
        "# 네 번째 샘플의 최근접 이웃 클래스 확인\n",
        "distances, indexes = kn.kneighbors(test_scaled[3:4])\n",
        "print(train_target[indexes])"
      ],
      "metadata": {
        "colab": {
          "base_uri": "https://localhost:8080/"
        },
        "id": "mtE-MlTgc5CE",
        "outputId": "b273a77a-fbb1-4bbb-f095-943aec2edc06"
      },
      "execution_count": 12,
      "outputs": [
        {
          "output_type": "stream",
          "name": "stdout",
          "text": [
            "[['Roach' 'Perch' 'Perch']]\n"
          ]
        }
      ]
    },
    {
      "cell_type": "markdown",
      "source": [
        "- Roach: 1/3 = 0.333%\n",
        "- Perch: 2/3 = 0.667%\n",
        "- 3개의 최근접 이웃 사용: 가능한 확률은 0/3, 1/3, 2/3, 3/3이 전부</br>\n",
        "  → 확률이라고 말하기는 좀 애매하다"
      ],
      "metadata": {
        "id": "OXuLNZmckB6R"
      }
    },
    {
      "cell_type": "markdown",
      "source": [
        "# **로지스틱 회귀**\n",
        "\n",
        "- 네 번째 샘플의 최근접 이웃 클래스를 확인해보자"
      ],
      "metadata": {
        "id": "cmc3O21rkal4"
      }
    },
    {
      "cell_type": "markdown",
      "source": [
        "## **시그모이드 함수 회귀**"
      ],
      "metadata": {
        "id": "Em8_iejak0WJ"
      }
    },
    {
      "cell_type": "code",
      "source": [
        "import numpy as np\n",
        "import matplotlib.pyplot as plt\n",
        "\n",
        "z = np.arange(- 5, 5, 0.1) # -5와 5 사이에 0.1 간격으로 배열 z를 만듬, z위치마다 시그모이드 함수 계산\n",
        "phi = 1 / (1 + np.exp(-z)) # np.exp: 지수함수 계산 \n",
        "\n",
        "plt.plot(z, phi)\n",
        "plt.xlabel('z')\n",
        "plt.ylabel('phi')\n",
        "plt.show()"
      ],
      "metadata": {
        "colab": {
          "base_uri": "https://localhost:8080/",
          "height": 279
        },
        "id": "qOT5QYdckaW5",
        "outputId": "915b460e-e743-433d-ee07-8012c2424170"
      },
      "execution_count": 13,
      "outputs": [
        {
          "output_type": "display_data",
          "data": {
            "text/plain": [
              "<Figure size 432x288 with 1 Axes>"
            ],
            "image/png": "[encoded data removed]"
          },
          "metadata": {
            "needs_background": "light"
          }
        }
      ]
    },
    {
      "cell_type": "markdown",
      "source": [
        "# **로지스틱 회귀**\n",
        "### **이진 분류 수행**\n",
        "***예제***\n",
        "- **불리언 인덱싱**(boolean indexing): 넘파이 배열은 True, False 값을 전달받아 행 선택 가능\n",
        "- Ex) 5개의 원소 A, C만 골라내려면 1, 3만 True, 나머진 False"
      ],
      "metadata": {
        "id": "RI4hJ5uNYW-j"
      }
    },
    {
      "cell_type": "code",
      "source": [
        "char_arr = np.array(['A', 'B', 'C', 'D', 'E'])\n",
        "print(char_arr[[True, False, True, False, False]])"
      ],
      "metadata": {
        "colab": {
          "base_uri": "https://localhost:8080/"
        },
        "id": "CHbHe9RiloAw",
        "outputId": "690ded20-8c45-4da9-8756-2c93741ee260"
      },
      "execution_count": 14,
      "outputs": [
        {
          "output_type": "stream",
          "name": "stdout",
          "text": [
            "['A' 'C']\n"
          ]
        }
      ]
    },
    {
      "cell_type": "markdown",
      "source": [
        "### **먼저 이진 분류 먼저 수행**\n",
        "***도미(Bream)와 빙어(Smelt)***의 행만 먼저 저장 -> 이진 분류 먼저"
      ],
      "metadata": {
        "id": "AT2TbxMxYw_t"
      }
    },
    {
      "cell_type": "code",
      "source": [
        "bream_smelt_indexes = (train_target == 'Bream') | (train_target == 'Smelt') # OR(|)연산자 사용 → 도미와 빙어의 행만 고름\n",
        "train_bream_smelt = train_scaled[bream_smelt_indexes]\n",
        "target_bream_smelt = train_target[bream_smelt_indexes]"
      ],
      "metadata": {
        "id": "TMjmRbgPmvDY"
      },
      "execution_count": 15,
      "outputs": []
    },
    {
      "cell_type": "markdown",
      "source": [
        "해당 데이터로 로지스틱 회귀 ***모델 훈련*** </br>\n",
        "LogisticRegression 클래스는 sklear_model 패키지 아래 있음"
      ],
      "metadata": {
        "id": "Atbo4FjxZSXh"
      }
    },
    {
      "cell_type": "code",
      "source": [
        "from sklearn.linear_model import LogisticRegression\n",
        "lr = LogisticRegression()\n",
        "lr.fit(train_bream_smelt, target_bream_smelt)"
      ],
      "metadata": {
        "colab": {
          "base_uri": "https://localhost:8080/"
        },
        "id": "J4JXC7mPnRjA",
        "outputId": "9e7259c0-5a09-4aa6-eb1d-01c3daf22f38"
      },
      "execution_count": 16,
      "outputs": [
        {
          "output_type": "execute_result",
          "data": {
            "text/plain": [
              "LogisticRegression()"
            ]
          },
          "metadata": {},
          "execution_count": 16
        }
      ]
    },
    {
      "cell_type": "markdown",
      "source": [
        "### **처음 5개 샘플 예측**\n",
        "처음 5개 샘플만 예측 테스트"
      ],
      "metadata": {
        "id": "MD4XIBPgaEwS"
      }
    },
    {
      "cell_type": "code",
      "source": [
        "print(lr.predict(train_bream_smelt[:5]))"
      ],
      "metadata": {
        "id": "mC8gwqBFoBsA",
        "colab": {
          "base_uri": "https://localhost:8080/"
        },
        "outputId": "892f0fdd-6283-4d32-b535-270604c233c6"
      },
      "execution_count": 17,
      "outputs": [
        {
          "output_type": "stream",
          "name": "stdout",
          "text": [
            "['Bream' 'Smelt' 'Bream' 'Bream' 'Bream']\n"
          ]
        }
      ]
    },
    {
      "cell_type": "markdown",
      "source": [
        "두 번째 샘플 제외하고는 모두 도미로 예측</br>\n",
        "\n",
        "![image.png](data:image/png;base64,iVBORw0KGgoAAAANSUhEUgAAAfUAAADRCAYAAADVAiuFAAAAAXNSR0IArs4c6QAAAARnQU1BAACxjwv8YQUAAAAJcEhZcwAADsMAAA7DAcdvqGQAAH9mSURBVHhe7b0HvJXFtf6/Tu8cOgiIICAiWLFHrFhi7xF7i0nUaG5+yb3/m35L7vWmN40mJvbeYu+VWEEEEVBBUEGQDqf383+/c/aCOS/v3mfvffphPX5eOXvv2fPOOzN7PWutWbMmY/To0c1iMBgMBoOh1yMz9q/BYDAYDIZeDiN1g8FgMBj6CIzUDQaDwWDoIzBSNxgMBoOhj8BI3WAwGAyGPgKLfvcwcOBAyczMlHXr1sXeMRh6F7Kystw8rqmpkfLy8ti7BkPfQm5urgwaNCj2SqS2tlY2bNgQe9V5KC4ulpKSktgrkYqKim1+ZxkZGa5tDQ0NsmnTpti70SgsLHT10fb6+vrYu+1DVmlp6c9if3cbRo8eKuPGjQg6oCLoiMbYu12LnXbaSa699loZOnSovPfee7F3W2OXXXaRHXbYwZF+c/P2qQuh9IwfP971AxMx3A+jRo2SsWPHyubNm92kNrSAfps4caIMGTIkst86AhD6AQccIJdffrkTNp9++mnsk54D5saOO+7o+qCpqSn2budiwoQJMnLkyO36d9udKCoqkj322MORVlVVVezd9mG33XaTn//8524+jRs3TgYMGCCLFi2KfZo8IOCxE0fLqLE7yNARg1tduXk5UhZwko999tlHjjvuOPc7mzFjhptPCxYsiH3agvz8fPna174m06dPl88++ywhse++++7y9a9/3cmHzz//XBob289/PcL9fvTR+8j3v392QKj9Y++0H1On7hJ0/r5BB+fE3omPESNGyFVXXSVlZWXyyCOPxN5tDQb/nHPOkW9+85tOS9xekZOT4/rhsssuk4KCgti7W3HkkUc65cjXotuLvffe2/1A8vLyYu/0PtBvF1xwgVx00UWd9hz77befXHjhhTJ79mx58803Y++2BmNGX06ZMiX2Ttfi5JNPdr81LJSuAvP1W9/6Vq+eP70ZKFTf//73HbG3hQMPPFAOP/zw2Kv4YCxRkJ977jm5/vrr5dFHH419khqysrPklPOPk7MvP0UmThkvE3bbecs1bOTQWKmteOedd9z9Hn74YaesYLmHgZcMHkGJgbBRYuNh3rx58uKLL8ppp53mZGd2dnbsk/TRI0gd67yurj7Q3GNvdABQFC6++Nig47clHh9oSJMnT3bXk08+mdCFQ4cjnCH47RU8e6J+QNNkMnekRcRkP/fcc7uUCDoD9FlnzR+sg0MPPdSNDUICd2QUcPWdd955Mm3atG6Zx3hv6urqutRitt9t9wIZiyGEJ6ktnHjiiXLmmWcmVRYwn5A36Vq4TAnmx+YNZfLonc/II7c/teV695/zYqW2Au8S92vLC4lX6OWXX5Zdd93VKTP0QRRo9xtvvOE8myjbUUpCqugRpP7kk2/Lf/zHHbJ6deeviYSBFnn++efLY489JosXL469a0gXzzzzjPzv//6vrF27NvaOoSsASePKu/POO9tcx+tOPPDAA/LrX/9aKisrY+8YDJ2L/v37O6u+IwgzFXzwwQfy/PPPO+8Uy5XxwJIEv9vBgwfLscceG3s3ffQIUl+3rkyWLl0VaPBduwaLNoiFjkuSdZHq6urYJ4Z0sX79ereWizZr6BqUlpa6NUbIfMmSJT06lmHNmjVunbGr1tMN2zeQ8d/73vfkd7/7nfP2dSWIa2GdHy8Fv0+8RVHgt8BvYuXKlS7uhriu9iCpQLmcnCw55JApMmrUECkqypcDD9wtuPkotwb+5ZcbpLGx9Q80KyszKDNJxo8fEXw325XfaadhsmrVBudqD2O33XZya+CrV2+MJPZdd91R9t9/V6mtrXf1Tp68U0DAdbJ5c2ttv6AgV444Yi9X3957j5dBg/oFWlCtjB07PChfI2VlrYM0cEUy4EuXLpW77roroaDBdXfEEUc4bQ9rNJ7gREGgHHUPHz7cBVYQxMGApQpcNgRkEAzC5DzooINc0A8xAKtXr96mDZTfa6+9ZNKkSa69fHfMmDHOasbl6WPYsGHBmB7igv+oEy0RgRt2YzER999/f2cFUo57sB7Lc+LmDdfLvVkDp67wZwrWww4++GCnUFHnzjvvLBs3bmylVFH/YYcd5txXe+65p4vo5nOeB802nchuxuToo492fcM9qZf7436L2vGAu5+x5F88OjxX1FjSJ/TP1KlTXRAhdTKXeCYF92AZgbJ4hOhTyqHBM5bhfqc8c0fbSL2s1RH3EQZl8Daxjsd6ehQIBKXPERq4A3F/M7YENkbNJd5nvvEc1I9Qoo1hLwBuf+rlc9rJXOW5aWsUmJ+U/eKLL7Z5ZsC96Eu+T72MP/dsT4CV/h7fffddVyftZJ1z1apVCduAYkp55grKaviZiBthjlIfF7/3L7/8MnIsmRs6lgR2UZc/hxkLxhsC4HfLPZnvxEnwm2J80vXA6NhrO5FhyAR/CYR5gXLIb1LjLUaPHu3mPL895ogvH5EbOof5m/bTR1HLKsiWo446ys1NZG0Y/fr1c+vo1MP9aB/9w5yPN/bIQH7LyCDmUjzwW+f+LKt+/PHHsmzZstgnLXBcdcRU9/es1+ZKc/BfRmZG8D0JnsW9HQnGnvvzW44XWA3oN/qWpbHXXnutlYzzwfOiBLD0wNjQ1nSRlKWen58nZ511uHzrWyc5cs3OzgomQJGcc84RjkQhfR8Q+SmnHCxXXXWKfOUrU4KJmuU6Lx5QGL7+9eODjiqNvdMaBxwwydV1xhnTAmGfFwiGcXLppcc5RaE1Mtx9aF+mG5itrzMytr0/n/MjYrJG/bjTAT+Miy++OGjfpe7HCxknuz4UBm076aSTXLDFV77yFVcPBHPqqae69Zew5ofwOOaYY+SKK65wwobP+Q7P6QNXFJGbCAw+p81nnXWWc+FSh4K/mYx8xg+PsggmflDxABEQDAb5RYE20UYCQyBu6qStZ599truHomXsWvoOIuQ1//I6/DzJAuH0jW98Qy655BJH0tSFcOc1wilcL247xpFLFSsuH7QJkiRADUWJz6mL1wjTcJ0IGIQh5XQsEQ7+WPIZZRgjhAevIRnWwun7cJ18zlgh+OOtVfMdynEB2s139HUYEAnziHGhHyjHd3wwPxlLnoFnoQxjqfMlCgh3noOxjwKKD8Goxx9/vOsT5hPl6bf2AFJnLtNGnhuXKL8tnsEHz4gSwDxhXCgf1Uf8ZohwRjHmc56HOR3+XXIvjZTWsWS+oISh0OlY8n36jchqFCWNI6EfITpkSqoWHHUzv7kXRM296Ufq3XfffVs9F20kkBPZAJmyg4J5THnujcIBqBO5RlnKUQfPwXznHuE5kiz4HnVpf+jc1NfpAtl+3333yZ/+9CenAMTDwCH95atnHSknfO1oOfGco+XIkwKuKcyPfZo+4BXawDxr61lQInlmnr09SGkENm+ukldfnSf/+MfrQUe94tbCzz33qEALnBwr0RqVlTUyc+b8oPwb8uyzswMtJTp4JxngDZg7d4k89tgbcv31jwWdlB38+E8MhMnWiFbqf+aZWa59y5evda+5L68//3xNrFTXAEv1hRdekCeeeELeeuut2LvpgfVHopmpC2uM65RTTnECJApofW+//bYrT3SobxEgfPmRYlXceuutrsyDDz7o1n6IEib6VMHfCC6e46GHHnJlZ86c6YI60gVCHYHKM/zjH/9wdd58881OMPC+Tmi0c9rO5ytWrHCvtT8TaebJgPp4XurCQ8Nr3c4YBbRtLR8eS8geEnr//fflnnvucWXuuOMOp5FfeeWV2yg3jOXrr7/uytEHRO1CihCJAouFgCECbe6//35X9vbbb3eCH2ELQaUKlkSoB8FG28Kvo4CC8NFHH8lTTz3lyn7yySexT1oA4WIB0kaehTLMKRQQiMMnt1SAh2fWrFmuPoQxXgMUL5+EUgWBg4wddT7++ONuDfOEE05wVxS0DQTPPv30062sZJ4LxRXS++tf/+rqZC5T7xlnnNEqelvHkrnrjyXWKDtI/HVeoqkhVeYacw6rmbmCCxePRTxFOR5QPDAIGMdbbrnF3Zs2YFkiA1DcFJAqzzNnzhxnUfM3MuyVV15x94XIISVInp0EeLaY59R59913OwscJRDrPlXgfaKPqYt6kVf0O687OzaHvinfXCGrv1grC+Z8JB+8u0gWf7BU9jxwshx35pGSFxiRvQ0pkTokvXZti0Cvr2+UlSvXBQNeHGig0Vp5TU1dMDE6JmgHbWflyvXBv82yfn2ZVFTUBNbWkHb90DsTCIEoV2k6gKT5kYOWfljphEE8EkIgafkw6C+EJEJOXc5YeLgNsciwZhX8zXt8pu5ZvtOeICfaTNt5Bp4FQDC///3v3Q857AbuDPjPwL+8xqKJt+WJsYzn7kcQo5AgABknwLjzHeoMW4IQqD+WuIDDY4mLkDVAhLsuYeDSpq2MXXs1+WSBwGPs48VH4M4m6A0S0LHk2fgbT0i6VhtzQBU37k8f8Nztsdqow1cG+RuLGO9KFGgDYxMFnouxxQqjfcAfS9+rANn99re/bbVUxViipNJHnTmWjB/PoVYw4Hf/4YcfunbrmKUCfiO0m2dQ+cac5jeEoYDR0JvQEPDYPTc9Irf+/j5ZsnCZLPvoc/nw/SXy3MOvyv6H7y37H7p3rGTvQXq/OkOvBxYB7sWvfvWr7sIVj9BEEHQ1uCdrXv4a9PYMlAPWJ7HUdHxwc6M89CSwBohgx2LXduKJied672tA4WVc9NnxbEGg/m9IxxLvhZbjOxBgZwOP2t///nf3Ny547s0SG+u1v/zlL50XJl1gubNUoM/EujFKQnfIj/aibGO5uxQ8Q0VZpeTm5UphG1uieyKM1LdTIHywVPRC08YlGc6OZOh6YFWx5okLGwtex6ineaVwQ7MExFoyRE4bseTStdB7G3hOnlfHBwWH35AfOMWYoTCHx7Kr+oilJdzkBHThRmd5gPV93/WeDngu/9mx/rlPPA9hTwXxX87F3r6l+x4FI/XtFPz4WAPUNXpd446KTjV0LbDQWUMme9W9997rxoY8CgjongSscmI7mDfEZdBO1t/99ee+DLxL4d8QMRK+BUzwGOvXJBjxxzKd3TCpAsUBIsdTwD1ZT//zn//sXPIEf2JdpwusfZ7Vf3b6IlHyru4CHhWWRPz4BYBn8pBjD5ALrzlbSkq7dg97Z2K7JnUmN/sDCTzqyLSmvRGsDROM46+pdxUQPgScsV2tPeumfQUIYqw61n3jZYbzgYWIksb6cLyo8s4ALmQE5fLlyzts90hvBhYrvyGWthQQCmOJQpbMWHYkuPe//du/yemnn+5+Y8g7FA7GizbxeUcB+cmzd+X8SwZ4FL773e+6uAYCgX0ga4aNGCLjdh0jubnpBXW2BfoFfoFnEuXuwOulsQp4TduDlEh98OBS2WWXUe7vlq1l411UOYljehpYF2lreYfAIyKWcUWxLtjV4IfGOhzbd1hziweiWNnbCxh8tpURFZrOmhjBOgQ4IYyJcAX8ELG41EWoIIANAaD70gHf8YVWqqDNtJ1n0Oho9vASQR5vS0xHr9MRkazBTDwLz0SwVzp737GCyBzFHFIhybYzArvo53BQIWWwxAHPz/Ymguz8falYcbhLKafWBQpPvDV1XJ9EKZONCsHQFjqqP7kvAsgfS+ZpT1xTJ4CLrWEAYc4WLZShdJabUGAYW4IgmbOA5yeSHqvcHyfGkoRA/L79seyKNXV+6ygTWOQozQCCgXyZX/ECAROBOAqWF9iuqVtbMQTY0sYWwXR2Zvjo6N869bF7gN838swHny398DOprqqWibuPd/vTQXZOdvB6nKxfs1GWL23fThvkO/KGHQIaWBgF5ALLWPRte3dLJZV8Ji8vR446ap/gh5ErVVU1gbAZK/vtt0vwYx4nd931QjDBW6dXZW/4QQft5v596aW5weRKHNG8++6c3DRUXnxxzjYJZQDJZHbeeYegrvdkw4YWwct+efbKs2Utqn62wHHyG9H5kybtFAjXmkALan3iDmDiI+CZ6PzAEwl2iJ91JLanoPVGAeHBflhO3GF7SCIgCNhyQsAaQSZsofFBZCz7fiF1XJoITAQoa3QcKIBLzweEiLBCeLAdSqOxfSCQ+EEjVHgerDuEHUKHbWvz58+PlWxx0UNabLeiPMKB8hAHVgdEohG9CoiIHzufRfUl1ieCgWem3yFD9uRysAHuu6h+pW9IxsHEZ5z4fjrb6vg+ChREhGcCgcyPjjG76aabttGQKcNYEo0eL8EEz8jn7FdG0BFAxDYvtHK2EakrGouB91GOaL+OJWvn9Lt/AAsuTAQuY49ygNJBgBMR08wZ7onmrwKQf+k3ymHlL1y4MK5VQFmel7aiwCHsEfzh8nzOWCJg4rmK+R5KC4FfOpZs50J4IugZ6/AaKwoc40A0eJTlyvzFuuE3plvtyNHA3OY7+sypgHnOPRlfnolxZ1xZNmCe+oDwSZATboMP5iNKGHXy26Asyhm/S+qEQBQ6lpTjd6NjiYBHljCW9BcKAnOI99mOyu+RPnzppZfc99gTTvKSVNzb/DZpJ6RCv/K7ZL4xp1j7Rw4omI+8T38w7ynP8g+WI+1CGWdeIVNQUjTJFbsA2ONOWyEuf4eBgjnJGKIIhYk1DMaZZ0XmMVaMWVgxBjwLMoQ5EXVPBfMFpZs+jVpaXLl8tYuAP+iofaX/wH4ybtJYmbjHOJm01y7y3IMvyfx3P4yVbA3GnPvTh/FkA8obxhJbQePJY8DYs+2R/mcbH9zRHiR1nnpJSaH8z/9cFkzwWvnznx8LHqhFEy8vrwoeauvWJAWJXyBUkr58/PEKR7CJMGrUYFfnRx+tCB582yxkI0YMCgRQf1cXGeIAWeLIbrdoEcfVRddP1jvaDpYt+zIgqGhNiUQfP/7xj+VXv/qV24cdfh4FApsBwEKJJ1z4HPJDmGPlJgIChB85PyJ+rAhqH7jzaBdC+De/+c0W6xJBE5UOlPoQxpTnxxxP8QBYUwh0tYwRLkz6bccy0xGqauAIKNoLuTChw25Xfmz8wPksnrsRguOHSzuBKhpRAhTwXJRXS4d+Smftjr754x//6PamI2D0mdjeE2W16Fgi2Npaz0a46fgwNxA0/h5bfQb6E0WJ8gCiZizD/Uh5hALEAbROhAn9Gs6MRb0oiAjgn/70pwljIxg/5jLjoII/TOqMIUKGvk6kQKF48lzqyeE5mPd8F4Ec7lfGgPvHm5/sc2ZuQiLaJuqnrel4pgDPCoHSf8xlQB9SX7jfAW1gbkT1iw+eQ8cUMJbM4/BviLHktwZRAcaS+cR80bHk+ZAFvKbP6T9tA6SIUs084R6pgjnDfKMdIErW8LulHO2nr5h7kAv3QylgLuv2PYByj0dC60R5i6f88Tvn2ZgXbf1u6Qd+c7QB8MxRxgHKyf/93//JD37wA0fY7QEntY3ZpfX206rKavl8yYq4cp7n4f5sw/3b3/4We3creA5In1wEf/jDHxyvxAN9+ZOf/MT14S9+8Yu45J8sUib1n/3sti3E2lcAeZJkBY2TRChtWdhdBZ/U+RcLz9AaEAACT4VLFPixoGT5pE6Wqb4G+gFipy/YytSWItJbAYkylr4QDgNybMsq7I1AFkDAkEY8oISypNOXoaRO4B8eVmRjW0ZURwBFjCU7lK6rr77aBSCGSZ35iaeDrHt4X/HExTNYqI+MiShIf/nLX5yCF0+RSBZJud+Rl8XFBUGnrZaFCz+Pa8n2VmAxoLVDolhGuJl6CrBOsXZoU5RVsb0DCwS3NtYVf0dduDSxNBCECEWWGLoi+rirgWBjHiMgILW+Sup4iXDzYyVHjTcX1i1WbnsFZE8DhII3Bks66rm5kBN9dewVzAEuFDsIFtmNVd/ZYPmPJTu8Gnh+yCQZdpfTJgxECJolxXiEDvAc8Xvl9MKOIHSQlKUO1BDqY7+RVlBrrycJgp7Ypp6GRFY68PuOsn29L7eXZ2wLfbUPUpnvfRnhfuiq5/bvG++eWiaZNlG2I9ueNKkbDAaDwWDo2diu96kbDAaDwdCXYKRuMBgMBkMfgZG6wWAwGAx9BEbqBoPBYDD0ERipGwwGg8HQR2CkbjAYDAZDH4GRusFgMBgMfQRG6gaDwWAw9BEYqRsMBoPB0EdgpG4wGAwGQx+BkbrBYDAYDH0ERuoGg8FgMPQRGKkbDAaDwdBHYKRuMBgMBkMfgZG6wWAwGAx9BEbqBoPBYDD0EWSMHTu2Ofa3wWAwGAyGXoyM/fbbz0jdYDAYDIY+gIwDDzzQSN1gMBgMhj4AW1M3GAwGg6GPwEjdYDAYDIY+AiN1g8FgMBj6CLpkTT0nu0mKChqkML9JsrNsCd9g6G40BT/DmtpMqazJkurgCkRBywcGg6FXo1NIPTOzWcbsUCV7TCiXfSdvkpFDaiQ3p1lycpqCz2KFDAZD9yH41dc3ZEhdQ6aUV2bJnA9LZe6H/eSjz4qlsjo7VshgMPQ2dDipjxhSLWdOXyWH7btBSosajMQNhl4CLPclywvlrqdHyrsLS6Wh0X68BkNvQ4eRemZGs0zbZ71cftpy2WFwrZG5wdBLUVWTKS/PGiS3PLqjbCjLjb1rMBh6A7JGjRr1s9jfaSMvp1HOOe4L+cYZy2VQaYNk2PKcwdBrkZPdLON3rJIp48tl0bJi2VSeE/vEYDD0dLTbUs8NCP2yU5fLaUesluxAGITR0JAhK9bkyxdr8mTtxlypqSUox2AwdCeIexlUWi9DBtTJmBFV0q+4MfZJa3z8WaH8518myMq1BbF3DAZDT0a7SD0rs0lmHLdSLjjxC6fd+6iuzZSZcwbIk/8cKp+vKpSKqixpbDKfvMHQc9As+XlNAbnXycF7bpSTDl0to4bVxj7birkflcjPbx4v6zfnxd4xGAw9Fe1yv0/cqUKu+tpnUlTQFHunBStW58mv79hZHnpxhKxaVyC1dVnS3Gw+eYOhZyHDBcOVV+bIoqXF8vYH/WVQ/zoZPbym1RLa0IF10hT8fud+WBqoAfY7Nhh6MtI2nbHS0ewH9GuIvdOCtRtz5L/+MkHeen+A1DeYZd4b0T+jUQYGl9v3ZNguAFnjYv+/W8fL028Mib3bAoJejz5wnYwcWh17x2Aw9FQk7X4vKiqS6dOnS0FBgTQ1NUlx7jI5eZ+bpF9xXaxEi8v9t3eOkQ31x8nEiROlsbFlne69996TxYsXu799ZGVlBRZBi+bf3Ny8pXy68OsD8eqkTGYgqfyylKO8Qj/3yygox0U/AMpw7zDi3T/cTurRunyE69V7+u0E4foU4XqTaWdJQObfKKyQ4VlN8s+6XHmutkCqmttWzvw2xHvuVJFsneGxCo+lItxPybYzOzs7YVk+VyRTJ+2IGscoaJvTGUvFkCFD5Ctf+Yrk5ua676xdu1ZeffVVqa+vj5VojQH96uS/rvxIdtu5MvZOC+54coSLiA/u3vKGwWDocUia1AcPHiz/+q//KsuWLZN//vOfcsx+C+T4A94IhEusQIDn3hzk3O5nnHmeHHDAAfLAAw9IeXm5rFy5UtavXx8r1QLq++pXv+oEMoIIYfPiiy/K8uXLkxJ2YZSUlMjxxx8v+fn5W75P3U8//bSsXr3avQbcZ88995S99957i1DLycmRRYsWyTvvvCMNDS2eBz6fMmVKKxIA1NmvXz+ZPXu2vPHGG+690aNHy2mnnSaVlZVSV7dVyaGuZ599ttWzDxs2TI477rgtbaT+6upqeeaZZ6SsrMy9B/Ly8uTggw+WsWPHbmkT5PH222+7tqqA53nPPPNM9/zc38cHH3wgc+bMib0S2WeffeSQQw5xY+ILfl7TzqqqKglUNvl6UYXsnVMvlJhfnyN3VxXJ2ub4AY6QBmPJs/Bc9NELL7wgX3zxRVpjCUaMGOHq9ImHsYSQfEBURx11lOywww6un3jNczM+2m9gwIABctJJJ8VetYC2PfbYY7J58+bYO9tixx13lNNPP93Vdf/997e6P887YcIEOfLII13f6Vg+9dRTUlFRESu1FXzOeB5zzDHy7rvvyqxZs2KfREPHdtCgQe55Xn/99dgn8ceS+zKXaI8ChXynnXZyCjl9QBv/+Mc/tioTxoF7bJAfXb7EZYFULFleIN/7zW5SVmnR8AZDT0XSa+qFhYVO2//kk0/k9ZkvyBlHLJDhg7cSGFmpfn/3WFm7Md+RIeT1j3/8Qz777DMnRHwMHDjQCUrqRFB/+OGHMmbMGKcIfP75505QpQII7YwzznD3RKAuXLhQlixZIpMnT3bkvHTpUifAIJs99thDTj31VCdUIWU8CBAHCgGk+OWXXzrChGBpO5/718aNG13ZdevWOXIFQR86YTlz5kyn8GhZ2gBhKAEPHTpUZsyY4QiCdn788ceO+Hhunp92ohRATNOmTXP9jUVFW6kLZQICWbNmjWzYsMGREoL/5JNPltraWtff1Kn3X7VqVStS5NkDJc71OXVqORQ1np36GgIr7MOGHKkLuHh0dqOMzgyurAZZ0pgtFREWO4TDWEIY1PvRRx854kp3LMHw4cPlrLPOcmRFnVFjCeinww47zD3Tyy+/7BQYvsP4QG6MJc/Uv39/Oe+881xfPfroo66PeOb99ttPdtttN9cH9F8YKFH02bHHHuuUUBQqXwEYP368a+eKFSvk+eefd2N50EEHtRpLBW1A+TvnnHOcF4uytCMeUABUsRk3bpwbS51vAMV0//33lyeeeGKLJ4yL++pYKpgDKCObNm1yfUjdKLD+3Ahj1do8mbxzeavAuX7FDW5Zbc1GC5gzGHoq0lr0HjygTkYMbi0El35RIMu/TG7by6GHHuosnMcff9wJRAQOwhvSQoj57sxksO+++zphhYUCkUC41En9I0eOdMsGCLLi4mJH/ghIrB7KcUFwkBFWUWlpqasT4tDP9cLihpgR7BB+GCgC4fJqLXJ/LEra8+STTzpipgztfe6551z7eQ6gwnzevHny/vvvu3I8DwQPWUHikKgPSMm/N1eUJYawR7j75VBUfNfu5oC8H60tlL9WFsm65gyZmNMgFxVWyiC3zt4aKB+QDmTJWPJcjAP9ePTRR0e6iNsClizE/tBDDzlixtMCeWE1H3HEEa4vAWVUmZo/f757FsgKxRNFQ8eS7+yyyy5O6dF+p15eoyxg8UYBIub5IMowmKMohxAjz06djCUej6lTp7rx9IGlzPu+kpcI1H/44Yc75c1XDnwwloydjiNXeCzTBTtV3nh/YFBX7I0A2cFQ7jp2Ww+EwWDoOUiL1AvyGyU/r7WAX/ZFkdTUtS3AsWImTZrkrCqEkAKLDssZ0sOSSQW4zxGCYeHHa6xzLDqIgAu3Ntac77Lkb8iXzygfD3yGoIVgfbd2MuDetIM6otpJ+3kOABFSljb5Alpf004lts5CU2Cxz2vIlduqimVTU0Ds2Q1yaG5N8O5WCxCLfNddd91mLFFuGEtIONWxZG4wR958881WVj5kRZ3Ux+coNVjpLO2gkGk/MZZvvfWWU2hQHtvqd/pa+90H34PQeRYUBR98hpWM0kCb/HpRbLCcUdCw7hUoHSxHofAkspAVPCfKHQpL2NPVVfhkeaGLk/ExsLTtthsMhu5DeqSe2+T2t/rYXJ6cdY2ggrgRxL4liaBjLZS1T9yUPRGsTUK+WMsdYQ31BuTGSJynrQysdn+FnHHUsaypqYm920KWjCXLLBB7KoCwWaNnCcUnP+qHGJk/rJ/jSsc1jhWP58UH7WGMcFFDwJAiFrKvyLUFvDooLcR5hMeaOlFmUK4WLFgQe7cFeEG4P655LH0FdaCUJdMGlAz6AXc7CmR3AUKvq28tIgaUGKkbDD0ZaZE6x6fiivPBaU99Hbh0AcFVUWB9GRLjYp2dmIF0gCsdy5TlCIhDQewAVidu/TA5cC+9NxdtiQIWK7EHWg5Sps4wIPNjcqvloqJK6Z/ZLAvqs+Wt+vzgk94X+cx6++9//3tHuD6wpFEWwu+DU045xSkVrL13NVAYcN+z5u4rS2EwlixB+GMZ5XVIF+xhZ3+6j/xAoTcYDD0XaTFxYKi4a3sDXgSsND9YSsH7rM/inucigOqEE05w1n2qwKVMpDWWIkFauHq5IBqsTty4YZcsa/24m7k30fUEhrGOGwaeBiKntZ2Uw83sk8GIzAa5orBcziyolpKMZpkfEPpdVUVSlsTWtp4I3PhYvL4iRD+wY4HdFgQ3+sATgLeIYMaudn2zrIDrHWs/USAdYMxw8/tjSXxARxJ7GNvj795g6E3oE+Y10fMaRe5btrz2A8oQ0ATIYUUT3KXAwiGQKhEgbNzCfD+8Jor797777pN77rlny/XII4/Izjvv7ILacBXjfmXtmchkCBolANBeXvsBZZRVMkEp0ItnwYXrW29Y9QQZcs97773X/UtbIDEUC5/Y6Sc+03L8S5AeEdtE1UN0bGmbUVAp++a2POPLtXlyc1WxrEmwpa03AvLDQ/Haa6+5PvXBWBP05m+F7CrgYWGJQSP54wHXfHgsicBHQYPg0wlQNBgMvR99gtQRwAg23MpYKxdeeKFccMEFLVu0PIHNWi+Cb+7cuXLiiSe6clxYO1EuWB8QNJY63w0LWyKU2ZcNuXM/LtqEm5x1XUgdsM4M2fOe3huXPkTvr9vyHETiE6FN1DfuYy6irGkDUddaJwoGQWVEyfM39ya4C0sPaxOCUBCx/8orrzjXPuUozzYongcig9TprY1NmbKyMVNuDazze6sLAwsdguj9JhqKFGvleDSIiGd3BDsffODGZqsbwW6sy3clGFN2SBB0yDa+RNCxZN7qWGLZM4/YpsdYGgyG7Q99ZiGctc/bb7/dRRdDsFwQcNiqJjgPyxYrR8thrbHVKREgBLWuU4H/HZQMyPfWW291ygX3fumll5wF7e8rhnjwJmAp+hHgtJH2E0SVjNBOpc1atj6YEndVF8vPK0rljfo897ovgGdjrfrqq692pI2yREIXv9+xbulblLO2SLUzgCeIiHq2LrYHqYy7wWDoW0hLYmOohj2D2Zl+XHT3AAuH9WguBHN4C5MC9zWfa1ks10QgQI2AJPYrh9dYceHuvvvurSziRMCSgqz13vydyM2aCAhu1t1Zg23L3UrQHe0kIr0t1AZWeaVbP+87xAChsxyB2/qGG25wFnq43+kbvCAEHbK1bq+99nIXyzP0Nf3sL9t0JFgHJ2kO8wwPi96bdqPA4b0hqRPWvI4lXpvOBMeztt7vIFJXb8qCwdCTkRapV9dlSU1d668WF7Vel4wH3IZY1QgsLFIFa8tYUKwF4xJOBWwfYu26LcLiHiR10SQvyQIhS+IQvABhNz3bli666CKX/a0tENHM/cOJY9IFwp4EL5BVW5H2WKCXXHKJI4mOwqeffrplLP37a5wAnoVULV6WDVC4GCM/4Iv6iZHgnixtoFyxHx2PRngLJO3B4mVZQpc1NBGOBr/5yx0KlkEYY5LXEBmvl85T6uTiu7jnUQ6Zsz4ozziz1OLv3W8LKBh4DvAacT+9N8RNlDtzhvnNM6DIXXrppU7J6Ezk5zRtc6Typgpz6xsMPRnpkXptptSEklLsOKw6EDhtb3choA2hCbn4JIwgQxizjhyVrQ2LGMHuB8IpEOwEemHl+OA7CGAsdtysvCalKATtEwaCEoJESEcJe4QqZaIsaurlO7TLt5apj9daJ3UQjEcQE8Tgg3bpuijgPrSZNvI9hb4mOE7dxpTlfepQYFWG66QNfAdLz3fNaj/4dSYLEq3gvQiPJZ4NxhJyTnUsqY+IdPagY5EqUJ6oEyUCDwf9CglCfMQ7aD/R53yXe+h6OTn08aSw7BJejvHB0gbLIgQPsj9dLxQN+oYkNJp0CNJmFwTxEX7fMwcZZz5vK07DB+NDe8lIx7KM3hvFhLmAMgPha/xFR49lFEYMqZHC/NZzflNZ50XWGwyG9iPl3O8I1HnvL5TDpm6QQV52qfzcRvnnewOlvCrHuQnZFsRWobC7GuByRhgjfLHMsULYhoWAInVnvH3DbEHCFUrCDwSbAosIAkDAUre6KLHeWZNmXzkCG5IjeA0rEBKAGCAg2otlyb0hjbBAxPWJMoBlGE4GggClvXwf4cs9qJN74MIlMA7yo720jUAsUuSivKDIsBWNoD2CnFhfpw7ayoUVqHm8qRNy4vmpk+9D6FjDkBqKDf1AnfxNqlViCiAFiIzgOepBoeFvnp8+Qsmgbp6dvkkV9AdrwTqWROmzDY97xTssBRc3Y0m/Ek/gjyXg2bC+URZ4PtpJH1EXa+H0CaCPmF96sAlgDvCMPA9ESDvoN/qc7G+QPs/rX4B+jwf6l0BC5rM+j44n76Mw0Hc8D+1ECSCILapOLG/mEoptW1vWAO2j/Sg6mvudZ9WxZO7xTCiKKLb0PwGVBG+GAenrzou2cr+DGV/9QsaP3vr7DW4pD76wg3yxpmM8TQaDoeORFqnPnbdQhg+qld0nbI0OLshvCqz3LJn3UT+ZPGX3hKQOmSJwcQlDfAhvBM3DDz/srLsosDULAQdxhAPLEJ4ISIQrBE19uCYRWuz3VgHHdyAJXrNXmzKU5XsIYSylMMEAnh1hTJBbmKSokzZDNAhZrDTqRGnB6iMLmrYVEsIdzX2JUKYca7SQAyTE5wCyRhHge7hytZ08P+5jlie0TgQ8fUk/ap24Z7F4cSXT1wBlA6sZhQfio04urGXIN8qiTgaML4oQxMe9qRMwlpBzFBh3lA/GUiO2fdCX1MkzUR99ivLE/nyfrPgernieiXGnLPMO5Qj3uNaLF4HnRNmhDO3Ui9fME+Z1PECYKJ4oSapQAGIxGHs8CCgNLAPxGqUrat4D2sG2NeYBXqu2ABGjNOmyA9CxpE3+WOIxYB6hAEQhFVLfZacKufDEL6TAyxy5al2u3P30SKmuNRe8wdBTkfLRq7g8Icop48vkums+bHU048aybPnpjRNkyr7fcKR53XXXRVoMinAEN8IqHrBGEEaQWZQbHGgZH1F1UoayPiCAKEIHWp77KpmGgeWrLmBFvPLh5473TN1dZyro6LEEydYZfqbwWEY9s49EYw/0+8nMpbaeScu3dU8f9ENUee1HH4n6HSWA6H+eJdHRq7k5jfKDS5fItH02BvXH3gzwxGtD5Hd37bxNljmDwdBzkLSljjWESxmLFats8NCJUpT1gQwd4FnrgVY/flSVrK0+SIbvsLNzLROliyUddlsDFVRRAisMhCVlEpGPlkmmznC5RPWCRHWBzrh3d9eZClKpU9sQr42KZOsMP1O43qhn9q+22qHfj4dU6gLJllPEK6/t8q8osM7PUhSKNss3eJtQzuMpAGdOXyWnHrk6IP/YGwEqqzPlxgd3kjUbW/IjGAyGnomkLXWsAoSDWk+47sYO+1B+eOmHrQ53QfYsXjFSbnt6qqxc27L2hrXu77c2GAxdB1z+KNjqrWBJhmWosKKAhX7OsSvlnONWSn5u689eeHuQ/OLWcS4fvMFg6LlImtSjgBD4l/OWybEHt966g6xYsyFXHnxhuDz/1hApq7SIWYOhpyIrs8ktp5371ZWyz65lgQIf+yCGVWtz5UfXT5RlK1M/x8BgMHQt2kXqoLS4Xv790iWy/5Rto5xZWtxckS0LPimRDz8tCog+T2qTOHPdYDB0LkgsM6BfvduKuucuZTJqWE2gpDe3WkMHxMn87KZdZP5idgnYWrrB0NPRblIHA/rVyTUzlslhU+NnZsN6bwquZguyMRh6AJoDCz0QAAl+jhD6L28bJ2/N51x4+90aDL0BHULqID+vwa3Hfe3YVZIXaPwGg6H3YtGyIvndXWNl8ee43I3QDYbegg4jdYBLb++Jm+Wik1bIbuMqJNNkgcHQq7C5PFseeGG4PP7aMCmvJCjWfsQGQ29Ch5J6C5plz93HycnT82XiqCUysGCB5GennqnMYDB0DWrqMlzcy+wFpfLPuQNl5dp8WyYzGHopOoHURc4++2yXCvPxx8iStlE2rf9UGutWSf+SBsnNadn+RpY2zrUmrSVgL/vMmTNTypcdRnFxiTsnOze3Jdq+pqbWnUNeVbU1CxiWB9npyP6m64kk8CBb3Mcfc5BMS3dMnkyGsl3cZ63RcqwlqUDnz3+/5Z3g9YQJu8gee+y+ZZsQ/8yZ8658+imZ2lrey8rKlsMOO0wGDRq4zZ5iyr377uzYq9YgAxmpUBcvXiILFy6IvbsV/fsPkGnTDvFykGfIqlUr5e23326VCCUzM8vtVeb5tU319Q3y5ptvROYRUGQHZUdmNcqapiypjhD2hYVF7rkKC1u2MNbW1rk85WVl2wZPJgMyn02bdqgMGMBabgvI0MZYaqY2EqkcfvgRW+7pIyMj082nF198YUsGuNzcPDnqqCPdvFNUVFS6POuNjVv3azOWEyfuKlOmTG41lrNnz9qS0S0KW8d2UDCWy2TWrFmxT4J+D9qzezA3yDqndTY2NgXj81bcDIpsHSX7G3Oao1hra1syA4IRI0a6z7JYFA+BbWtffrnajanuQ8/JyXW58/Pycl1WSMb88ceflHUbGmRjeY5srsiR2rpMaWhkbI3MDYbejE4h9XPOOSdhRjlShJIMg5SeHLJBClDyViPMyVaXyulWCvKDc1qZplKFzE444QSXNYs6yXeOwCaV59e+9jWX8lNzaZNWFWH30EMPBaS50BEuqUURhGFSR2hzKhupSCmPECX/N7nMybNOelZAilNSeHJvUoIizCHd733ve27P/7333tuK2GlfmFghLtqBkkQaUJ6LlK4+SCHKc5M3ANLjPqQ1Jf86z8ihIBAcfYtiQB5xiIw+5tkOOuggdw9SsEalSt05q15mFFTKTgGpv1SbJ/fVFAUUv7VP6G8dS9rHvRhLnpE6Ux1LkhyddNJJLsHR448/7uYGfczpdhA0ddJX1E/a13DWOUDee/rrv//7v939IfIzzzzT5WYnhSt9xPcZM1K1Mo4oC9yHdLO8j4KpqXMZX3LbM2bkbFdi9sFcueaaa5zC9Prrr8vf//539z7tQ4GkTcwZUufS77xHfnvmB8qC1km7mMt8Tj+QKOZXv/qVe2YFijDPEp6b9B2/PfLQ33jjjVtSBCuSzShnMBh6L7olkwRCH8IjPzgkiqAkZzWCCoKAgFIFApA86nfffbfLJ06dDz74oMsbrofFoEycd955TuhxEhdluMj7DhlfcMEFLmMeQBnhPS2jF6SFMFSyghDPPfdcl6scUtVy5H3nPnwG8flA2IbrjrKUIRIOP6HdUaCfOECEfqP/UB6oi7znWHfTp093dQD6ASUH6x0rknKUf/LJJx1JcB9IQcE52gfn1MjVReUyIbtRmgL++LIJm7018IyQNRCyZSypkwNFIHnOB48i3URA6UDR4OAWnRvkumeukKudI1QZS5Q2SFf7Ty/y6APIU3Ob0w/k0FcFi3LMEdrMca5Y2ACFjfnB/fA0aJ2cnEaed8ZSPUs+aA/3gCzD+dQ5wAeFYt68ee5AIOrTfofIzzjjjFb9jnLAWDBuUcoDQLmJmpskeOL+JJaJl13OYDD0bXQ5qUNAHOiBUPJPBcMSQYiTtQ4LLBWQ+pLv4BL3D1zBlY81zv2oF6GL1YZb0he+vIas+Ywy8YAVhcDFukPo63t8j/rU3Qn0dVt1JgKHbmBx3XXXXc5iDQMywfoC/ueQAYoDngF1yaMAkFmMcr7A5zXlqUctPwj9yNwaOb+wUgZkNsuShiz5dXmJvFbHUalbrcN4Y8kY0O8clJPqWNJG2hq2MtWS9tsZBfWQYOXrXOA7KBfhQ1Z4zftKqjo/mAv+WNJHkDJLNGHSBswtyBtFxJ9/gPq5P3X4SyHcg9fh+UE/3n777fLnP//ZKR7JgjpYzuJeKKzUbzAYtj90OanjVmVtEcLyXYoIPdyWpLPEIksFnE6GUOVoTepRYFFDvrjXudoLyAQSB2pFoTjccccdzvXe0eAeCP6OsLo45Quy4IS7xMBCr5XTC6okP+DON+ty5feVJbK4MUeaQuutLGVwMZYVFVvPAICQOaEP0scN3pWA3Lg62lJlbuKB8OeXApc7npt4p9KlCsacS+dYMmBu8tz8a1a6wbD9ostJHaETz9JCiCX6PB70O1FC0K8T4rnhhhvcurRfVq1YPvetqTBwlQLWZRUIeQ7HCB9dioVMvbhKw0IW6w03q17x3OttgWfQdVEsNAXCXa1DJSGUD9zuYTc/Vip9Qzupr19Gk0zPr5HCYGbMqc+Ru6qKpLwZRWbbMdF+jYLf710FLGZc/ix9oMQoiCH47W9/u018B650LO+wBQ/4zB8jxsyfMwrWxXG947L3FRsF9TNG9LMqhID5xuuo+ZEOWINHgWIZxleWDQbD9oUuJ/XuBISNsNd1VwWeAaKJWYNPFH2POxmSCn9fgZcBTwQXgp7janGdhw+zoRwBTazRso5/6aWXOkJKFRAGbmbWUIlFIKaAe+N+Pvzwwx2Z4TL2AeGzXEE5ymswIYoKFnZtc4ZsbgqmRcBfAwKCLwmu3gKIk37EavaJGpc2SwS+Sx2SJgCRIDXiD3xA4gTmMT5c3/jGN1x/bt1d0AJIGSud+TBnzpzYu63B2ebMK85cZ0eIzg+UD77PZ1FKRaogFgTlEG+B/5wGg2H7wnZF6lFgTZPoZiK/ueJZTbj3iUrGfR0lNCF71nNZ1+RiSUAVCLXwUCogWdY8b7rpJrdeTpQ0Fh7kgdKQKljDpU18d9q0ae7eBH/RRqzH8BowZEbQGOUoj6XJ2i2BYKA2sMgfrSmQtU0ZsnN2o/xLSbnsmY21v62V2hlYsWKFs6hZolHLlr7ldZhUfeAVwVJN1g3OWDH28+fPb7V+z71QejSegYugNoLpuLiPgvlAHxI/EG8NmzHHi0P/Yk3r/EChYnw04LI9gNCJXeA+Ud4Cg8Gw/WC7JnVcoEQmI2Bvu+22uHuGAZYWViBbxKJIHeLG4qMeLix0IsBx2atrHAFPMBXb+KgDBQL3K9unWPNHuUgFkB7R5xALSwp6b9bOsUyxRLEKfUA+kJSWJaqcc/LZctVCWBmyrDFbbq4sltWNmTIss0muLK6Q8woqpVjiL010FCBZotT3228/ufjii932wfPPP79NTwZ9TF+gSBEwmQgoNTNmzHBjiaveB+O4YMECZ8EzPlwEcGJxs2vDD6rDescLQ/xAPLDlkHthjWufc/GMKH7sXkikrCQDCB3vDMtAHaEkGAyG3ovtktSxVnE7f/Ob33TBXLfeequLaE8ELDiutgApcKEgYHFiESYjtJOt3wfEQqAa32NLk94bdzqvUSp4vjC0HBfWHdY8W97UMobYP27Mkd9VlsgH9dlC64/MrZWj8rYNEusMQKKMCUGOBD8ShEg8QKKI7mT6D2/Ld77zHUekkDlknMp6tn8P1txxvYeVgjDIGYDSiJKAV0X7ndcodPQ787E9SObZDQbD9oHtjtQhWCwsLEGSgeAGb4vQsQIRzqxdh4kFgQxZ6P72MHyBy552XLtbybN9aEuY+5/zDLQzXlDetnVlyJdNWfKngNgfrs6XNU2ZsryxY9rdFiA9LGPc01zs6w5vcQuD+AU8IViqfD8Mnp096Cha119/vfOOhJcmkgX9xJo4Sx6MP+TOhcXM2EL4LGvgCdq2X1ujrc/bAvdjXuExCMduGAyG7Q9dTuoIXSKwEYIIPQXCEVcxkbupbg2iPGuWuLB9qwd3MlYS91S3JNYrLncSzuDqTSZSmDpYB8Vl6u/HBgjU7373u859nQgIbizEa6+91q3FdjWwCMlmxzJC8siQmmCKPF5bKD8o7y9zGlp7HBhHLgjM90b4YxkvqDAecLPjHo9K8pII5A/AQxHe2aDQZRCWRSD29gaT8Vx4Q0iWQ/Y+LtbcuQeK21FHHeUC7job3AMFg4RDXAaDYftGl5M6QVkEFpGy1Bd6rFUiCCHoDz74IPZuciD4jLVUf80TYJVCtmrx8RnkjBWI9Zcs1JqKIgve1/3BiaB1JFO2M9C+e5OOhu+1/i5r1wTpMZZ4MhQEoBH9jwck1bFE6bjkkksilw0SIdFzoSSwto11jjXfXjAPUArx8vzlL3/ZcqEwEKjGHL/llltSVmjSAc/dHfPJYDD0THSL+52AMtZyTznlFGfpQgKkcsUdShBZlFsUK/f73/++C/7yrXEF38MCO/30011aVuokdSwWOlu7WDvFmiS3N9Y2lj1l/AsrK1VwT/YGUy/pUrUugs/wRrBVDEHP/WkHli3r+ViilCM1Kc8O+fmHgCQD+okUpiwJkD5V68QtTNAY9SmpotSwRk2Oe9ql7cS6pD/J2x6VWKUtUCcR61jKjCVtwGrFXU6Uf5RFrGOJxyQ8lkSdo/RhfercQDnjOyx/sGSSyjo4IHIe7whkq8+tF2OubWAsCRwk6IwgNi3DUg3eCMaSdfBUgAL5zDPPuC2TeHy0ThQhlmzYktgRW9oMBoMBdMuBLgBLDKGO9Yjlw9ogAo4c6vHcp5AmLs977rknkixY09TDTQB1sw9YDyqBHC6//HJnsUdt/YGIcLGHXfIEo7Eee+edd7r7h4GbHyGNRahr7igQGuDltxXC5Vn0GbGycBvTznCKUQXfIQKcvO3hPdV8n2UHFBi1QulLlAdc0f5zQrjsv6aftE2UhXyxulMlSwUuc8aStvBc9Dv3RnFLNJYoGvR3WInDg0N9EK7fT+Rqj7c0c+GFF7rlnL/97W/bPAfeGvaIk4Mg/Bn1M0YoE4CxRNEh97o/lgTsUS6RpY8ySc4BnhtFT8F8Q+liHumzch8UFJSuqDpRNDhYBg8D0fLxlAn6Cs8G9bQVtEd/2oEuBkPfRreRusFg6FoYqRsMfR+dQuocbYrl+s47b0tj3ZdStvY1qa9ZIQNK6iUvNz1r0GAwpAe8AsVFxe7fSbtNcl6at96aJes2Nsum8hxZsSZfPl1ZIE0cxReKmzAYDL0LnUDqzbLTjoPllOlNss+EJTJi4FLJzuz8pCUGgyF9fP5lvrw+d4A8/fpQWbGaYFMjd4OhN6JDST0nu0kOm7pezv3qFzJmROJ9xQaDoeehqiZTnn1jiNz77AhZu5FtikbuBkNvQoeRemlxnVx77jKZts9Gydou89QZDH0Hq9fnyq9u31neXcRWRSN2g6G3oENIfXD/WvnJNxbLlHHRh0kQwOxu0mE+AYPB0BFgiztXFCqrM+W3d+4sL80aFLwyYjcYegPaTeoFeQ3y/13yibPQw2gKal4TaPys1S1YWiJlFdlS32BmvMHQ3cjIaJaigkYZMaRWDt1nvUwcUyk52ZyBHysQw6bybPnxDbvIgk9KgldG7AZDT0e7SD0rs0m+eebncsb01nuHsczXb8qRu54eKc+8PkRq67smZ7jBYEgPk8aWy8UnL5d9JpVts3z2xZo8+dff7Sqr1qWenMlgMHQtskaNGvWz2N8pY8r4crnijM8kN2erXgChz19SEmj3E2X2wv7S2GSWucHQ07FuU568+u4gqa/PkMnB7zrb08P7FTU6op+9sDT4fZu1bjD0ZKRN6kS6f/PMz2TC6NYpLpeuKJS7Xz5Vxoyf5tJiahatqGxpZAkjEQb/dgT8+tqq0y/HFZX5LAzK8b14SLZOrUfLJYJfNgrhusJXuA28l+y9U4Ffb0ch2Tr9clxR/R4uo1dbaKscnyXTn8mWA8mWTbYc6XY5eGbixInuYB9SE5OZL5xdj33q85f0Cwi9WXafUC6ZXpUjhtbI7AX9ZUNZ28cIGwyG7kPa7vcJoyvkV99dKCWFWwVDWUWW/Oj6iTJlvyvkgAMOcGk9OQ6SNK3h081I2UoaTD2xjBStpBYlvWk60LSaQ4cOjb0jW9Kvho+k5IxzDn9RIBBJAzpnzpzYO9EgV/2YMWPc4TGPPvpo7N2W75MiFsGphMK/HPrB2eA+SCVKClTyfys4+IP6wulSSU9KnnjSxALSiZLSdenSpe41KV5JP4ryFAZtog0vvviiO3QFUJ6c8LvuuuuWdpIKlbzvbR0/mwg8E33Pv4Bc5oylnoyXDsiLTj/p6W+kSWUsw+l9eU4OAoKw9DXnpM+dO9e9VtA+jl8Np2QlpesTTzwRe9UakCFtIIVuOD0v4BAbPf1NAVkyln5qYIiXnPvklNd+px3khGcu+SB9Mil//RMMSZ1Mjn+/7cx3xpLn9seSZ+Esfx+kB9Z8/+TQZ3wSZZTLy22Un1yxWA7cfVPQn7E3A9z/3HC58cGdgr8SKyUGg6H7kLalftK01bL/lNY50p9+fYg8OXOYTJ6yuxNO5L9GaIYPrEAYcvAKFsOTTz4pCxYscEd1cggKQi7VQzMQVghXDt1AqFEfgphDVsjhredxI1whdA6FmTdvnhP+lOMgEw4QwZvAoSEqJH2ghFCGgz4Qnm+99ZZ7H6LkZLGTTz7Z5XrnferkXhxsgpKCQkOdENW5557rBDJ57iFb+ueggw5y+dghayV2iILvT5482Ql02gtpIsj1qFksLdLw8j3u6V+QG0RCrnoOFYEk+C6Hk0D0HNNJOfK2U44yLcpPs4zKapSBmU1S3hwoBm0IcB1Lng3lACUGJWPq1KlpjSVgXpCVkH5iPGmnHpjD8+jZ6nxO5kLOx0eBmj17tus/HUv6XseS91D4OEmNftd+gjDD85P5xPns5Ntn/jB+4dPmIHzGkvFHgaEu+hDFjrGknRA7Wdx4T9v47rvvurL0G+MBAZOTHjAWM2bMcH3GAUWUQ+GbNm2aux/9CbH7Y0m+dxQYDqvhWGHuxQE7/vkF9Al9wZxB+WRukOs+rEQqGhszZe2GHDlknw2S5y2tEVj3yuyBUltnMTIGQ09FWgveuTmNMnW31u50tr8888YQaUpizQ2BBFk99NBDTvghhBCMEANWCoIwFeAV4EJBgMCpj4sTt1AWOMQEQQYxIzQRlC+//PKWcljpCEWENG2IAuSBAFdCUSBsyXXPfalH68Sy4z58BhlD8pzGxuErnPYFAVCO70GG+gwKSAxvghIlZTnlDesKBUYtfUhd76kXigkWLp8hyAEnlaEkoHSgIGhZrEX6Gy8EZFGa0SSXF5bLj0s2yxWFFTLYZQPcVslRMJZY/ljRqkAwlpAiRArxpgq8ExAjB/eg9Hz++eduLFEW8EzQl4Bzy+kL+hpC53lQ1FBy6PfweeaQGB4JfXausAcJsGTEPGS8oxQ87s+zYf0yh7Uu5hDjhZIG4QK8A3gJUKLwBGlZPC4ohyhEKHCMAYohZE//aTkUVJ6PfmZOAFzozCXm2/z58105+p17U1fY0k8HC5eWuMvHjsOqZfRwSyplMPRkpEXqxQUNUlrcWstfsqJQln2x1aUcD1gTEBtWiH/YC25VBBQWPsIyFSAQIQ89VUvBa8gcguNfLoQd1o7vHtXXnKalhOEDyxFBitIQPqCG8tTJ9333qL7mM+4LaAflw+2E/BHc6gJHsKP0IKxZulBiQaGgjxDcEGk8oGigEHDOPMeYAvqH+0NsPlGptabtrGrOlM8acoRFlf1z6+TaojIZm0VfbUtuLAswlpCZKg9AxxLLE+9JKmB5A7LGMvZd7Vje1Mnn1Et7OTSI8cCC1fVh+pxy9DFWaTqg3zgf/fbbb99GiQP0H/3JPcPH1XJfPlPFFMVA+91fw9bX2u86N/UzBffitc5x0NZY6nxvDwhwfWXWoKD+2BsBgkeR4YON1A2Gnoy0SL0gv0ny81oH2WzcHAiZhrbdcpAAFhdWiy+0EY5YkbhIIdCeBKwt2oc11Blg7RnrHXIEWLkQFhY6VrcCwsJtClHweTzwOYThKxm8ViJJhHrJkNuri+RvFUWytjFTRmU1yTcDi31CFoTRmtjxgnAxlr6bHSJkKQIFLdWxZHkEZYHn9JUfPBRYpswfiB1PBa5mrPjwujTtwaXNskKUktZeQKR4enDlp7O8EAXqRBHk8om6O7FuU640tA5BkAH9WivzBoOhZyEticdJa+HT1iqr+uY6GwRLcBFu8vA56wAhjBWJ9YyFpMDq5zWf+eQKsLo4J1uvsJu4PaAduHSx+mfOnBl7V5zC8Otf/3qbADKCqCA+nk0JvzEg9rca8uX3lcXyaUOmDA2I/dLCStmxDVd8TwfKjt/veDTSBcsCeBMYfwXWMYGfKICpHmuKwkVg6c0339xqjZ82s2xEfeo1oH4UYsaOzxW8pg3+WLYHtXWZ2ySLKi3e+rwGg6HnIS1SZ6uLv90FJLOW3lnAsknGukm2nAIBiSWKkPQJ0gfuXyw2XMas9xJIx8WaJ250PvOj73GdEgXN+inr2KwJX3LJJSm7qeMBIY8iguBHoVBACBC9b1nyfIcddpgjA5YW+I6PL5py5JaqEmexDw+I/Su5Nb027plxh3C131nnvuKKK5zl3x7gMcC7wJjjPSFugUBE1vhBKnMOjw1LMT4ho3wcc8wxLsCO9XXA0hWBlvvvv79bv+feLNfwbMxH1uTDSzzpIGpPup3rYDD0bPSJnyhucdzUrDOzLonlCbnx2reeEXSst7JGDglTjgvByeswqGv69OnOIosnJBHYCGPuTzAa67hcuIghUX+tGWClc/397393Vtktt9zigrUI4CM4rD2ApGkD/2KZt2WtoUjw3Ky7awS2j+zAKt8lu16KMpsEp+vyRt7pnSA4kF0Ef/3rX12/cxH5ftFFF7mxShcEQULmjDmR8vQ99aoFj2IFCRMnQhCmzk19nQjMXSL+sdKpQ+vE80OsBRY9hM69aQPzmKUIf1nLYDBsX0iL1OGK6ppMd0yjXnX13WfDsUXp3nvvdQKQbUgXXHCBnHfeeY68fWCtsnaN4CM6mnJcRLZHESDBZgjSqD3KCqw/CBm3N4FVWOZcd999twvoOuuss9xnCgQx681qvWEd85p1ewR0e4AXgKhriANLMR6pUw4io20oI/RJa3dxs4uCn1FQKWcXVkl+MLRv1ObK7HoCuXqnrf7SSy85b4SCvnnttdfcuj9bEtMFlrWO+Z133uksauaWjiVbye677z43JsxJnZtY9/EseBQDlm+Yf1ji7Hsnel6BQsCWP4j9jjvucPfmX8aR8cey16C69oDp4//Gu/t3bjAY2kZapF5dmyVzP+7n0sDqtXx1fuzT7gGWKVYvrk9IWLc5hS1s3M+4Llm/1HJsgwon7MCtSmIP9guH18R9QNhYxwh3PzIesuQ1gWIa1dwTgKJz8cUXu6QqeDjoi9aWXbNMzqqX/1dcJkfm1ToKf602T+6vLpSWV4Z4YF2cbX30MQqdQomdPfc651DkorwjWPEQ89VXX+2UVLbyhRMYEQuAV4cgQX/9nfFECWXJqCNIvbIm+J1/VNrqd75ybff+zg0GQ2KkReokoThoj01y6D4btlzjRrVO4NEdICkLVjgXgUzhNWIFxM7nWhahGwZrzQhH3KtYVVzqzmcNmr8JYOpJQNjTNrbC6fYmH6y1n3rqqe4Z8CRgAYaz7RUFpH5KQZWMzmqU8qYMeSAg87uri6RKem8gpEbh6zazjgBbM9nPnix5sgzjz00/3kGBNY8bndgMLPObbrrJEXoipbIzUVLYKAfvubHV73zMiO7/nRsMhvjo8jV1LFrIl21tuBgVCFwsY4Sd7tdOFmyBwk2paUrjgXtgBSWzzYp2YulTVhPD8F0sc6LVCVLqyKh1HwTmYfFhjfn3QOjTHlzHfB4GhIBrFus7KvqajH0kMMENjes2ag82oXCLGnLk/foc+UNFiTxXm++2uUWBcUw0llii3CcVYG0SY8Bz+oSJtwNFivvhBUFhIxaAdWQ/NTCgPSg3ECIubrK5ffvb325zDTtZMA4kNCLQri3FjjnJ3IyK2QiDNpM4hrmHx6mjotgNBsP2gy4ndcgIYQtJYjkqEGhYxxB62N0IcEtiYUZZRljRZIPTHOkKvoNQxyXJvxAylirZufhMwRomghrrVtc52et82223ya233rrlYt1SlQ7Wz7GIKc/3+D71KPS11um3w7834DXCWy0yPAe4ZyFg1toVPD8pQyG0t99+O/ZucqAe3Lk8V1QWNQXb2R6pKZLfVPaTJU1YtvFd7mzzg1hRcPztYRAZYwlBpzqWBCVizfKcPmGykwByJmCMOYTSAvER7AfZa9/T7+xfpw2so2u/07/h+/Ga9/k8FbQ1loyjjiUKB+vf7HiImh9+PbSb9syaNStWKhraZr7j16lt0ToNBsP2h7Ryvw8srZdjD17b6sjVjz8rkrfmt1hCkBHuSdaqw3m1AaTFmiPCGGLEsmMLGKRLvviotUa260DIGq2NYFOwdg2psK2HdUaENXWxdQkBh5uZdWP+xg2KxQ0x8h7lCGqCRLBwIQy/bh8IYoiFZ9Lc71oPxIZlhfVLnRoRzb1pE3Xy3GyhgoggPKxb2k07cclCUrpkQF18jnWNEoHwRuhjhVInMQBhwc3aPi5hkrSE3eosJaDM4NbF2qWN/kWfRbns2wKR/4y1jiVkzbYu2k47E40lcwCSDvc3ljiBfLSZfiK+ge8QH+HHANDXjClJZuhb/mbuYRmzfk26WOrG8sXrgfeA8aVtKAwECvI9PBdRXgsUTeYF/R/O/U6dtI+xZOzoQ9bSGUuUEh1LlA/axZzTNlKW4EzmAvOd8aD/6TfaxfZJncN60WYUBZ6HsYXAmV8aC0JbGV8UZfo96jAdfmfMU+ZSotzviqED6uToA9dJTvbWebbgkxK3tm4wGHom0jqlbfyOlfKb/7dQigu3rvU9/upQ+e1dO7u/if6F1K677rpWwWM+cJviakTAqKXC4RQIyCgrg3zgWOSaBxzh6IModOpDACpJUCd7dhHAChWGkKUG0UFECG2IOlyvD7574YUXOsIl57cCARz0oyMUrRMBSiQ0JOqviUJkJLPRNqIoIPghIer1gbXJcyPoKc99sODZr6zf94HAhjwIygoLdZQB7kv7VHHwgZscIkqH2Fmzpm7A2PFM5DaHkBONJVu/IKCoPkd5Yzy1P5knEDqE70OVCBQL6uE12xbxZPj1QrgoEuH2MI5R69uApQ8i1VEisfrD4J48t46vjiXt9JUqlg7wXEDi2r/MD5ReVVAZW54XZYZ5EG4nz6J57QGKDtst6Xu9P/OTTHeqzITBb4MAPNqZ6JQ2xeSdy+X/vrNICvO31nX/czvETmozGAw9EZ1K6r/4xS8cqSOgooQ7wsVHlCBSINS5QLxy4fpAsmXjtTEM/V64Xr99is5oZ7xyQNuQyn19JKq7LaTTTpCoXLJ1+vWBZOcbaOuZ+U6iuZFsneE2gnC5qLp8hMsnU6eCuiH1K6+80v1tpG4w9E0kliJpAqsCqwGXOilLcQlHAQHkX4mAUG2rnF9XqmXjCe0wtHwYfvvilVGEy6VSNhG0DfEQrit8tQep1JXMWAK/vkRlw30fbyz9Mnq1BcrEqw+E6+OKQriNUeXCn4evMJKpE6hXjAvvA96PRM9kMBh6LzqF1HEB3nDDDc5VjPs57DI1GAxdB2IQOHmOADwyGd5///2RMQQGg6H3o1NInehqApL0irdmaTAYOh8EdhK/oL9HAv/MUjcY+iY6hdQNBoPBYDB0PYzUDQaDwWDoIzBSNxgMBoOhj8BI3WAwGAyGPoJOIXXyj5OMhVSwJETxT6zyoftso/bbpoNwfYnqTKZcuIx/RSGZMmG0Vd7/PF4ZRTJlw2XilUsVPaHOZMuBZOtNVMavI3z5iPrcv8JIpgxIthxJjKZOnep+i/wuybzIllODwdD30GnJZ0hpynnVJLggaxbRtz5Ia0k6Tz2WlKxYpK6Ml4GuLZBJTA910che9su//vrrW9KKAgQfWbsQbFqOZBwc3crlRwWTfpTc3ZrVTMEWPT8/N3VyAIketqLvkfec544Xacx9SUNKtjMy6ZGBToHQJX0tbfX3H8+bN2+b6GXuRbrSPfbYw5XlNRnlqM/PEEfWMnKQkwlNv095yrVn2yEZ7xhvxoB6GUuy80WliE0W5Hqn/3kWwHMwlpywFwVN6crOi7ZypwPqJhsbKVpJqxsF9nRTjsx4bAnzwdgdeuihrkw4C59fnkNkUG6jSJSscvQRz6V1MBcgX+oHOpYcLuRnyGMsOQcehdkfS8qRjtYHqYghdbLQQerc05LPGAx9E53mfmcfLKk1n3rqqW0InTzWxx9/vEtpSnpSPieNKWd8I8xTheaOJ5+21sdF2tYzzjjDZdICSn4zZsxwBKTlICEO3SB3upIIQBgjBCFcLcsFESgoD5mfffbZTqhqGZQVlBvu59fpAyELaZA2FbJVINAh6NNOO23LdiQuCIR2hj0fHGRD3yG8KQcJkEIU0kH4A0gFsuB0MdKQap18l7b7h+ukAvqWsYQ0UDbIe06yIfKqpzOWAIImpavm8qf/6Q8SGdFnPng+ytNX5F2H6JQQ44GxRwmh3+mTMJhPKIc8AznnaUcY9CdjR7u0L/XyU/TyOwh/zgXxMz+Zs7QH0F+MI+lktRxKLkexhseSuclYQtCUo4/Ibx81ltRBCmZS96arNBsMht6BbllT5+AJ0sg+8sgjMnfuXGfRcrAF+b7Jpa3CK1mgHJBb+5lnnnHJbqiPixzxWLvkBodYEf6c5kZebspqOXKeI2TPP/98R5w+sNI//PDDLWW5KKuASKkTQqMeLUP97M9HgfBPG1PQHtqMQA9bevQDyggeDrwdWicKEoBslNz4F0FOO+lPymGpcijIMccc44gDoLCQUQyrHMtU6yTnPGQCIarXJBVwwA1ESg51xpK89Iwlp8JB9qmOJeB7tPeee+5xedzJy89YcsocyoqvJEGAKDoQWjzlKQwIkn4Le2AUHE5DneEjXaOAtat9qZd/3CxKGYfWhMtwEAuWN1Y1SiX9hAKBwqbjyIX3ipzvKK3MZYASye+EccYjQjn6iHMOmI+MsyoKBoNh+0KXkzpWBFY5JOifNIbbdPHixY4McA+nAkgT6x8S9d3SvMaqgbQQ+PyNOxTryT89Tk/T4rNUSYjyKAJ838/SRf3US53cNwxSdxJ7oOTvA4HMATW4mn3i4TUKAPfDGuWZ6Etes3Sgh4hAElhunEgHQWFN68lkLEX4blxe42HYUqc0y67ZdbJncBVIdNpRBc/ASWWczhYeS45lhWjjxVPEA54D+gXr03cjszxA4hTu51uiHF5y7733uqNxwwfiRIHn5LS2p59+2vVPFFCm7r77bnfUrj9POgqMGx4ClAbawbyh72kb8A+DYax4jUKqHifGEk8C74fHkjFgvrflrTAYDH0TXf7Lx8qAaFhH9MkMwUZ6WQgdi6wvA6EOsSB4ceX7igiAZFEIfIEdBdzErCMDUvL69eAGZ/2d5QPWabVOCD8R+mU0yTkFlXJtcblcGVyjs2hD6/YpeAbGMnzUK0TI0gseB/UUJAuWISD1V155pdVpchAWnhDuiRWv4HlQqLhnuB/DoN9RCiDFRFnV6PewktaRYNzxitB2/xkNBoOhvdiu1HmIDeGP5exb5LyGIPmMMj4gAqwkrFyu8Jqu1sn3fYuc+nkdVSfWKEF9uKuj1jg5KhbLk6UEH9wDQoBs2iKwMCD5W265xVmhPvAK8IxaZ2Vzpiysz5WaoPop2Q1yZWF58G+9s+B7O/CaHHXUUS6ILRxMli4YY50bXGpNJwJKCcoLik86wYQoHXhwGDvfIg+PpcFg2P6wXZE67msOs8BtzLo+rn4uAp5wY+PGDQtZXJmsr7I2znXZZZc5UlZAyg888IBb26UerZP6uQ+f+dH3CGGC5/BSzJkzJ/Zua2AlsjYdJh6Co7g353WjLKQCXNPU6bucIQAsfZQW3MDOOxDQ94M1hXJjZbF81pAlQ7Oa5JKCCtkju65XEzvPynIAClbYq9EeEEGvc4OYjAsuuKDNoEOUC+YGQYDpWOosUz377LPOC4NXi/nGnCJwjjn+5JNPxo0XMBgMfRt9gtRZz4Vcca36FjivsW4VCHQEKYFuRC0TecxFoBdrtqzj+u5pAuQIUoLsCdq67777HOkTGAdBAMrzPb6/9957b6kTtzNrzdzPt9RZCyXymuApyDtZQBREldN2njds/acD1rvZMocVj3dAia4poO/3G/LkhoDYF9VnyYCsZrmgsErGJXDF93Tg7iZwEMXGV7LSBf1PXa+++qqbG1wEC9KH7HqA7KOAAgUBE0znK5DUR3wAYPlBgeVPeR9Y4swfLHbW5nXOMZbEVjAXzVI3GLZP9AlSJ0Ia65UoeCLdcbFyYX37LnHck0RPI/yIplZh/OCDD7qoYSwd331KtDlEjpULEfAvW4P4PlYzwB1PZDLr1tSjdRLBjHDmfhpVjpVO1D91EdWeDFBSqJtoZ+6FpyEdl60P6oTQiXjHooOMovZ/r2nOlnuqi2VNY6YMymySfXNqA7rvnUDhQgHDwu0IUBdR/o8++qgbTy48K5A8UerxYgkgezw6LL2wrq+AoJlbLA0wn3QO40nhO3gaFLxmOx5xDMxPnXMvvPCCI/l4++INBkPfR59xv7O9B1c3ViwuZix33Kx+sBOEzVo2whTrWoHVRLQ2n7EumgqwvBGieqSlAuuX17hIVVGAlPEK0NZkLG3KI7xx//M3AhyLuj0gqp494GyLg9BRROLtXc4PbPapuXVSGhA6a+yfNGT3SjsdZQ6yY/tXT7ZgGQ92Q0DuzGEuPDPEVvjtZglm0qRJTpnViH8+x3NAHSiOvofKYDBsP+gzpI5Qw/XIOjUXgrA9blbImkj8jrJ4sLSwvLCyWA9HMHPxmntA/NxPhTEkTtIRrD4iwbHEUFjaAwidPeB4GrBYIXQ/UcpWNMvwjEa5uLBCTsqvlqzASHy5Nk/mNeBx6H22OvENuLCxbLXfdWzxovB3qnv02X7G2PmBam2BOcD3UDTjbb9jbmCt6zwmsLGtXRAGg8Gg6HJSh0RwUyJkfUGKS5g1cASvn7EtGSBcca+yXtlRwO157bXXuqCmjgJuc9ZNsaRIPMPF+jpbrHCHsy5KYB6AzEnsQhYwBHvUnmpcwHgEAMFSPiAP6sTS07V7sr7tu+++LpCKYKsoYiEYbr+cWvlOcZkckFsv9YGB+GxNvjxWUyiEyvlgHHUssYYVOpbUn6pnAcWFfkLxCC+dsJzC/GEffCqgHaxBE3Gu/c74ojix7MJr/k0WkDNLNVdccUVKnh0UN5QqvDp4DXygHBAzwbj7cSEGg8GQCrqc1LGmyX7FuqIfJYxwxJKFhPg8DAR8eNuYgjSeF198sdsX7YOyWPBYOvyrfyOUfQtLX2s5wL1ok09WgDpxnWtAndbJ96lHoa/9e7Pe+te//tUlNiH4jot1WdazWQ5QyxliJ5CPvuDSNoVBG1ib518UAp8MIAhIjHwAuNeJtsZli1IRtTdeURiQ+tF5NTI8q0nWNmbKnVVF8o+A0GsipgpEicsXxcQnRbwcjCVBgqmOJWvNtBHr2idMlBTiE8iehkKSCliGCfc7SzUokCgRLGuk4gVhXHV+qGdFEZ4fPvgexM6cCEen8z2ej0yCYeWUz6hPl2y0fn8OA33tz2ODwbB9octJHXDoBOvNWKKQAcIRkmd7D9Hm4bSpgNSeEDdBRGEyQNBj/WB9EVRGfVzUj1Wna6lYrAQTYcGyFUjLkdAEK5DPNIkK6VQhpSOPPNKRFOVwX/MaouUZAFvT2G+MZUoiFq2T+rkPCVP8KHfaEb4U+jfKDmvvkBvf1Tr10jV6gCuX+9OPrO3zOe5lggZZc1UCROGB1FGq6N9wnXgLQHVgjc+qy5OZtbnyx8oSeb0+TxoTuNzpJ5QE+oU20FeMJe0iKQ0EEwaWMWPJ8kIUsaOIYF1Dcig41Ml3GEvSpiq5pYJwn2tfA//vZMD9URTwntAu7UPGDeWKXRPhfABtAZLmuekv+k/rZNzwruCS1+h4sgUSl4F3il0YlKOPGH+exT8gxmAwbF/ICoTCz2J/J42BpfVy7MFrJTdnqzD8+LMieWt+i6uayF/WKSHoqP3UECHBabiDsbKxSiFA8pAjDKOELIFOkCYWDgLOF+ysnUPqECl1cWGlQvBYZBoUx3fYZgawLnF1Uo5/qRMC1n3DkAp1cl/aSDnqRYCyvq35vRHGkD+kSKCd1kmCEc3bnUjAYl3zHYhRiYB7kHkP65Rnpj7/QtDTNrXeaAt9xv0hbvof6x8vgAbBUReKB31CmXCdEJLb0hfUt7QxR95ryJOyZnS+xGvouMq5P0oEz8EYsBxCHnIs+aixpCzPBfFj6YdJGvLGbQ+5UY5+ZxnEH8swsJi5P99DyWsLWLX0E/1D5r0osDxEXzG+Ye8A3+O5CYTUMefZeV52KIRzDAAda7achdvI93Rpwa+TuYeiyW4KXYKh3yB2llz4DfEc9BEET6Ad3pFwnwL6iPmMx4C52RbxDx1QJ0cfuE5ysreO4YJPSmT2wtbnIxgMhp6DTjt6lXXj6667Lm5kNYIF8lJLDSEEOUcJI8D6J65wBFHU9itAfb4LmroQiGFiQbhRH21QoHxEJQLBAvKtSYhUrXkfEIBvQXNPrOy2BCdt4B6UUwWI+/Esfvt80Ab6yn+u8DOh/PgeAvoFt268OhP1a1ugzo4eS0iXOtWlHG8sFdqPWLr+cycC5am3rTbQlxBpGHpPbSPg/okCNCnP+MVrY/i5QXgsFcw3Py5Fn4X6o0D5q6++2tVtR68aDH0TnULqbJfCasQtjODAysFlbTAYuh54abDkIXW8H3jKbrjhhkgvmg8jdYOh96FT1tRZ7yOhCe5Cl3o0Yl3VYDB0DfBu8DvEg8BWRq5woJ7BYOgb6BRSZ5sVwTp6tXd/tcFgSB9Y5m+//faW3yNr7vFc9AaDoXejU0jdYDAYDAZD18NI3WAwGAyGPgIjdYPBYDAY+giM1A0Gg8Fg6CPoFFIn+QhJM/Qi4YnBYOgekJ+AJD76eySvvr8PXsG+e/L4byk3NiiXYXq/wdCb0Cn71MlfzT51UqmStIN0pWRA80HSDBLUaMIWEpG052Q1Ep+QNpNUrgq27WgbfJDtjkxhPjh6lcxhCrKvcR56VLIW3iPC338mhCH51hVsIyKjmmaeA6SjDeen9+G3gXuQupZ6FSQXIQNbOFsZCU1IK+vnISc7WTizGIIc4U72PgXbDcmm154z2smmx1hqqtn2jiUgQQ3pUTWZEFuyGMuoBEFkX/OfKSovAvWQTU3bCNinTWa1cCQ4pMf4KxhLsv2FDxpi7pLRzT8fgEhznl37nTS3jI2fwEjBGJNQh9PYdNtnsmPpg7z+9AHP7c83BdkCSSFLe8lSR0KoG2+8cZt96swP+oi+5Dey96RaGZN7jWRnbv392D51g6Fno1PUcAQSAogTxkhVGkXo5Mzm0A4ViKQO5QQrsmmlCgQ2STWOOeaYLRm2EJjk4eY9X5AjrFA6ENwKcqXzHgQaReI+ELpnnnmmE7yA8pD/6aef7upRUP9pp53m7tdWnQhl6oRwAcKVNLGnnHKK+0yBUhB+j/ZwYhgEqPehD/U9JRP+JY3piSee6JKRAMoj5P33UoWOJXn2GUvqZCzJ0Z/OWALIh7zwjB/tpj/I6897/liqkkI/6+FAKE3hsWQ+csAM+en1Pb6r7ymB8pmOpa8kQPDh92jHscce6+adwn/Pz2wYBZ6LPvPnLGPJb4BxU+j4ojyEFQP6m+fmfHzO3PeVSh8oBZzMx0X6Yx2nMPjNck4Cv1kUPZ4hqpzBYOi56Jbc70oCjz76qDv0g4MqyNmN0MbS5tCReFZJFBB4CDaUCM4epz5yhJNH+6STTnKCCcUCN+SFF17oBDr527G+KMdnWO5YM3gVsOxJnIM1zuf+hVWHVcp3sazJSc7hJFhc5Pym7ZTju5SjL6gT65X2hOujHMITSwtrDEudvrvgggtcnnoELBYYZXlNXvCxY8duyR1+wgknOLLmpDEsPsrx/BAjhEG/kmscqx/Bj6X/1FNPubZTlhwCjMXQoUPdQSSp7l/WsSQ3OYeccG88Cdwba5u2x0vtGg+QGIoBY4R1Tp1Yl4wldfEaQLKXXHKJ6zc9TpbPcB1DjPQ7lj3tg2w5BY82ah8xZigA/Eu/cyDNZZdd5u5Fnnl/LDW3PXViVVMf3ij6nTZqnbSPdtIH9C33J087n/sXRMvc4PfB98HJJ5/s5iF1Yu1rnfQj9+MQJL4HmNMoDzwbY4tCQdu4VzygvCSb+x2laJ89hkpp5lOSmbE1eZTlfjcYeja6fMEM0kYI4aZEACl5IwBxHWLhproGD7FiFUJgvjLAawgTwkKQ8TfWNPmxub+C17if+cx3e4aBpYRViHDlyFOA1QMJU5+fQ5zXkAzvJbJ2UDQgZsqSiQ9AyFjjkIuvFGmGPshMLVjiF4AKe4Cwhgz8/qB/6FcUC9+FzT0gcuoJW4JtAdcyY0m7osYS5SPVsYRYsYxRRPxjZ1FoVDnhvrRVyYy+037C5Q8ZMyfUG0NfUi6cBAl3On2tVj5jT98yF/y86Dq2jLNar/QXf9PHCvqR1/R1W+fwo5xxL5QRlEh/LP3lFcaSscWT4i8t0S8ocSiSKMeJCNpgMGw/6HJSx12KJcXZ4v46LkIZSxtiJU91TwTCHMGKAG3rMAyE7vPPPy933HFHwrVlhDkkANHq2j/f1Std4H3gDHHW9TsLWJVYryg4uHUVECBjiSscL0IqwLuBMkDf+bEQWNOcQMY9WZqgz3DxQ+h4GHzQHogQi5/+TbYvGVPmJV6MttCe8WEeYX2jmDA3qAeFgNPiyPyWbApXvouSRt8YDAYD6HJSx7rhghjDQhFhhqBLZC13J1jjBbhwo4DVjuWnF5ZrOEjPB8/KEbAoNJxLrkBQ487Wo1gV9BskRT+F+466/HtTlnun6k7PkmbZN6dWpuXWSGlG4u92xlhSnu+FLU/qp069J/3AWjTPF35GbY+uVc+dO9f1Z5j8GC++q/fic1z0lPdBe7hQvKiXC/c1RwWHlTvaj3s+0XkHuLZRTCBwVYZoB8oIiotP6igAydRpMBgMwParpACi6xGyBBGFAZES+Mexs1ys3VMeMogHPiPgDrLwCRx3L7EBrOX6oD6WErBifbc89eABYc2ce5933nku+A1rNlUUZzTJiflVcklhpXy7uFx2za6TjIDoezNwx7/88svb9BmWPMsEkGsY9B1LAVzEWtDvuMohcUid2ISZM2e2ImCWUqZPn+68JFFzRIE3iqUB1sCjPD4oG3pvvBa46lEi8EoYDAZDIvQJUmdNF1cka5JYcAoEsU+qWDqsqyJ8/fVJXrcV/Y2A1XXZKOsX4ctnjz/+uLsIZCOSORGxs96MFcY6LESRCERBs4aMNUkAlR87wLOwbgzpcG8IjPawVs/3AP3D+jn3VAsW8Fz+64rmTHmnLk/KmjJkXFajXFFYIfsHlntmLyf2MFgaGDVqlCNgPx5BQRAc8RNchx56qFvGaOsglB133NGNA3UyJ6NAX7OGz1j4MRg+aJfemzmEZ4KgU3+Jw2AwGKLQJ0idSGEiuonEJoKeiGAu1nN99y9WEZHFCGYEppbDBa7BUvFA1DDCFuIMu4YB1iDWGwTBhfUHWRMJjdIQBsoH0csEfbH+nMi1CjFD0BDGvffeuw1hYNmzi4AAK+5NkByncWFhYsEDFAFc0Lh9sVD12VnD9tvXGNjlz9QWyJ8qS2RRfbb0z2yWcwuq5IA+ROwoPOeee66zplGCooArnOh7LtzsKFRsq/Pnkw/W+tn2hkX9wgsvxN7dFgTHoSQQ8e7nRfBB0KHem+UAxpcxQ0k1GAyGREiL1DEqw4ZlRkb3CXwIEVcowhSLF/clwpfoYH9Nm89wt3LWOxHslOMiqhrrKhEoh8XtR477oA2+Faevse5974EP6tQ18ihg1aGosDcdly1RzpBz2KrHavfr4HNe0wdKQrSFQCx1IWsfYYFiNfpoCoh9SWOO/LWqWN6ty5GSgNi/FhD7pGyUmd5L7ChuKHNsf4Q4tS+iwDjzGRcWOgoTY8F4+mBcIHMsarwz4QC/MJhDjCvzw/e2+GCs9N5E6DOP2f7m51boGjDWobnWe4ffYNgukBap19ZnustHYX7ioKrOBgISKwmrlwvhGs8FCrHzuZaF7BK5vyE/hDmub5+42wNVKOLVieDHMuTC8mbrUjJR2YnAM+JN8PsonHnNx8bmLHm4plBWN2ZKaUDsu7v19d4JtpixJx0XOc/92GOPbeP+RsFiGYb4iCjwOTEVCqxuCB1lAU/Rs88+22rdPgy+i1cEhSuqHOv4LKX491DwXtT7nYnMDMa7tQepvDJxUh2DwdC9SIvUa2oz3eWjtKRBsjKjLQ8fkBgXa7usFSoQmLiXEXa4G1MBgpCIYn9tOArcAxd6W672MHDX4ip/+OGHXWR6R4BtfSwPYH1HPS9bxUg4AgHhymefdnsAUdFHqQTPlWQ0ypF5NTIwGNfKQOdZ1JDTym5LZixTXQfWPeKMEfUosHBxP3M/4gOwdFnegCTDz0ScAAqTH6sA+WJV33777c7yjlrPhvivueYaZ5G3BZ6XLIDcHzc5gY6JCB2gGGLR4xUK76BAcaSNF110UVyloquRJZu2IfWN5UbqBkNPRlqkXlmd5S4fY0dUycih8d2OCoQfUb+k50T4Kti3y7ohbvHwlqK2wLrwVVdd5YR2IiCAyRjGfVKxelAW+C4E1VGWOgIe4U2dYTcsa+iQOgoE664dcU/WhL/1rW85N25bINp9bGa9C5I7Mq/WEfkzNQWyoIGUvlv7DasfgiTq3w80pK8gL7wAqY6lZpBjD7pPbihuxBXg4mZfOsSO+5zUufSVD+YWSgFr4ZA6ShmBcbQ3UY57iBplJBnFZ8KECa4s7UHRSAYoKTwHljqKiw/mI/EV/CZ8Zab70CSFzS8H7Yq9DMA0XbshseJsMBi6F2lJj+rabJm/ZGv0OBhY2iCHT10fCIH4bmyAhcUaIcKVADUIAKtKc1vjQo+yeAhUw32KOzocTc7WLwiQwDAIUV3bfAcrWA/YQJjiaie/N0JZy/Ga9UqCyyCLVIBAx+rSOrRO8nBjWRLA1pYFFwZkQVpSCIP1bq1TL10npy/Z307gHlH2KB98DjGQwIfgPd0Wh9XK3+R6p37KUR5vAf1JNjvqIRjusNwa+XZxhUzJaZCq5gx5JCD052rzA5uttSLE/SFt+oCxhAypk7GEmKgzan1Zx1Jzu/ugDcwB6sY7ArGjALGti7ogfcYRsmYZhfEkJSwKHc8EgTO2eDfUq8LnkDzjpH3oX9oGnoPxIqMdbnr9nOBCHUvawLPpASm01a9Lr1SJmeelv1DgUFK1HrwgjCWxD/EC6zoDxTmfSVFGS4ZDxeoNufLpyp7hRTAYDNFIK/c7qKvPkMMCEs/xvHHDB9e6vNA7jtk7Ye53IrQhKwQ1RIilheBkbzZCOyqACJcoZICwRJD7ZVAQsPAR3gh16sO9jXWKNYdnACAwCZCC+CmL8KYcQhOCiBc4BUkS3YzQDbvfISHIEqEPsXJP6sQiZg2ctesoYmP7Hc9OnWH3O9Yc38d7QRnq8y/6FgEPERBIRf2QjJbluxAheeN5LsBz4cKH8HgWLFzK8i+HeEB41FcYkPrZBVUyMqtJljdmyl1VRfJmPYQeTVKMJbELkDrufepGoXnppZec8pZoLCFmItDDZVBAIFiixCFXxpNnY3ywthUEsxE4SIQ/z8EcYizxEDz99NNbxpIxoc/wJlDW70vqph3cU8eStXKUH55D+xPvAIGYGijJ/RhzSJdn9uvkNeXCcwVPAPXSZ3g4fNAGtkTyPf1d6L0hd3YuhNPcKpifjCteMH4H8YAySL/jFUAZ4XmjkB2M/dnTP5LxI1e3stRnvjtQXp41OJghyXu5DAZD1yKto1dBYX6D/PdVH8leE1u7Ht+c11+WVv1IJk7aX6677rptIqsVkDNCVq0kBDvkHM/VDNFhBWKlxVtzpz61YgF1Qjhh0qAe6vOBhR7Pokao4hqlffEEIVZb2G2La11JIAxIl/LUCZn6QPjzLPGWCCjP9yACQB9S3rcOuW/UejYKDfdW0Df0p7YB1/tBObUyIqtRXg2s87XN1JlYiHfGWFIna9z6TNTFWOoz+wg/EwqBr0jhDUJBigfI319jT2Ysw/cMI2o+MZ48E3OINkYhlbFUMD/pU+4ZpUAqeK6rr77a1f3HP/4xUoEFxx28Wq6Z8ank523t6+raDPnxDRNlziI7zMVg6MlIm9TBIXuvlx9cuqTVjx/+XFV5tGzK+q489uQbTtBg/cSzMgwGQ+cCwsezgGJDxjt+k1GkTqzjsQfXymWnfiD9i1srr6/MHijX3TJO6upbL5cYDIaehWifapKYvaC/vPl+69OoMDBGlLwgI7O+J3tN4HSpolbWs8Fg6Fpg/Wu8A3EjHFqDl8THDoNr5OunfSZXnTV/G0LfsDlb7n9uByN0g6EXoF2WOhg2sEZ+/PXFstu4bbcIESE/7+MS+ed7A+WTFYVSU5cpjY3t0iMMBkMHgIDWvJwmGdCvXg7aY6McuPsmFxPjef0dqmoy5Xd3jZUX3xkszc22lm4w9HS0m9TBLjtVyA8vXyw7DoteP8YlX1mTFWj6mcHfJhgMhu4GsRM52c2Sn98YkHu0CKitz5C7nhwp9zwzQhqbTBk3GHoDOoTUwYTRFXLNjGUyaWzlNtq+wWDoXSiryJLbnxglj702TBoa7AdtMPQWpL2lLYwNm3PddrbGwBIfMbhWCvO33cpkMBh6NtiqOufDUrn+/jHy6ruDbLnMYOhl6DBLXZGZ2Sw7Da+S4w9ZI1N3K5NRw6ol2+JrDIYejQ2bc+SjT4vkmTeHyOwFpS7BlMFg6H3ocFJXsGZHPvhxoypl4pgKGVhaLwNK6iUv1yx4g6G7QWzL5ops2VSeIyvW5MsHS0pkzYY8qTdXu8HQq9FppG4wGAwGg6FrYWq5wWAwGAx9BEbqBoPBYDD0ERipGwwGg8HQR2CkbjAYDAZDH4GRusFgMBgMfQQdlnympyNHmuXogkY5u6hBDgv+HZrZLNXNIpvcDrv0UtdmBXVeXNIglxQ3SElGsyyqR0eyNLi9B80yPb9Jru1XL7vkNMv7tZnSkMb45Qb1XBrMgwuDeZAffP2jeuqweWAwGLoeGe98ML/VlraW86pb3nJ/66fB3+GzrNt6zXfaRDJl2oHMsk1S9PyDUrRotozMbJLsQNY2FRZLRmWFI/QvDj5eKg8/OSgY7bTIqK2WvPmzpKmgUOom7xt7twUZTU0y+f7fS9GyRVKbnSvzL/2RNA4aHvvU0OMRzL2d33hShrz2mKDbLTz561I5eb+Wz0LIqK6UvAWzpam4n9Ttunfs3RZkNdTLbvf9Tgo/XyzVeYWy4JIfSuOAIbFPDQaDoeuQ8WVlRYxVW/5pIXL/b/ene28raXufuz9i/2z5PIbw6whs852ORF2tDLj5fyX//TelOSdXKqafLnUT9pDG/kOk/91/kNwl80Wyc2T9lf8pdZMCQZ0Rsq6CthU/cYeUPHWPNJYOlDX/8TeRvPzYhwECUi9+7Dbp98y90hx8d8MVP5bavb8S+9DQ7QjGP+/DuZK1cY1kBH83Dh4utbvsKc2BUufGOhjf3EXvyeA//LubwhXTz5DyM69o+a6PpkYpeeQWKX7hQWkYMkLW/ujPgXmeF/swQDAPSh64SUpe/oc0ZWfLhm/+VOqm7B/70GAwGLoOfXpNPeezjyVv4WznCK3Z82CpOOF8qdttqjSOGC1lp18mzVlZkhFYWQVzZkYrIIGwzp//jmQ0N0lTv/5BhaFz4QNiaBi+Y8vfwfez13zR8rehW4FVXfjyozLojz+UATf9h5Tec72U/OPvMuAvP5dBv/m+5Hz6cct4M34BSTdnBvMg+F7uJwsl7/23tlxZa1a2VBjMkbyF7wbzoDmYBwOcItgK3jzIaGyU7LWx7xkMBkMXo0+Telb5ZskIrCzQMHJM8MbWfNZY3vo6s2Kz+zeMrA1rJGfVZ86Kq911n6BgKIl9IMybi/vFXgQfl2+K/WXoNgTj3e++G6T0/j9L7uIPpOqgY2XDlT+TjVf8WJoD6zr3i2XS/7ZfBQNa44o3FxQ6Lw7IXbZIBt74ny3XTf8l+e++6t7PXvul5KxeHpsHewcDHfrZ+PMgIP7M8rKWvw0Gg6GL0adJvX6H0YEgb3GXZy//JGDyBvc3yF2yQDLq69zfDcNGun/DyJv/9pYy9TtNaLHGP18ig375XRny08vc1f+u37vPQUZ1RewvQ3eBGIqCeW85q7px0FApP+Nyqd3jQHdV73eYI+bsLz93ylrLF4KfQEDKgFiL6n2muavshPOl6vBTnLcmb35QX2Cto9TV7zjOzYOcpYtk0C/+Zcs8KH3gRlcHsHlgMBi6C32a1BuHjnQCGkFeMO9N6ffQzZL/3usucK70ob844dzYb4BUHXzcFsG+BQGZF7z5XOyFSMmjt0pWQAYFb70geZ8sCCy3Fe7K2rjOfc63QzUYugGMtcZpNPYfvEWpY3wbSwe1/BlcmbFx89E4aJhsuvzf3VV5/AxnxUtttRS883JLAdbWH7stmAcrpOCN5yRv6cKt82DTelfE5oHBYOhOZH3vhz/ou1vaAiusbsLuLRb2l8sl7+N5UvDezJb10bpaqdt5N9l0/r9Iw447O6HvI3/Wy1I088mW9wMLDRd93ofvScWxZ0vFcV+TyiNOcVf9qJ2l4P23WlyzE/dya/aGbkR2TjDGr0tW2Qa3Vl51SKCwsQbe2CjFz9wn2eu+dMUqjzpNmgYMcbsbil94WDLw4gTzJLOy3I0zF56d3ECBK0K5c/MgM6h3Y/DeB24OVBy7dR40BApk/oLZLfNgt32lbuKe7j4Gg8HQlejTljog0rn81Etk7Q/+JOu+/xvZ8PUfyoZr/kfW/vgm2fDtn0v9uN22IfTMwOoqeex258Kt2evggPivdeux2YFFNuCWXzirrHHYKHc1FZXEvhXcK7Y2a+hGBAReefhJ0pSRKdkbVkvBu685F3rBm88HSt18Z0U3jNhJ6kcGilwAlDuNu8gq3yQlz97nrqKXHpHczxdLyVN3O7Kv3u9w2fy1K908yFmxVPrf9msXQ7FlHhBR75Bh88BgMHQb+iSpZwTCNiuwyLgyN2+QjKpKJ9ibSgcFVvl4Z1VhxWWvXCY5uFBxpwdX5ub1LoCq9M7fOUKoD8ptPuubUn3g0bLxkn8LCLyfC54rvfsPbruUs+xqqmN3DV4WFMX+MnQnqvc/SspPPD8g1zwpvf9GGfSr70rpfdcH5N3glls2n33Vli1pkLrGWtSNHCsbvvETWc8VKH65bIfbtM4pAGWnXR5Y/cc7zw6KIhHupffdsO08CLQG57Y3GAyGbkCf26eeuXaVDLz+x5JVWR57g0Co4PKC5ByamySjvj72ogWN/QdJxdFnOlJv2GEnt7baEAh6h0ApQAEovftPTinY9PV/D+rOksLAouv/wE1BF2RI2RmXS2XwfUMPQGB9Z6/+QvLnviFZa9lq2LLtrGbqNGkcOCx42eKdyV75qQz9z2+4v6v2PSwY8x+4eZsfWPgDbv4fqRs9XjYFCl3jDqNdGeZB7kfzXHQ9n22+8P+5OVb09D1S+thtLl/B5nOukqrDTmopbzAYDF2IPkfqGRVlbstS7vJPAgudKOSAbnGx8ldA7s1ur3nM3R4IYzKE6evmvHzZiJDOynJBVW6bku+aD9rq6szKlub8Avc67/03nTUogYKwecbVlnyml4GAuYHX/0iy16+RiqNOk4oTL2gZ58Dyzlr/pTQOGCzNRVu3LTrwOUpjMJea81rmAdvf+j38N/f35nOvkdrdLfmMwWDoevTNjHK1NZJZWy3SgHUeCODAulI0Y7krIGwvkQgu+S3ZxuIhqCujvpZaW1y4QfszK8ta3Pslpc56N/RwNDa4wDjGGwWNLWgZtbUtCl6y6+E6D5grOcyDJskMFEr3EfXYPDAYDN2Avp0mtr7OBbVlbd7QkhgmFhDFWivJZxqHjggs7sLEJA6CNroc8IvmuAhq6msOvtJUVCqVh54g1QcdnTwZGLoHwRhmrflCCma9IoVvPueC4/Dc1I3d1S25NIyZGCuYAMyDWA744ucfkKyyTS3zoN+AYB6cJNX7H7lt1kGDwWDoQvRZUs9ct0oGXf9TySzbKBkNdbH189i9nBs+17lOa8dNkvLTv+72KEeSe9A+Eo30v/O3Lm1oU0l/qR811h3cUvjWC85aq9rvCNl8/rUtFpuh5yEg8OLH75Si156QzICU63ccL/UjdnLKGWmEmwpLZNPF33MJauIimAduLf2eP7oAzKZ+A1vmQf9BUvj2S876rzr4GCk7+1um4BkMhm5Dn92nzjo625KyKzY7Vyvb07ZeTS5DGC76nFWfS/aKZW7LEmvpYWTUVLkc4jmrv5CGITvIhu/+Uqq+cpzU7n6AU0jyP5or2as+k4ZhO0pDIOQNPQ/5gXXe76G/SlZdjdtfvvm8a6Vm70OkZs8DJf+9N1yEe86nHzlS3iavewxkqhv4559KztpVgUIwRjZ853+D8se2rJ3X1Un+4vdd0F39yIDoNajOYDAYuhh9dp96U3GpNAcXqJmwu6z54Q2y5ic3tboq9zvS2e55S+ZL1vrVrmwYOcsWSVYgyCmHe9VZ9FhimZlSM/UQaWJNtqlJ8j6c0/IFQ48De9Vxt3OCWmWgkLkll0CBYwti7ZR9XZgk1ndOQMrxkLN0gZsjgUoo1QcE82Dg0ODNQAEIxr9mH+ZBy+FAeYGSZzAYDN2FPkvqLS72mNUVCHESjjQEFpZ/NRW3JI6BlHHRRyGjIbDyY383hfehB0yf4cR8INt1C52h5yEgdDeGmdkt0ereMosLlguQwViSzyAOtsyD4H+crd8aeH/cRzYPDAZDt6LvknpgObF2ioWdtfIzyV6+xG1TyijfLNmfL5bCFx+WwlmvuKJN+UXSWDLA/R0GB3g0xfKH589/W0g36hAoAvnvv+WO2uQeJKox9EyQDpgxyqirCSzp9936OCD4kTEEzVmZ0jh4mPs7CvWjxwfzoGW3Q/78Wd48aGyZBwTeUc7mgcFg6Eb06dzvpHDNnzNTsso3SuHsV6Xo1Sek6JXHpOifzwSC+G3JDIQ81lX1PodKzf5HOJd6GFh2rJ3nffy+ZK9f7dbYm0oHSt7cN6Tk8dsls6He3afszCvc+4aeh4Zho1zEOmlg8z5Z6E5vI69Av4dvlrwlH7gyxEhUHXpS5BwAzmVfXxeUXyDZ61YFf9e6oMn8YF6VPH2vi9tgR0XZaZdJM2fvGwwGQzegb29pa24KhPkcKXruPsldujAg4NZZ5bCqqqdOk8rpZ8bfn077AoGd/+5MKX7pEclZ/onL/+3SiwafsSWq/KQLpW7XvaK/b+gRyNi8ISDfe6Rgzj8lg7wC2TnOUmdJhSxzZadeuiUGIxLMg0CBI+iu+OVHJWflMrc1Eusf1I2bLGXBPKjnACGbBwaDoZvQt0kdUH9gYbGVCSG+pU2BUEegu3ztyQjh4HsZtYFlH1jqrh7ewoovKGw53tMEec8HsRNVJJqpdkFtbj09v8BtaYva+RAJNw+C77t5AKFnBPMgvyXeAve8zQODwdCNyPi3N19obm5sDORdkzQ3NkkTmbYagtexv5v4m8jh4F/eb+Q91pH5PPiOez/4HIHZ3NRC/M3u7+DibyVRmH/L396f3nsGg8FgMBjShcj/D12bWMcMwAjEAAAAAElFTkSuQmCC)\n",
        "</br>\n",
        "예측 확률은 **predict_proba()** 메서드에서 제공"
      ],
      "metadata": {
        "id": "KOOH4w6xaZwc"
      }
    },
    {
      "cell_type": "code",
      "source": [
        "print(lr.predict_proba(train_bream_smelt[:5])) # 두 번째 샘플만 빙어 예측, 나머지는 모두 도미로 예측"
      ],
      "metadata": {
        "colab": {
          "base_uri": "https://localhost:8080/"
        },
        "id": "swgDlavhYKC2",
        "outputId": "1a04e362-cfe2-4a6b-e233-d1ede3ee38d5"
      },
      "execution_count": 18,
      "outputs": [
        {
          "output_type": "stream",
          "name": "stdout",
          "text": [
            "[[0.99759855 0.00240145]\n",
            " [0.02735183 0.97264817]\n",
            " [0.99486072 0.00513928]\n",
            " [0.98584202 0.01415798]\n",
            " [0.99767269 0.00232731]]\n"
          ]
        }
      ]
    },
    {
      "cell_type": "code",
      "source": [
        "print(lr.classes_)  # 알파벳 순서, 첫 번째 열: Bream(도미) / 두 번째 열 Smelt(빙어)"
      ],
      "metadata": {
        "colab": {
          "base_uri": "https://localhost:8080/"
        },
        "id": "99W47qn_YPBK",
        "outputId": "f6ef5b75-c619-4857-9d83-7a52bc7b8bfa"
      },
      "execution_count": 19,
      "outputs": [
        {
          "output_type": "stream",
          "name": "stdout",
          "text": [
            "['Bream' 'Smelt']\n"
          ]
        }
      ]
    },
    {
      "cell_type": "markdown",
      "source": [
        "### **이진 분류**\n",
        "\n",
        "\n"
      ],
      "metadata": {
        "id": "-wd1DQUygE5D"
      }
    },
    {
      "cell_type": "code",
      "source": [
        "print(lr.coef_, lr.intercept_)  # 학습 계수 확인: coef_ / intercept_"
      ],
      "metadata": {
        "colab": {
          "base_uri": "https://localhost:8080/"
        },
        "id": "6v_xIvuwgegk",
        "outputId": "ff9428f6-1fab-4b2f-d9b4-1ea97766d743"
      },
      "execution_count": 20,
      "outputs": [
        {
          "output_type": "stream",
          "name": "stdout",
          "text": [
            "[[-0.4037798  -0.57620209 -0.66280298 -1.01290277 -0.73168947]] [-2.16155132]\n"
          ]
        }
      ]
    },
    {
      "cell_type": "markdown",
      "source": [
        "z값 출력 해보기"
      ],
      "metadata": {
        "id": "9ayz3z3ShADs"
      }
    },
    {
      "cell_type": "code",
      "source": [
        "decisions = lr.decision_function(train_bream_smelt[:5])  # decision_funtion(): 양성 클래스에 대한 z값 계산\n",
        "print(decisions)"
      ],
      "metadata": {
        "colab": {
          "base_uri": "https://localhost:8080/"
        },
        "id": "vtuRMPuugwOz",
        "outputId": "cd9596db-11e4-422d-f10e-79c872ed2044"
      },
      "execution_count": 21,
      "outputs": [
        {
          "output_type": "stream",
          "name": "stdout",
          "text": [
            "[-6.02927744  3.57123907 -5.26568906 -4.24321775 -6.0607117 ]\n"
          ]
        }
      ]
    },
    {
      "cell_type": "markdown",
      "source": [
        "z 값을 *시그모이드 함수*에 통화시켜 *확률*을 계산해 보자"
      ],
      "metadata": {
        "id": "NqseaZd2gnkT"
      }
    },
    {
      "cell_type": "code",
      "source": [
        "from scipy.special import expit  # 사이파이(scipy 라이브러리에도 시그모이드 함수 존재: expit())\n",
        "print(expit(decisions))  # decisions 배열의 값을 확률로 변환"
      ],
      "metadata": {
        "colab": {
          "base_uri": "https://localhost:8080/"
        },
        "id": "UOAhd0s2gDIL",
        "outputId": "fef67012-e17b-4b43-940c-c1b143df0c78"
      },
      "execution_count": 22,
      "outputs": [
        {
          "output_type": "stream",
          "name": "stdout",
          "text": [
            "[0.00240145 0.97264817 0.00513928 0.01415798 0.00232731]\n"
          ]
        }
      ]
    },
    {
      "cell_type": "markdown",
      "source": [
        "\n",
        "\n",
        "```\n",
        "0.97264817\n",
        "```\n",
        "\n",
        "\n",
        "↑ predict_proba() 메서드 출력의 두 번째 열의 값과 동일하다."
      ],
      "metadata": {
        "id": "QWh2eHEBhcDP"
      }
    },
    {
      "cell_type": "markdown",
      "source": [
        "### **다중분류**\n",
        "- 다중분류: 똑같이 *LogisticRegression* 클래스를 사용해 7개의 생선 분류\n",
        "- LR 클래스는 기본적으로 반복적인 알고리즘 \n",
        "- *max_iter* 매개변서: 반복 횟수 지정(기본값 100) → 반복횟수를 1,000으로 증가\n",
        "- LR 클래스는 기본적으로 *계수의 제곱을 규제*(릿지 회귀와 동일) → **L2 규제**라고 부름\n",
        "- 릿지 회구에서는 alpha 매개변수로 규제의 양 조절: alpha가 커지면 규제도 커짐\n",
        "- LR 클래스는 **C 매개변수**로 규제의 양 조절: C가 작을 수록 규제가 커짐(기본값 1)\n",
        "  - → 이번 예제에서는 규제를 완화하기 위해 20으로 증가"
      ],
      "metadata": {
        "id": "WlU7CBnEhuxD"
      }
    },
    {
      "cell_type": "markdown",
      "source": [
        "### **다중 분류 모델 훈련**\n",
        "- 7개의 생선 데이터가 모두 들어있는 train_scaled, train_target 사용\n",
        "- 과대적합이나 과서적합으로 치우치지 않도록 규제값 적절히 조절"
      ],
      "metadata": {
        "id": "O8993T60iYBz"
      }
    },
    {
      "cell_type": "code",
      "source": [
        "lr = LogisticRegression(max_iter=1000, C=20)\n",
        "lr.fit(train_scaled, train_target)\n",
        "\n",
        "print('train score: ', lr.score(train_scaled, train_target))\n",
        "print('test score: ', lr.score(test_scaled, test_target))"
      ],
      "metadata": {
        "colab": {
          "base_uri": "https://localhost:8080/"
        },
        "id": "F7qgb7eriCUe",
        "outputId": "631112dd-9069-413b-f7f2-5137d03db7c4"
      },
      "execution_count": 23,
      "outputs": [
        {
          "output_type": "stream",
          "name": "stdout",
          "text": [
            "train score:  0.9327731092436975\n",
            "test score:  0.925\n"
          ]
        }
      ]
    },
    {
      "cell_type": "markdown",
      "source": [
        "### **다중 분류 모델 결과**\n",
        "↓ 테스트 세트의 처음 5개 샘플에 대한 예측 출력"
      ],
      "metadata": {
        "id": "5UcknipDjlVs"
      }
    },
    {
      "cell_type": "code",
      "source": [
        "print(lr.predict(test_scaled[:5]))"
      ],
      "metadata": {
        "colab": {
          "base_uri": "https://localhost:8080/"
        },
        "id": "-pnTE3njjyBQ",
        "outputId": "617209fc-d5c7-45e2-8e18-3db68d3b58c0"
      },
      "execution_count": 24,
      "outputs": [
        {
          "output_type": "stream",
          "name": "stdout",
          "text": [
            "['Perch' 'Smelt' 'Pike' 'Roach' 'Perch']\n"
          ]
        }
      ]
    },
    {
      "cell_type": "markdown",
      "source": [
        "↓ 예측 확률 출력(소수점 네 번째 자리에서 반올림)"
      ],
      "metadata": {
        "id": "w820df_vkDxv"
      }
    },
    {
      "cell_type": "code",
      "source": [
        "proba = lr.predict_proba(test_scaled[:5])\n",
        "print(np.round(proba, decimals=3))"
      ],
      "metadata": {
        "colab": {
          "base_uri": "https://localhost:8080/"
        },
        "id": "gevaVMVRjzZs",
        "outputId": "8d4d20a5-452f-42d2-f063-cfdb52ad4827"
      },
      "execution_count": 25,
      "outputs": [
        {
          "output_type": "stream",
          "name": "stdout",
          "text": [
            "[[0.    0.014 0.841 0.    0.136 0.007 0.003]\n",
            " [0.    0.003 0.044 0.    0.007 0.946 0.   ]\n",
            " [0.    0.    0.034 0.935 0.015 0.016 0.   ]\n",
            " [0.011 0.034 0.306 0.007 0.567 0.    0.076]\n",
            " [0.    0.    0.904 0.002 0.089 0.002 0.001]]\n"
          ]
        }
      ]
    },
    {
      "cell_type": "code",
      "source": [
        "print(lr.classes_)  # 알파벳 순서로 출력됨"
      ],
      "metadata": {
        "colab": {
          "base_uri": "https://localhost:8080/"
        },
        "id": "E7uKkOmTj75P",
        "outputId": "08358d67-19ed-49a9-9191-076ef6c9b08f"
      },
      "execution_count": 26,
      "outputs": [
        {
          "output_type": "stream",
          "name": "stdout",
          "text": [
            "['Bream' 'Parkki' 'Perch' 'Pike' 'Roach' 'Smelt' 'Whitefish']\n"
          ]
        }
      ]
    },
    {
      "cell_type": "markdown",
      "source": [
        "↓ 다중 분류의 선형 방정식"
      ],
      "metadata": {
        "id": "QHxoAXq8lKsz"
      }
    },
    {
      "cell_type": "code",
      "source": [
        "print(lr.coef_.shape, lr.intercept_.shape)"
      ],
      "metadata": {
        "colab": {
          "base_uri": "https://localhost:8080/"
        },
        "id": "UVSPho9Tj74U",
        "outputId": "54f99290-c21d-41ef-a0c1-6ac90b787a68"
      },
      "execution_count": 27,
      "outputs": [
        {
          "output_type": "stream",
          "name": "stdout",
          "text": [
            "(7, 5) (7,)\n"
          ]
        }
      ]
    },
    {
      "cell_type": "markdown",
      "source": [
        "- 5개의 특성 사용하므로 coef_ 배열의 열은 5개\n",
        "- coef_ 행, intercept_ 7개 있음 → 이진 분류에서 보았던 z를 7개나 계산\n",
        "- 다중 분류는 **클래스마다 z값을 하나씩 계산**\n",
        "  -가장 높은 z값을 출력하는 클래스가 예측 클래스\n",
        "- 확률 계산 방법: **소프트맥스**(softmax) 함수 사용하여 7개의 z값을 확률로 변환\n",
        "  - 여러 개의 선형 방정식의 출력값을 0~1 사이로 압축하고 **전체 합이 1**이 되도록 만드는 방법\n",
        "  - 지수 함수를 사용하기 때문에 **정규화된 지수 함수**라고도 부른다"
      ],
      "metadata": {
        "id": "VHl8KWyAlOQz"
      }
    },
    {
      "cell_type": "markdown",
      "source": [
        "↓ 1. **decision_function()** 메서드 사용하여 5개 샘플에 대한 z1~z7 값 계산"
      ],
      "metadata": {
        "id": "wqD55ZSZmVB3"
      }
    },
    {
      "cell_type": "code",
      "source": [
        "decision = lr.decision_function(test_scaled[:5])\n",
        "print(np.round(decision, decimals=2))"
      ],
      "metadata": {
        "colab": {
          "base_uri": "https://localhost:8080/"
        },
        "id": "tGSp_E2ymBhU",
        "outputId": "965ef5c1-944b-43bd-ae30-e03cec76b143"
      },
      "execution_count": 28,
      "outputs": [
        {
          "output_type": "stream",
          "name": "stdout",
          "text": [
            "[[ -6.5    1.03   5.16  -2.73   3.34   0.33  -0.63]\n",
            " [-10.86   1.93   4.77  -2.4    2.98   7.84  -4.26]\n",
            " [ -4.34  -6.23   3.17   6.49   2.36   2.42  -3.87]\n",
            " [ -0.68   0.45   2.65  -1.19   3.26  -5.75   1.26]\n",
            " [ -6.4   -1.99   5.82  -0.11   3.5   -0.11  -0.71]]\n"
          ]
        }
      ]
    },
    {
      "cell_type": "markdown",
      "source": [
        "2. **소프트맥스 함수**를 임포트하여 사용\n",
        "\n",
        "  axis 매개변수: 소프트맥스를 계산할 축 지정\n",
        "  **axis=1**: 각 행,***즉 각 샘플에 대해*** 소프트맥스 계산\n",
        "\n",
        "  axis지정 X: 배열 전체에 대해 소프트맥스 계산 "
      ],
      "metadata": {
        "id": "r826v-E2mdDc"
      }
    },
    {
      "cell_type": "code",
      "source": [
        "from scipy.special import softmax\n",
        "proba = softmax(decision, axis=1)\n",
        "print(np.round(proba, decimals=3))"
      ],
      "metadata": {
        "id": "RX9BmFy-ms3E",
        "colab": {
          "base_uri": "https://localhost:8080/"
        },
        "outputId": "f1541f5d-4cf8-4d12-f5de-686215dc1485"
      },
      "execution_count": 35,
      "outputs": [
        {
          "output_type": "stream",
          "name": "stdout",
          "text": [
            "[[0.    0.014 0.841 0.    0.136 0.007 0.003]\n",
            " [0.    0.003 0.044 0.    0.007 0.946 0.   ]\n",
            " [0.    0.    0.034 0.935 0.015 0.016 0.   ]\n",
            " [0.011 0.034 0.306 0.007 0.567 0.    0.076]\n",
            " [0.    0.    0.904 0.002 0.089 0.002 0.001]]\n"
          ]
        }
      ]
    },
    {
      "cell_type": "markdown",
      "source": [],
      "metadata": {
        "id": "iSXz98qRnQmi"
      }
    }
  ]
}