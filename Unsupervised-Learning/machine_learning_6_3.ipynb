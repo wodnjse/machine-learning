{
  "nbformat": 4,
  "nbformat_minor": 0,
  "metadata": {
    "colab": {
      "name": "machine_learning_6_3.ipynb",
      "provenance": [],
      "collapsed_sections": [],
      "authorship_tag": "ABX9TyMTG8LkufOitaZyE9SEqINu",
      "include_colab_link": true
    },
    "kernelspec": {
      "name": "python3",
      "display_name": "Python 3"
    },
    "language_info": {
      "name": "python"
    }
  },
  "cells": [
    {
      "cell_type": "markdown",
      "metadata": {
        "id": "view-in-github",
        "colab_type": "text"
      },
      "source": [
        "<a href=\"https://colab.research.google.com/github/wodnjse/machine-learning/blob/main/Unsupervised-Learning/machine_learning_6_3.ipynb\" target=\"_parent\"><img src=\"https://colab.research.google.com/assets/colab-badge.svg\" alt=\"Open In Colab\"/></a>"
      ]
    },
    {
      "cell_type": "markdown",
      "source": [
        "# **주성분 분석** \n",
        "###- 차원 축소"
      ],
      "metadata": {
        "id": "9vo_An-8Vf3A"
      }
    },
    {
      "cell_type": "markdown",
      "source": [
        "## *시작하기 전에*\n",
        "1. 매일 각양각색의 과일 사진이 업로드\n",
        "2. k-평균 알고리즘으로 업로드된 사진을 클러스터로 분류하여 폴더별로 저장\n",
        "3. 너무 많은 사진이 계속 등록되어 저장 공간이 부족\n",
        "4. 군집이나 분류에 <font color= #F06E5E>영향을 끼치지 않으면서</font>\n",
        "업로드된 <font color= #F06E5E>사진 용량 줄이는 방법?</font>"
      ],
      "metadata": {
        "id": "wJKT0q9RVlyc"
      }
    },
    {
      "cell_type": "markdown",
      "source": [
        "## **차원**\n",
        "- 특성: 데이터가 가진 속성\n",
        "  - 예) 과일 사진은 10,000개의 픽셀 → 10,000개의 특성\n",
        "\n",
        "- 차원(dimension): 머신러닝에서는 이런 특성을 차원이라고 부름\n",
        "- 10,000개의 특성은 결국 10,000개의 차원\n",
        "\n",
        "> 차원을 줄일 수 있다면 저장 공간 절약 가능\n",
        "  → <font color= #F06E5E>차원 축소</font>(dimentionality reduction)"
      ],
      "metadata": {
        "id": "g1Ki6-QEWQh9"
      }
    },
    {
      "cell_type": "markdown",
      "source": [
        "## **차원 축소**\n",
        "- 특성이 많으면 선형 모델의 성능이 높아지지만, 훈련 데이터에 <font color= #F9D923>과대적합</font>\n",
        "- 데이터를 가장 잘 나타내는 <font color= #F9D923>일부 특성을 선택</font>하여 데이터 <font color=#f9d923>크기를 줄임</font>\n",
        "- 지도 학습 모델의 <font color= #F9D923>성능 향상</font>\n",
        "- 줄어든 차원에서 다시 원본 차원으로 손실 줄이면서 복원 가능\n",
        "> <font color= #F06E5E>주성분 분석</font>(principal component analysis)\n",
        "  - 대표적 차원 축소 알고리즘, 줄여서 <font color= #F06E5E>PCA"
      ],
      "metadata": {
        "id": "Qf9TnebbWnvN"
      }
    },
    {
      "cell_type": "markdown",
      "source": [
        "## **PCA 손코딩**\n",
        "- 이전 페이지와 <font color=#f9d923>동일한 데이터</font> 사용\n",
        "- 과일 사진 데이터 다운로드하여 배열로 적재"
      ],
      "metadata": {
        "id": "IsO7zDH_YhFt"
      }
    },
    {
      "cell_type": "code",
      "execution_count": 1,
      "metadata": {
        "colab": {
          "base_uri": "https://localhost:8080/"
        },
        "id": "98O4Mr3eVcnO",
        "outputId": "36b97b7c-8675-4ad3-ddd3-2a113e82c9cd"
      },
      "outputs": [
        {
          "output_type": "stream",
          "name": "stdout",
          "text": [
            "--2022-08-29 07:10:00--  https://bit.ly/fruits_300_data\n",
            "Resolving bit.ly (bit.ly)... 67.199.248.11, 67.199.248.10\n",
            "Connecting to bit.ly (bit.ly)|67.199.248.11|:443... connected.\n",
            "HTTP request sent, awaiting response... 301 Moved Permanently\n",
            "Location: https://github.com/rickiepark/hg-mldl/raw/master/fruits_300.npy [following]\n",
            "--2022-08-29 07:10:00--  https://github.com/rickiepark/hg-mldl/raw/master/fruits_300.npy\n",
            "Resolving github.com (github.com)... 140.82.112.4\n",
            "Connecting to github.com (github.com)|140.82.112.4|:443... connected.\n",
            "HTTP request sent, awaiting response... 302 Found\n",
            "Location: https://raw.githubusercontent.com/rickiepark/hg-mldl/master/fruits_300.npy [following]\n",
            "--2022-08-29 07:10:01--  https://raw.githubusercontent.com/rickiepark/hg-mldl/master/fruits_300.npy\n",
            "Resolving raw.githubusercontent.com (raw.githubusercontent.com)... 185.199.108.133, 185.199.109.133, 185.199.110.133, ...\n",
            "Connecting to raw.githubusercontent.com (raw.githubusercontent.com)|185.199.108.133|:443... connected.\n",
            "HTTP request sent, awaiting response... 200 OK\n",
            "Length: 3000128 (2.9M) [application/octet-stream]\n",
            "Saving to: ‘fruits_300.npy’\n",
            "\n",
            "fruits_300.npy      100%[===================>]   2.86M  --.-KB/s    in 0.07s   \n",
            "\n",
            "2022-08-29 07:10:01 (42.5 MB/s) - ‘fruits_300.npy’ saved [3000128/3000128]\n",
            "\n"
          ]
        }
      ],
      "source": [
        "!wget https://bit.ly/fruits_300_data -O fruits_300.npy\n",
        "import numpy as np\n",
        "fruits = np.load('fruits_300.npy')\n",
        "fruits_2d = fruits.reshape(-1, 100*100)"
      ]
    }
  ]
}