{
  "nbformat": 4,
  "nbformat_minor": 0,
  "metadata": {
    "colab": {
      "name": "machine_learning_3-2.ipynb",
      "provenance": [],
      "authorship_tag": "ABX9TyNXutrfre3/wXJcw8vUiMiI",
      "include_colab_link": true
    },
    "kernelspec": {
      "name": "python3",
      "display_name": "Python 3"
    },
    "language_info": {
      "name": "python"
    }
  },
  "cells": [
    {
      "cell_type": "markdown",
      "metadata": {
        "id": "view-in-github",
        "colab_type": "text"
      },
      "source": [
        "<a href=\"https://colab.research.google.com/github/wodnjse/machine-learning/blob/main/K-Nearest-Neighbor/machine_learning_3_2.ipynb\" target=\"_parent\"><img src=\"https://colab.research.google.com/assets/colab-badge.svg\" alt=\"Open In Colab\"/></a>"
      ]
    },
    {
      "cell_type": "code",
      "execution_count": 1,
      "metadata": {
        "id": "PzFP4USJMY3O"
      },
      "outputs": [],
      "source": [
        "# 농어의 길이만 있어도 무게를 잘 예측할 수 있다고 판단\n",
        "import numpy as np\n",
        "\n",
        "perch_length = np.array(\n",
        "    [8.4, 13.7, 15.0, 16.2, 17.4, 18.0, 18.7, 19.0, 19.6, 20.0, 21.0, 21.0, 21.0, 21.3, 22.0, 22.0, 22.0, 22.0, 22.0, 22.5, \n",
        "     22.5, 22.7, 23.0, 23.5, 24.0, 24.0, 24.6, 25.0, 25.6, 26.5, 27.3, 27.5, 27.5, 27.5, 28.0, 28.7, 30.0, 32.8, 34.5, 35.0, \n",
        "     36.5, 36.0, 37.0, 37.0, 39.0, 39.0, 39.0, 40.0, 40.0, 40.0, 40.0, 42.0, 43.0, 43.0, 43.5, 44.0]\n",
        "     )\n",
        "perch_weight = np.array(\n",
        "    [5.9, 32.0, 40.0, 51.5, 70.0, 100.0, 78.0, 80.0, 85.0, 85.0, 110.0, 115.0, 125.0, 130.0, 120.0, 120.0, 130.0, 135.0, 110.0, \n",
        "     130.0, 150.0, 145.0, 150.0, 170.0, 225.0, 145.0, 188.0, 180.0, 197.0, 218.0, 300.0, 260.0, 265.0, 250.0, 250.0, 300.0, 320.0, \n",
        "     514.0, 556.0, 840.0, 685.0, 700.0, 700.0, 690.0, 900.0, 650.0, 820.0, 850.0, 900.0, 1015.0, 820.0, 1100.0, 1000.0, 1100.0, \n",
        "     1000.0, 1000.0]\n",
        "     )"
      ]
    },
    {
      "cell_type": "code",
      "source": [
        "from sklearn.model_selection import train_test_split\n",
        "\n",
        "# 훈련 세트와 테스트 세트로 나눔\n",
        "train_input, test_input, train_target, test_target = train_test_split(\n",
        "    perch_length, perch_weight, random_state=42)\n",
        "# 훈련 세트와 테스트 세트를 2차원 배열로 바꿈\n",
        "train_input = train_input.reshape(-1, 1)\n",
        "test_input = test_input.reshape(-1, 1)"
      ],
      "metadata": {
        "id": "ignyNID0MeI2"
      },
      "execution_count": 2,
      "outputs": []
    },
    {
      "cell_type": "code",
      "source": [
        "from sklearn.neighbors import KNeighborsRegressor\n",
        "knr = KNeighborsRegressor(n_neighbors=3) # 최근접 이웃 개수는 3\n",
        "# k-최근접 이웃 회귀 모델을 훈련\n",
        "knr.fit(train_input, train_target)\n",
        "print(knr.predict([[50]])) # 길이가 50cm인 농어 무게 예측"
      ],
      "metadata": {
        "colab": {
          "base_uri": "https://localhost:8080/"
        },
        "id": "sGK1FH-0NLyY",
        "outputId": "6f2bff14-69d7-41a6-d660-e023766a2991"
      },
      "execution_count": 3,
      "outputs": [
        {
          "output_type": "stream",
          "name": "stdout",
          "text": [
            "[1033.33333333]\n"
          ]
        }
      ]
    },
    {
      "cell_type": "markdown",
      "source": [
        "1033kg 예측 = 실제론 1.5kg"
      ],
      "metadata": {
        "id": "UTBI2D63Nn5l"
      }
    },
    {
      "cell_type": "code",
      "source": [
        "import matplotlib.pyplot as plt\n",
        "# 50cm 농어의 이웃을 구한다\n",
        "distances, indexes = knr.kneighbors([[50]])\n",
        "# 훈련 세트이 산점도를 그린다\n",
        "plt.scatter(train_input, train_target)\n",
        "#훈련 세트 중에서 이웃 샘플만 다시 그린다\n",
        "plt.scatter(train_input[indexes], train_target[indexes], marker='D')\n",
        "# 50cm의 농어 데이터\n",
        "plt.scatter(50, 1033, marker='^')\n",
        "plt.xlabel('length')\n",
        "plt.xlabel('weight')\n",
        "plt.show()"
      ],
      "metadata": {
        "colab": {
          "base_uri": "https://localhost:8080/",
          "height": 279
        },
        "id": "AvkygKgcOW_f",
        "outputId": "04c2a85f-3777-42de-dbcc-dfe141bea291"
      },
      "execution_count": 4,
      "outputs": [
        {
          "output_type": "display_data",
          "data": {
            "text/plain": [
              "<Figure size 432x288 with 1 Axes>"
            ],
            "image/png": "[encoded data removed]"
          },
          "metadata": {
            "needs_background": "light"
          }
        }
      ]
    },
    {
      "cell_type": "code",
      "source": [
        "import matplotlib.pyplot as plt\n",
        "# 100cm 농어의 이웃을 구한다\n",
        "distances, indexes = knr.kneighbors([[100]])\n",
        "# 훈련 세트이 산점도를 그린다\n",
        "plt.scatter(train_input, train_target)\n",
        "#훈련 세트 중에서 이웃 샘플만 다시 그린다\n",
        "plt.scatter(train_input[indexes], train_target[indexes], marker='D')\n",
        "# 100cm의 농어 데이터\n",
        "plt.scatter(100, 1033, marker='^')\n",
        "plt.xlabel('length')\n",
        "plt.xlabel('weight')\n",
        "plt.show()"
      ],
      "metadata": {
        "colab": {
          "base_uri": "https://localhost:8080/",
          "height": 279
        },
        "id": "vLK1C7VQEmJj",
        "outputId": "0ee48424-a3b7-4357-aedc-ab013e61fd1f"
      },
      "execution_count": 5,
      "outputs": [
        {
          "output_type": "display_data",
          "data": {
            "text/plain": [
              "<Figure size 432x288 with 1 Axes>"
            ],
            "image/png": "[encoded data removed]"
          },
          "metadata": {
            "needs_background": "light"
          }
        }
      ]
    },
    {
      "cell_type": "markdown",
      "source": [
        "선형회귀(liner regression)\n",
        "# 하나의 직선을 그리기 위해서는 기울기(a)와 절편 (b)"
      ],
      "metadata": {
        "id": "1E-aeGH6a6xL"
      }
    },
    {
      "cell_type": "code",
      "source": [
        "# cooef_기울기(coefficient) / intercept_ 절편\n",
        "print(lr.coef_,lr.intercept_)"
      ],
      "metadata": {
        "colab": {
          "base_uri": "https://localhost:8080/"
        },
        "id": "zQ0UuWv2a8kb",
        "outputId": "5e8dc1d7-d384-4f9f-dc3d-80f9a44f691a"
      },
      "execution_count": 9,
      "outputs": [
        {
          "output_type": "stream",
          "name": "stdout",
          "text": [
            "[39.01714496] -709.0186449535477\n"
          ]
        }
      ]
    },
    {
      "cell_type": "code",
      "source": [
        "plt.scatter(train_input, train_target)"
      ],
      "metadata": {
        "colab": {
          "base_uri": "https://localhost:8080/",
          "height": 283
        },
        "id": "UwF9_oV2a95r",
        "outputId": "9fb22b3a-cd74-4d5e-bfef-20483ee223c3"
      },
      "execution_count": 7,
      "outputs": [
        {
          "output_type": "execute_result",
          "data": {
            "text/plain": [
              "<matplotlib.collections.PathCollection at 0x7f7e06ed18d0>"
            ]
          },
          "metadata": {},
          "execution_count": 7
        },
        {
          "output_type": "display_data",
          "data": {
            "text/plain": [
              "<Figure size 432x288 with 1 Axes>"
            ],
            "image/png": "[encoded data removed]"
          },
          "metadata": {
            "needs_background": "light"
          }
        }
      ]
    },
    {
      "cell_type": "code",
      "source": [
        "from sklearn.linear_model import LinearRegression\n",
        "lr = LinearRegression()\n",
        "\n",
        "# 모델 훈련\n",
        "lr.fit(train_input, train_target)\n",
        "# 50cm 농어 예측\n",
        "print(lr.predict([[50]]))"
      ],
      "metadata": {
        "colab": {
          "base_uri": "https://localhost:8080/"
        },
        "id": "0aHC4gm3a0zL",
        "outputId": "3d485777-e42c-4e65-c8b9-d1045ad67fdb"
      },
      "execution_count": 8,
      "outputs": [
        {
          "output_type": "stream",
          "name": "stdout",
          "text": [
            "[1241.83860323]\n"
          ]
        }
      ]
    },
    {
      "cell_type": "code",
      "source": [
        "# 훈련 세트의 산점도를 구합니다.\n",
        "plt.scatter(train_input, train_target)\n",
        "\n",
        "# 15에서 100까지 1차 방정식 그래프를 그립니다\n",
        "plt .plot([15, 50], [15*lr.coef_+lr.intercept_, 50*lr.coef_+lr.intercept_])\n",
        "\n",
        "# 50cm 농어 데이터\n",
        "plt.scatter(50, 1241.8, marker='^')\n",
        "plt.xlabel('length')\n",
        "plt.xlabel('weight')\n",
        "plt.show()"
      ],
      "metadata": {
        "colab": {
          "base_uri": "https://localhost:8080/",
          "height": 279
        },
        "id": "I2SXH39MbApU",
        "outputId": "e344cff1-e885-43bb-8e7c-34ef87d8b961"
      },
      "execution_count": 11,
      "outputs": [
        {
          "output_type": "display_data",
          "data": {
            "text/plain": [
              "<Figure size 432x288 with 1 Axes>"
            ],
            "image/png": "[encoded data removed]"
          },
          "metadata": {
            "needs_background": "light"
          }
        }
      ]
    },
    {
      "cell_type": "code",
      "source": [
        "from sklearn.linear_model import LinearRegression\n",
        "lr = LinearRegression()\n",
        "\n",
        "# 모델 훈련\n",
        "lr.fit(train_input, train_target)\n",
        "# 100cm 농어 예측\n",
        "print(lr.predict([[100]]))"
      ],
      "metadata": {
        "colab": {
          "base_uri": "https://localhost:8080/"
        },
        "id": "iNZqPjLpbDPr",
        "outputId": "0da510a2-0861-4387-b821-49a539b270d9"
      },
      "execution_count": 10,
      "outputs": [
        {
          "output_type": "stream",
          "name": "stdout",
          "text": [
            "[3192.69585141]\n"
          ]
        }
      ]
    },
    {
      "cell_type": "code",
      "source": [
        "# 훈련 세트의 산점도를 구합니다.\n",
        "plt.scatter(train_input, train_target)\n",
        "\n",
        "# 15에서 100까지 1차 방정식 그래프를 그립니다\n",
        "plt .plot([15, 100], [15*lr.coef_+lr.intercept_, 100*lr.coef_+lr.intercept_])\n",
        "\n",
        "# 100cm 농어 데이터\n",
        "plt.scatter(100, 3192.7, marker='^') # 3192.7의 출처는 위 100cm 농어 예측의 결과값\n",
        "plt.xlabel('length')\n",
        "plt.xlabel('weight')\n",
        "plt.show()"
      ],
      "metadata": {
        "colab": {
          "base_uri": "https://localhost:8080/",
          "height": 279
        },
        "id": "IH0E44hfbFjb",
        "outputId": "d21556a8-738f-4fe8-9337-1106ba41db84"
      },
      "execution_count": 12,
      "outputs": [
        {
          "output_type": "display_data",
          "data": {
            "text/plain": [
              "<Figure size 432x288 with 1 Axes>"
            ],
            "image/png": "[encoded data removed]"
          },
          "metadata": {
            "needs_background": "light"
          }
        }
      ]
    },
    {
      "cell_type": "markdown",
      "source": [
        "#선형 회귀의 문제점\n",
        "과대적합 및 전체적으로 과소적합\n",
        "\n",
        "그래프 왼쪽 아래로 쭉 뻗어있음\n",
        "![{C0B963CA-D8EE-434D-94ED-E2CA8726FA24}.png.jpg](data:image/jpeg;base64,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)\n",
        "\n",
        "농어의 무게가 0g 이하로 내려감\n",
        "\n",
        "-> 현실에서 불가능\n"
      ],
      "metadata": {
        "id": "Fyc8le31bJEK"
      }
    },
    {
      "cell_type": "code",
      "source": [
        "print(lr.score(train_input, train_target))\n",
        "print(lr.score(test_input, test_target))"
      ],
      "metadata": {
        "colab": {
          "base_uri": "https://localhost:8080/"
        },
        "id": "UsngWZ8fRCXR",
        "outputId": "3ec04b80-9edb-4d06-b457-cbf4f70212f2"
      },
      "execution_count": 17,
      "outputs": [
        {
          "output_type": "stream",
          "name": "stdout",
          "text": [
            "0.939846333997604\n",
            "0.8247503123313558\n"
          ]
        }
      ]
    },
    {
      "cell_type": "code",
      "source": [
        "# 길이를 제곱한 항을 훈련 세트에 추가\n",
        "# 넘파이에서 아주 간단히 추가 가능\n",
        "# column_stack 함수 사용\n",
        "# 열이 2개: 길이 제곱하여 왼쪽 열 추가\n",
        "\n",
        "train_poly = np.column_stack((train_input ** 2, train_input))\n",
        "test_poly = np.column_stack((test_input ** 2, test_input))\n",
        "print(train_poly.shape, test_poly.shape)"
      ],
      "metadata": {
        "colab": {
          "base_uri": "https://localhost:8080/"
        },
        "id": "-UpS4qN6RUk5",
        "outputId": "5455fa94-9687-4bed-d885-8533f7741f11"
      },
      "execution_count": 21,
      "outputs": [
        {
          "output_type": "stream",
          "name": "stdout",
          "text": [
            "(42, 2) (14, 2)\n"
          ]
        }
      ]
    },
    {
      "cell_type": "code",
      "source": [
        "lr = LinearRegression()\n",
        "lr.fit(train_poly, train_target)\n",
        "\n",
        "print(lr.predict([[50**2, 50]]))"
      ],
      "metadata": {
        "colab": {
          "base_uri": "https://localhost:8080/"
        },
        "id": "3_XhzOuoRrNw",
        "outputId": "c760fd82-6a05-4164-a202-60b547f20370"
      },
      "execution_count": 24,
      "outputs": [
        {
          "output_type": "stream",
          "name": "stdout",
          "text": [
            "[1573.98423528]\n"
          ]
        }
      ]
    },
    {
      "cell_type": "code",
      "source": [
        "lr = LinearRegression()\n",
        "lr.fit(train_poly, train_target)\n",
        "\n",
        "print(lr.predict([[100**2, 100]]))"
      ],
      "metadata": {
        "colab": {
          "base_uri": "https://localhost:8080/"
        },
        "id": "3uboGHnUR3bJ",
        "outputId": "9329fbf1-e9f1-4bd2-d5b3-0017b95a4b0c"
      },
      "execution_count": 26,
      "outputs": [
        {
          "output_type": "stream",
          "name": "stdout",
          "text": [
            "[8103.57880667]\n"
          ]
        }
      ]
    },
    {
      "cell_type": "code",
      "source": [
        "# 무게 = 1.01 * 길이² - 21.6 * 길이 + 116.5\n",
        "print(lr.coef_, lr.intercept_)"
      ],
      "metadata": {
        "colab": {
          "base_uri": "https://localhost:8080/"
        },
        "id": "C_0jwu4XSCUh",
        "outputId": "e3d3c01b-6002-44fb-be16-a800936187ea"
      },
      "execution_count": 34,
      "outputs": [
        {
          "output_type": "stream",
          "name": "stdout",
          "text": [
            "[  1.01433211 -21.55792498] 116.0502107827827\n"
          ]
        }
      ]
    },
    {
      "cell_type": "code",
      "source": [
        "# 구간별 직선을 그리기 위해 15에서 49까지 정수 배열 생성\n",
        "point = np.arange(15, 50)\n",
        "\n",
        "# 훈련 세트의 산점도를 그림\n",
        "plt.scatter(train_input, train_target)\n",
        "\n",
        "# 15에서 49까지 2차 방정식 그래프를 그림\n",
        "plt.plot(point, 1.01*point**2 - 21.6*point + 116.05)\n",
        "\n",
        "# 50cm 농어 데이터\n",
        "plt.scatter([50],[1574],marker='p', s = 500)\n",
        "plt.xlabel('length')\n",
        "plt.xlabel('weight')\n",
        "plt.show()"
      ],
      "metadata": {
        "colab": {
          "base_uri": "https://localhost:8080/",
          "height": 279
        },
        "id": "icxOCxn0SJCn",
        "outputId": "be1a2652-79eb-49ae-ff53-630b40ec6252"
      },
      "execution_count": 44,
      "outputs": [
        {
          "output_type": "display_data",
          "data": {
            "text/plain": [
              "<Figure size 432x288 with 1 Axes>"
            ],
            "image/png": "[encoded data removed]"
          },
          "metadata": {
            "needs_background": "light"
          }
        }
      ]
    },
    {
      "cell_type": "code",
      "source": [
        "# 훈련 세트와 테스트 세트 R²점수 평가 결과\n",
        "# 성능이 단순한 선형 회귀보다 휠씬 높아짐(무게 음수 x\n",
        "# 여전히 테스트 세트 점수가 조금 더 높음 -> 과소적합\n",
        "\n",
        "print(lr.score(train_poly, train_target))\n",
        "print(lr.score(test_poly, test_target))"
      ],
      "metadata": {
        "colab": {
          "base_uri": "https://localhost:8080/"
        },
        "id": "I-f-wDhbShB7",
        "outputId": "886354c8-d5a2-45ad-99db-c6e8fd61b9b7"
      },
      "execution_count": 35,
      "outputs": [
        {
          "output_type": "stream",
          "name": "stdout",
          "text": [
            "0.9706807451768623\n",
            "0.9775935108325122\n"
          ]
        }
      ]
    }
  ]
}
