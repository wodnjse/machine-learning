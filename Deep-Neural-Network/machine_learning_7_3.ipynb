{
  "nbformat": 4,
  "nbformat_minor": 0,
  "metadata": {
    "colab": {
      "provenance": [],
      "collapsed_sections": [],
      "authorship_tag": "ABX9TyNkqSTK7WXqqN6MKNglFQqs",
      "include_colab_link": true
    },
    "kernelspec": {
      "name": "python3",
      "display_name": "Python 3"
    },
    "language_info": {
      "name": "python"
    }
  },
  "cells": [
    {
      "cell_type": "markdown",
      "metadata": {
        "id": "view-in-github",
        "colab_type": "text"
      },
      "source": [
        "<a href=\"https://colab.research.google.com/github/wodnjse/machine-learning/blob/main/Deep-Neural-Network/machine_learning_7_3.ipynb\" target=\"_parent\"><img src=\"https://colab.research.google.com/assets/colab-badge.svg\" alt=\"Open In Colab\"/></a>"
      ]
    },
    {
      "cell_type": "markdown",
      "source": [
        "## **신경망 모델 훈련 - 드롭아웃, 콜백, 조기종료**\n",
        "###시작하기 전에\n",
        "\n",
        "1. 복습: 인공 신경망 + 심층 신경망 + 옵티마이저\n",
        "2. 머신러닝: 매개변수 조정, 훈련 반복 → 모델 구조가 <font color=\"#ffae4a\">어느 정도 고정</font>\n",
        "3. 딥러닝 <font color=\"#ffae4a\">모델의 구조</font>를 직접 만듬 → 층 추가, 뉴런 개수, 활성화함수 결정\n",
        "4. 케라스 API 사요앻 모델 훈련 시 필요한 <font color=\"#ffae4a\">다양한 도구</font>를 알아보자!"
      ],
      "metadata": {
        "id": "vtRv1tziw2yZ"
      }
    },
    {
      "cell_type": "markdown",
      "source": [
        "---"
      ],
      "metadata": {
        "id": "vItWKjw6yX44"
      }
    },
    {
      "cell_type": "markdown",
      "source": [
        "## **데이터 준비**\n",
        "패션 MNIST 데이터셋 로딩"
      ],
      "metadata": {
        "id": "xqAz3f3pyN9g"
      }
    },
    {
      "cell_type": "code",
      "execution_count": 1,
      "metadata": {
        "id": "jbS6QYTOuLaT"
      },
      "outputs": [],
      "source": [
        "from tensorflow import keras\n",
        "(train_input, train_target), (test_input, test_target) =\\\n",
        "keras.datasets.fashion_mnist.load_data()"
      ]
    },
    {
      "cell_type": "code",
      "source": [
        "from sklearn.model_selection import train_test_split\n",
        "\n",
        "train_scaled = train_input / 255.0\n",
        "train_scaled, val_scaled, train_target, val_target = train_test_split(\n",
        "    train_scaled, train_target, test_size = 0.2, random_state= 42\n",
        ")"
      ],
      "metadata": {
        "id": "H_caFwOeuc8R"
      },
      "execution_count": 2,
      "outputs": []
    },
    {
      "cell_type": "markdown",
      "source": [
        "> 1. 이미지 픽셀값: 0~255 범위를 <font color=\"#ff0000\">0 ~ 1</font> 사이로 변환\n",
        "2. 28x28 크기의 2차원 배열을 <font color=\"#ff0000\">784 크기</font>의 1차원 배열로 변환\n",
        "3. 훈련 세트를 <font color=\"#ff0000\">훈련 세트와 검증 세트</font>로 분류"
      ],
      "metadata": {
        "id": "D7ROZs0GyRt4"
      }
    },
    {
      "cell_type": "markdown",
      "source": [
        "## **모델 생성 함수**\n",
        "모델 생성 함수 정의"
      ],
      "metadata": {
        "id": "7Onm7LBzwa_g"
      }
    },
    {
      "cell_type": "code",
      "source": [
        "def model_fn(a_layer=None):\n",
        "  model = keras.Sequential()\n",
        "  model.add(keras.layers.Flatten(input_shape=(28, 28)))\n",
        "  model.add(keras.layers.Dense(100, activation='relu'))\n",
        "  if a_layer:\n",
        "    model.add(a_layer)\n",
        "  model.add(keras.layers.Dense(10, activation='softmax'))\n",
        "  return model"
      ],
      "metadata": {
        "id": "qmEZ_gYrvjfC"
      },
      "execution_count": 3,
      "outputs": []
    },
    {
      "cell_type": "markdown",
      "source": [
        "> <font color=\"#ff0000\">a_layer 매개변수</font>: 은닉층 뒤에 또 하나의 층 추가"
      ],
      "metadata": {
        "id": "73sjYHJEwXNJ"
      }
    },
    {
      "cell_type": "markdown",
      "source": [
        "## **모델 생성 함수**\n",
        "model_fn() 함수 호출(층 추가 x)"
      ],
      "metadata": {
        "id": "O0zyaLdlxhLo"
      }
    },
    {
      "cell_type": "code",
      "source": [
        "model = model_fn()\n",
        "model.summary()"
      ],
      "metadata": {
        "colab": {
          "base_uri": "https://localhost:8080/"
        },
        "id": "R4_Jndhsxsm-",
        "outputId": "50bf5e88-82eb-4442-e697-c758a9c25a4c"
      },
      "execution_count": 4,
      "outputs": [
        {
          "output_type": "stream",
          "name": "stdout",
          "text": [
            "Model: \"sequential\"\n",
            "_________________________________________________________________\n",
            " Layer (type)                Output Shape              Param #   \n",
            "=================================================================\n",
            " flatten (Flatten)           (None, 784)               0         \n",
            "                                                                 \n",
            " dense (Dense)               (None, 100)               78500     \n",
            "                                                                 \n",
            " dense_1 (Dense)             (None, 10)                1010      \n",
            "                                                                 \n",
            "=================================================================\n",
            "Total params: 79,510\n",
            "Trainable params: 79,510\n",
            "Non-trainable params: 0\n",
            "_________________________________________________________________\n"
          ]
        }
      ]
    },
    {
      "cell_type": "markdown",
      "source": [
        "> 앞서 만든 모델 결과와 <font color=\"#ff0000\">동일!</font>"
      ],
      "metadata": {
        "id": "Diw9GWTWxmCY"
      }
    },
    {
      "cell_type": "markdown",
      "source": [
        "## **모델 생성 함수**\n",
        "\n",
        "모델 훈련"
      ],
      "metadata": {
        "id": "zCDBD1lWyhMI"
      }
    },
    {
      "cell_type": "code",
      "source": [
        "model.compile(loss='sparse_categorical_crossentropy', metrics='accuracy')\n",
        "model.fit(train_scaled, train_target, epochs=5)"
      ],
      "metadata": {
        "colab": {
          "base_uri": "https://localhost:8080/"
        },
        "id": "wpKIL85nyjY4",
        "outputId": "303f22dd-6ee4-4f5e-da8f-f5b21c46cccc"
      },
      "execution_count": 5,
      "outputs": [
        {
          "output_type": "stream",
          "name": "stdout",
          "text": [
            "Epoch 1/5\n",
            "1500/1500 [==============================] - 5s 3ms/step - loss: 0.5363 - accuracy: 0.8123\n",
            "Epoch 2/5\n",
            "1500/1500 [==============================] - 5s 3ms/step - loss: 0.3913 - accuracy: 0.8598\n",
            "Epoch 3/5\n",
            "1500/1500 [==============================] - 3s 2ms/step - loss: 0.3549 - accuracy: 0.8721\n",
            "Epoch 4/5\n",
            "1500/1500 [==============================] - 3s 2ms/step - loss: 0.3322 - accuracy: 0.8809\n",
            "Epoch 5/5\n",
            "1500/1500 [==============================] - 3s 2ms/step - loss: 0.3179 - accuracy: 0.8862\n"
          ]
        },
        {
          "output_type": "execute_result",
          "data": {
            "text/plain": [
              "<keras.callbacks.History at 0x7f1258739490>"
            ]
          },
          "metadata": {},
          "execution_count": 5
        }
      ]
    },
    {
      "cell_type": "markdown",
      "source": [
        "> fit() 메서드는 <font color=\"#ff0000\">History 클래스 객체</font> 반환\n",
        "- 훈련 과정에서 계산한 지표(<font color=\"#ff0000\">손실, 정확도 값</font>) 저장되어 있음\n",
        "- 저장해서 출력해보자!"
      ],
      "metadata": {
        "id": "yXlwyEgpy6H_"
      }
    },
    {
      "cell_type": "code",
      "source": [],
      "metadata": {
        "id": "jXkAc5UuxfKU"
      },
      "execution_count": 5,
      "outputs": []
    }
  ]
}