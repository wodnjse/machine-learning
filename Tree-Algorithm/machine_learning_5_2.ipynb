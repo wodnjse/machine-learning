{
  "nbformat": 4,
  "nbformat_minor": 0,
  "metadata": {
    "colab": {
      "name": "machine_learning_5_2.ipynb",
      "provenance": [],
      "collapsed_sections": [],
      "mount_file_id": "1BRF6KPtwDxuWritGLsOJmTiqzxQ3q7Cc",
      "authorship_tag": "ABX9TyPyo0Bi3nkgoCJZqJRYeQjz",
      "include_colab_link": true
    },
    "kernelspec": {
      "name": "python3",
      "display_name": "Python 3"
    },
    "language_info": {
      "name": "python"
    }
  },
  "cells": [
    {
      "cell_type": "markdown",
      "metadata": {
        "id": "view-in-github",
        "colab_type": "text"
      },
      "source": [
        "<a href=\"https://colab.research.google.com/github/wodnjse/machine-learning/blob/main/Tree-Algorithm/machine_learning_5_2.ipynb\" target=\"_parent\"><img src=\"https://colab.research.google.com/assets/colab-badge.svg\" alt=\"Open In Colab\"/></a>"
      ]
    },
    {
      "cell_type": "markdown",
      "source": [
        "**교차 검증과 그리드 서치**\n",
        "===\n",
        "검증세트, 교차검증, 그리드 서치\n",
        "---\n"
      ],
      "metadata": {
        "id": "LAu6ChL0-GRf"
      }
    },
    {
      "cell_type": "markdown",
      "source": [
        "# 검증 세트\n",
        "- 테스트 세트는 모델을 만들고 나서 <font color= \t\t#0080ff>마지막에 딱 한 번만</font> 사용\n",
        "- 테스트 세트를 사용하지 않으면 모델이 과대적합인지 과소적합인지 판단할 수 없음\n",
        "- 테스트 세트를 사용하지 않고 이를 측정: <font color= \t\t#0080ff>훈련 세트를 또 나눔\n",
        "  - <font color= #0080ff>검증 세트</font>(validation set)   \n",
        "![image.png](data:image/png;base64,iVBORw0KGgoAAAANSUhEUgAAATMAAACsCAYAAAAXH0t8AAAfcklEQVR4Ae2dB5QUxRaGMSsYQDBhArMERTEBghgQBRNGMCIqgumIGDA9xZwwnGNGMWNAxZwwB0yIAcWMWRRzVgz3ne8+a17v9MzszO7O7nTPX+fUdE93T0/Vf6u+rqruvtXMFKSAFJACKVCgWQryoCxIASkgBUwwUyGQAlIgFQoIZqkwozIhBaSAYKYyIAWkQCoUEMxSYUZlQgpIAcFMZSCRCvzzzz82Y8YMmzp1qk2ZMsVeffVV+/DDD+3PP/9MZH6U6PorIJjVX0OdoREVePjhh23rrbe2Fi1aWLNmzWKxZcuWNnToUJs2bVojpkp/VQkKCGaVYAWloVYFfvvtN9tzzz1tzTXXtKuuusquvPJKB9lOO+1kb7zxhk2aNMmOO+44W2655Xz7QgstZM8880yt59UB6VFAMEuPLVOdk/3228+WWmopmzlzpucToNEyO+mkk2rk+5tvvrGNN97Y97Vt27bGPn1JtwKCWbrtmzN36667rrVu3dqo7LRkNt1006JaMXfeeae99NJLOc9Z143FnJPxsR133NFee+21zN8cfvjhDqzbbrstsy2sfP311zbnnHP6/nfeeSds1jLlCghmKTdwruyts8469tBDD/muv//+2x588EFbfPHF7fXXX891eGbbgQceaFdffXXme0Os1PWcW265pcPq888/z5kMgE3L7Z577sm5XxvTp4Bglj6b1pqjKMzCwYw37b///v6VQfb11lvPVl55ZevZs6e99957NmbMGAde+/bt7aKLLrJZs2bZ9ttv78d07NjRbrjhBv/td999Z4xjrbbaarb22mvbXXfd5ds/+OAD22abbYxjd9ttN/v+++9j5wxpKWZJi7Jdu3Z5D+U/gFm0NZf3YO1IhQKCWSrMWFomcsGM7tomm2ziJ2Js6rnnnvP1448/3o466ij7/fff/S7hpZdean/88YcddNBBvp2WHcAAcoRzzjnHhgwZ4uvTp083Wkh//fWXg+3xxx/37RdeeKHtvPPOsXP6ziI+GBcDVLvuumveo4EmNwsUqkcBwax6bJ3JaS6Y3Xzzzda/f38/Blg9++yzdtlll9n6669vw4cP9+3RLiEQe/fdd+3GG280BufbtGnjx3AHcckll7TDDjvM7r77buMuJHcbl156aQcdsDvrrLNs/vnnd8hFz5lJYC0r1113ncOMmwC5wgMPPOD7OU6hehQQzKrH1pmc5oLZiBEjbOTIkfbzzz/bWmutZUceeaTdcccdDqBcMGM/41bXXnutvfjiixmY8SfccRw3bpwP2tNio0XG8oorrqgRgWZdYEb3dt555zW6tLkCdzO5qTF79uxcu7UtpQoIZik1bKFsRWHGncKJEydaq1at7KOPPrLnn3/e1lhjjczPDzjgABs2bJh/p2sJpAiMWb311lu+/thjj/ndUb6cffbZNW4SrLrqqt7KA2Y8oU/gRsNee+3l69Fz+oZaPn799Vd/YJYHZ7MDIGa8DphxnEJ1KSCYVZe9PbfALDyawSB/37597ZVXXvF9AKFLly62wQYbWLdu3by7uMQSS9j7779vdNvoQp577rl29NFHe2urd+/ePpbGYDwPstL1ZLyqV69e1rVrVxs0aJB3J+n6rbLKKrbhhhv6uYEmIXpO31DLB49yMF52/fXX1ziSR0ZI9x577GG//PJLjX36Uh0KCGbVYeeScklr7csvvzTGxQg//PBDzt/TzQvgYBneiwy///HHH2O/y9c1jB2YYwPjb7TIeIaMLut5551ndI9pSXbv3t1blTl+pk1VooBgViWGTno2AWWHDh28VTbXXHPZoosu6i1KbijwkrmCFBDMVAakgBRIhQKCWSrMqExIASkgmKkMSAEpkAoFBLNUmFGZkAJSQDBTGZACUiAVCghmqTCjMiEFpIBgpjIgBaRAKhQQzFJhxsrOxGeffWY8ua8gBcqpgGBWTnV1bn+LYIEFFjBeicLtj4IUKJcCglm5lNV57c033/Qn9nnx+6uvvvJ13gPFMaOCFGhoBQSzhlZU5/P5BPCNRmsMR4wh/PTTT+7UkengDj74YPv000/DLi2lQL0VEMzqLaFOwAvpkydPdn9ouPrB7c/ll1+eeQk9WyH8nY0aNco9d/CCOG6DcD+kIAXqo4BgVh/1qvS3TCLCPAEnnHCC9enTx5ijEvc7fC/lpW9cceMaiLkHcC20zDLL+LjaBRdc4A4fc3ndqFLJle0iFBDMihApzYfgricaaGUxVRtQuu+++9zVzujRo23fffd1P2QLL7ywLbbYYoYfM3ya4Robn/wNEZg4Bc+1wI3JUJo3b+7utjfbbDM75JBD7Mwzz3T/Z48++qg7htTYW0Oonp5zlA1mVJKPP/7YpzTDl/wpp5ziE2DgWI/CGuLQoUPdhzzfqTBEfMrvs88+HpkcY++997bBgwf7Eg+lzGwd4u67725EZuNhgosQBw4caMRddtnFr/as44WU+ReJO+ywg88uhAvmAQMG2HbbbWfbbrutzyDELEL4zSIy9tOvXz+PuIneYost3PXM5ptvbkRaJlQ23DQzIQiRAe+NNtrII04KmeEIp4Qs6Vbh9BDf+syAxIQfOEtkSQXGZTWtHCbj6Ny5s/vqwtkh7m+Y8YguHE4OiSuuuKI7SMQxIp5fadksu+yyPlku41VAByeMuMtZZJFFvAUFILi7OM8889jcc8/tvsHYxzgWrqjZhj//Tp06eT7Rnpmbxo4da0899VSDgauYKkQZwjvt/fff777LmCsT+6ItTiXxjos7oAUXXNCALPmYY445PA/kj7y2aNHC880+tCCiC/owcQt6EcNsT3STOfdKK63kGqM3uq+++upuD3TBfxr2wU7YC7thPyI2xbbBuSV279GjR8b+lAHKBHkIZYUl5YdyRKRMUba4WUKkzFH2QjkM5ZMlkXJL+Q1lmSXlm0hZD3WAu8msh7oR6gpL6g/1COeWxFC/qG/R+kf9pE5SP6mnoc6G+sw26jTf+S1l75hjjrHTTz/drrnmGvc6/O233xZj/pKPaRCYkbh7773XTj31VBclXFUpJBiHjDHLDxNZYGTGU0KkkgC78J0ljvfYjotm1vFgyjpzNjKJBUsiXkq5khNZx/socfz48ZnIhBs33XSTMWEH8ZZbbvE4YcIEu/XWW91lNDMT3X777b6O33siz0XR6iAy9yKRPNJaoXLRPSIy5yRzUE6aNMm7XnS/8HmPK2ki60888YQ9+eST9vTTT3tk0g8mDGEGJDyuvvDCCzZlyhSPeEydOnWqvfzyy946mjZtmhFxNc1sR9whxF01Hl2JeICdMWOGV3ouHgyq81wX41I4WOQuIvbBKSJOFvEki5ND/O/TCgMYbCfS7UtiwDEkrbTQLSVf5I98ctOBvJF/dEAPdEEfdEIvxuuAJjqiJy1EJg9GZ/RGdyZlwQbMRIVXXuyDnbBXsB22xKbYljFE7EzkIoD9KQfEaPl45JFHvNxQfihHRMoUZYtyRqTMUfZCOaRMUj5DWcXteSi/lGXKNeWbGMo7dYBIfQj1g/VQZ0Jd4jvQCXWM+kak/lEPiaF+sozWW9ajdfniiy92yNKQAWjAjfrPhZMLClCHDeeff77rhc3qE+oEM/yrIyR0psXAmAlXFrodiIBRQ8GqT+L0WykgBdKpAOOugJy73cwDERpAtGK5OcRFIXsIpDYlSoIZVwmas8CLpjGTwXJ1Yl5EBSkgBaRAfRSg1wDguJFEI6lt27Y+zeHbb79d1GmLghnNTk7OWAFdunL1eYtKsQ6SAlKgKhQAYgxdMYbL+DVd+0KhIMzoTjKYyMAmfXoFKSAFpEBjK8DYJ+NxQO2MM87I+/d5YcYgKnceuYsYZt3JexbtkAJSQAqUWQFu1HBTkZsJuUJemPFDbgVzJ0hBCkgBKVAJCtBK45nDXCEvzHIdrG1SQApIgUpVQDCrVMsoXVJACpSkgGBWklw6WApIgUpVQDCrVMsoXVJACpSkgGBWklw6WApIgUpVQDCrVMsoXVJACpSkgGBWklw6WApIgUpVIAazWbNm2YknnuheQ0eOHKmlNKjIMjB8+HB3pdS1a1dLa8RnHB47Sg3VUIdhFPmMhhjMOIgn/xWlgcpA05cBgFZqqJY6TD6jIQYzWmMUYq52aW2Z4aAvrXkL+cJxYVhP45LySTlt27q19ejUMXWxVfPmmXoYrbDFrGNvtOmw/PI2uG+f1EXyRf7IZzTkhVn2gdEfJX0db6FpD3hITXMIFXbYoIE2c/LTqYsAOjQqSrVj0AaQTR83NnWRfAlm/5YKwazU6lF5x4cKK5jFbRO0Ecz+baIiSFqDYJZ8y4YKK5jFbRm0EcwEs3jpSOAWdTOT3fVUNzN/91jdzAiQ1DKLiJHQ1dD6UMssbsCgjVpmapnFS0cCt6hlppaZYCaYJRBd8SQLZoKZYCaYxcmQwC2CmWAmmAlmCURXPMmCmWAmmAlmcTIkcItgJpgJZoJZAtEVT7JgJpgJZoJZnAwJ3CKYCWaCmWCWQHTFkyyYCWaCmWAWJ0MCtwhmgplgJpglEF3xJAtmgplgJpjFyZDALYKZYCaYCWYJRFc8yYKZYCaYCWZxMiRwi2AmmAlmglkC0RVPsmAmmAlmglmcDAncIpgJZoKZYJZAdMWTLJgJZoKZYBYnQwK3CGaCmWAmmCUQXfEkC2aCmWAmmMXJkMAtgplgJpgJZglEVzzJgplgJpgJZnEyJHCLYCaYCWaCWQLRFU+yYCaYCWaCWZwMCdwimAlmgplglkB0xZMsmAlmgplgFidDArcIZoKZYCaYJRBd8SQLZoKZYCaYxcmQwC2CmWAmmAlmCURXPMmCmWAmmAlmcTIkcItgJpgJZoJZAtEVT7JgJpgJZoJZnAwJ3CKYCWaCmWCWQHTFkyyYCWaCmWAWJ0MCtwhmgplgJpglEF3xJAtmgplgJpjFyZDALYKZYCaYCWYJRFc8yYKZYCaYCWZxMiRwi2AmmAlmglkC0RVPsmAmmAlmglmcDAncIpgJZoKZYJZAdMWTLJgJZoKZYBYnQwK3CGaCmWAmmCUQXfEkC2aCmWAmmMXJkMAtgplgJpgJZglEVzzJgplgJpgJZnEyJHCLYCaYCWaCWQLRFU+yYCaYCWaCWZwMCdwimAlmgplglkB0xZMsmAlmgplgFidDArcIZoKZYPYvzLp27WojR45MZVx00UVTma+ovVq2bJnqPFI+mzVrZm3btLbunTulLrZs3tzzRz5LDZQDtOnYvr0N6d8vdZF8kT/yGQ3Nol9YP/HEE/1ADlaUBioDTVsGevfunV1Fa/1eLXWYfEZDDGazZs1yoEWv8lpPZws1yXYdPny4devWzWi5pDUCsunTp0fra1Hr1VCHARn5jIYYzKI7tS4FpIAUSIoCgllSLKV0SgEpUFABwaygPNopBaRAUhQQzJJiKaVTCkiBggoIZgXl0U4pIAWSooBglhRLKZ1SQAoUVEAwKyiPdkoBKZAUBQSzpFhK6ZQCUqCgAoJZQXm0UwpIgaQoIJglxVJKpxSQAgUVEMwKyqOdUkAKJEUBwSwpllI6pYAUKKhATpidccYZ9ssvvxT8oXZKgaZU4I033rAtt9zSfvzxx6ZMRtn++++//7aTTz7ZWJYafv75Z6MOs0xj+PPPP+3UU081ltGQE2b77befHXXUUdHjtC4FKkYBANaqVSvbfPPNKyZN5UgIfve+/vrrkk99yy232IABA0r+XZJ+0K5dO3v//fdrJDknzD799FP3ZTZ+/PgaB+uLFGhqBf766y8vm1TWFVZYoamTU7b/p+VJha1L+Oijj2yxxRazf/75py4/r/jffPzxx9amTZtY/nLCjNwgyEILLWQXX3xxxWdOCawOBb799lvr1auXrbvuut79AmZTp05NZeZHjx5tBx98cJ3z1rlzZ3v88cfr/PtK/uGYMWNs7733jiUxL8w48oMPPrC1117b1ltvPXvuuediP9YGKdAYCvz66692/vnne2vj6KOPzlyRzz33XNtss80aIwmN+h/ff/+9Lb744nVyzBgSevnll1uPHj3C19QsGctfeumlbcqUKbE8FYQZRzPIdv3113uTfo011rBLL73UW22xM2mDFGhABehOPvPMM3bIIYf4+Ni2225rb7/9do1/AHLzzDOP0YpJS5g9e7Z3ow877LB6ZYnztG3b1kaMGFGv81TSj7kZghv3oUOH5kxWrTALv+JEjzzyiO22225+hezQoYMdeuihduutt9qTTz5p06ZNs9dee82XrNPnf/311/3qgutfCiLxnXfesffee88jA3i0/ogffvihffLJJ0Z/mOVnn33m8fPPP7eZM2fal19+6RFXuV999ZVHBke/+eYbo/vB1Yz4ww8/+B2un376yYjc0YHmv/32Wyb+8ccfRsTgRCpOiIwzkNcw3hCW6FCXO0tBv/oso2kI6yxDOkk7Fx2WIU8sf//990yeyT86oAe6MIhORK+gHTqiJ7qiMVqjO8svvvjC7YA9iIyrBnthM+wXbIld3333XY/Y/K233vJIOSBSNigjlA/KDPGee+7x8sXFcscdd7RFFlnEunTp4qDif/KFcKWm8r/wwgt+zjfffDNTzkgX6aM8kRfyRT7JNzoARLRBL/QMNmZbMSHcUeN36E+54recN+iLpkFL0kF+0Ip6gDZogh6TJk2yFVdcMW9lLSY90WOwf/v27W2fffbxnhV6R7UhDaGuRbUh3VFtyFM5tcEm/H9UG8pQ0IZ0P/roo7bmmmtaz549o1mssV40zKK/oiIxVnHmmWfa9ttvb8svv7x16tTJ/4zWG/11vgO8jh072mqrreZx5ZVXtpVWWslYMt6B0Cz5/XLLLedxmWWW8WYky6WWWsqWXHJJW2KJJXzJoCYDf61bt/bI3R7uajETEcuFF17Yx/kWXHBBa9GihcfmzZvbAgssYCznm28+j/PPP79f0eeee24jcnWfc845Pc4111w2xxxz+BWAbVwJ+H7CCScY+5ZddlnvdlPh8EN+++23eyWP6lOXdQoLTecrrrjCWyPcqUNL8hvSkb0kXaSJ7SzJR8gTeZ133nkzeY7qgDZoRGRcFN2iOqIrGvPfaI7+dHuCHWjmc9VniZ2C7bBjsCuVcpVVVnFbs1x99dW9DFAeKBssKSfkkUKKzuSZikdPgMJdbAAWPKbBOTgn5Y6p9kJaomWJfFFeiKGMoFXQDU2D/XfYYQcHba503HTTTT4EE8oOv2GdyPmCxqFsoiVlmTKNXmhFXUAbtEAH0n/EEUfk+rs6bwNMW221VU5tQr0L9Sxow4Ukqk0oV+QxlMFtttnGXnzxxZzpuuOOO2yDDTbI1KvatOF/C2mDTdGGeR/CxTzXH9cJZrlOlPZtwAzgcCV79tlnbcKECXbMMcd4QcEYFEYKIleTYgNX8okTJ9rAgQMdHlTqPffc08455xx78MEH/WpNpS5kwGL/qxqOa0idaFmddtppXoleeeWVGvKNGjXKt993332xZ51qHJjSL7Q8GcMEMAwFRMPZZ5/t2wFaaLVG95dzXTBrAHWpRADuP//5j7deunfvbk888UReCNGE56FGrogbbrihjRs3zrttDZAUnaKBFeBiQyvl5Zdf9jOHykrXvNoDXT9aapMnT3YpLrvsMgcZXeqmCIJZA6vO1YhxRJrwW2+9tY+bRP+CcUe6GXTPswe0o8dpvXIU4GLDRYdxQrqLjMEp/E8BHtBlbJNxL4YkSumZNLSGgllDK/rv+Rg03XXXXWtcqW644Qb/ntbnf8okZZOflpY342/cRePuqkJNBRjTYjwr17NfNY8s7zfBrLz62llnneWDvAwYM8ie/QpGmf9ep28gBRgf5SYIwwkKNRU4/fTTfcjkoYceqrmjkb8JZo0g+L777uvjLml9Wr0RJGzyv+DREcaHFOIKcBMAbXgUpCmDYNYI6r/66qt20EEHNcI/6S/KpQDPqw0bNqxcp0/0ebnj3tRdTAQUzBJdjJR4KSAFggKCWVBCSykgBRKtgGCWaPMp8VJACgQFBLOghJZSQAokWgHBLNHmU+KlgBQICghmQQktpYAUSLQCglmizafESwEpEBQQzIISWcsHHnjA3dzg6gYXQrhFYZ1YzCQT+HrDnU+hgAsd/GopNIwCvFZz55131jjZJZdcYtttt12NbeELD3uGSVHy2YsXynEhVCjMmDHDrr766swhabIr7xhT5nELhWujUAei+c1kvMDKKaec4j7jChxS712CWRES8o7lhRdeWMSR/z8Eh5Lffffd/zfkWONFc9wKKTSMArjs2WOPPWqcbJNNNjFehs4VojDLZy9gBpwKBd617d+/f+aQNNoVlz4bbbRRJo+lrvAqGG6VyhkEsyLUjcLsscce8/cteVcPR4K4O8EDBg4ncbLHy+QE/NNTAAj9+vUzfLKvtdZaHoMPKCoAnl9xoXLcccf5U9Q4FaQlEVpseObF8SAOB4888kj/r3IXCk90Aj/wnIozRF7yJ/BkOu/D4n/rpJNOyjgI3X///d0rbBRmUXtdddVVbic0573DALNctsbXGc5HablTDgjBrqQDm9FiXGeddWzs2LG+n498ZSJzQIWtZMMMrXHQSJnH+3RwiYTDVrahCXnnJX3yivPLrl27ltVTjGBWRKGJwgzPslxlKPy4+eU1JeYYpYWF+2e85xLotoTCiydXjIxhr7zyStt44439mNAduf/++93jKxWDCoC/e2bF4pxA8t577/XfXnTRRe51I62TuxZhiloPwZcc71ES6GIOHjzYfctRwfAjh7440sSrbxRmwV5M3IOHDJxwcixzyAaY5bI1NsJ+ffv2zUycHex67LHH2k477eQwxdU4cGT4gpCvTPjOCvyIwgynokx0FLy/0GvZeeed3TUSdSO4qd9iiy1cZ8or7oG4uJSzJyKYFVFwsmHWrVu3zK8wDv7ub7zxRi/4+LsihMrBOu6pMTCBSsJVixAKPZWBq1cIgPL444833unE+2wI/BeOAgWzoEh8ScUCYAS6mPjV5yKCa208w9LSovVGCzsXzGgh4w49BHyXBZjls3V2NzPYFVfh+PYPgQtUmIwjX5kIx1baMgoz5nAgj3hEJuIZBlf0vGhOnnE3jg84LvYhqJsZlGjiZTbM+B4CTWm6gddee637RM8Hs3A8Dv7oShJCoQdmzCkQQoAZE3TQNA+BSimYBTVyL+kK0gpAZ+ZrAEB4/aVVdMEFF/jEGLSi8sEMe9KKDoGbPQFm+WydD2a00pm0JAS6r7hFJwCzEKJlImyrtGUUZi+99JL3QLjBFY20ZAEaPQkmmMEOXEAIglmFWDQbZtFBZrzGBu+aVBDmAyBkt8xCVqIFtzaY0ZpjEhFmpyEE545qmQU1cy/p3tBVD9O1HX744XbyySf7wXQ1gQwef3O1zKiIjG8Fdzb4ug8wy2drYMkFLYRgVzxJ4EqdgAdi7pzSYiEkGWaMQaIhnkQIlM+99trLexLRCz2tXOY5JVCO0b6cQd3MItQtBDOMhWF79+7tXYh27dr5uFhDwIyk4fCObindTfyiMesRV0CF/ArQSmayDVoQBKZCZL4Fup1MGkw3iG59LphxPBBk5iSGE3bfffcMzPLZmjuhtALDYx4BZowR8Z/MwI4N6WIy3kRIMsxIP2N/zCyFO3FmYnr++ec9b4MGDfLZtxgXpswyBENAc+oG0+qVKwhmDaAsj2CEMTGWDTkrDR5qCVQC/KzTRVIoXQFaWuH5QLrrTMFWKHB8rpZEXWzNf6X1ApTr8SPyC8gbOwhmja14if/HlY47Rczm1KdPHwtwK/E0OlwKpF4BwSwBJuZGwMMPP1z2J6gTIIWSKAXyKiCY5ZVGO6SAFEiSAoJZA1uLsQKe2k/rGEkDy1WRp5MN85uFO+ncvc81Vpb/V42zRzBrIJ15nYMxLZ4u57UlnjdjMuDaQmO8gFtbGrT/fwrIhoVLAq+Ecee+V69e/sYKE7xwM6VQaMzyLZgVskQJ+3imholQQ+DJcx5wnT17dtiUc9kYDxPm/GNtjCkgG8YkyWzgbRSeswt37Wmh8QhKtpeSzA/+XWnM8i2YZatfx+8HHHCAPwcWvVLxHme4vT9x4kRbf/31/Z02XgEhNNYLuHXMUtX9TDbMb3IeCAdm0e4l77eG58YqoXwLZvntV9IeZiqni8lDrbyczLuaPClN4KrGi7k8J8YVjafFJ0yY4OuN8QJuSRmp4oNlw/zG59nJIUOGuBeSAQMG2HnnnecvlldS+RbM8tuvTnt4sZgXinkanCeeedmWF5cBWHgxl/fzdtllFz9/YzbD65ShKvyRbJjf6F988YXdfPPNhhsl3B7hK65Syrdglt9uJe054ogjangJ4Mf4JePl5lGjRrkrmOhLubxcThDMSpK5rAfLhvnlpSfBy+bRwLvCPXr0qJjyLZhFrVOPdd7hozKEMTMG/nlnjTuavMfGnc7wmtOYMWNs/Pjx/m+N8QJuPbJVVT+VDfObm4F+hlGCE0aO5K0UehiVUr4Fs/z2K2kP7/3RlcSxHy8zM3Y2YsSIDNwAHa5/cB6Ih87wHFpjvIBbUkaq+GDZsLDxR48e7XMA8BJ5ly5drGfPnpneSCWUb8GssP1K3suVi4dmwy3s6Alorcl9T1SRylyXDfPbhYswPtrwG5cdmrp8C2bZFtF3KSAFEqmAYJZIsynRUkAKZCsgmGUrou9SQAokUgHBLJFmU6KlgBTIVkAwy1ZE36WAFEikAoJZIs2mREsBKZCtgGCWrYi+SwEpkEgF/gvrpTmxYElEDgAAAABJRU5ErkJggg==)\n"
      ],
      "metadata": {
        "id": "LrQCmocS_d1u"
      }
    },
    {
      "cell_type": "code",
      "execution_count": 1,
      "metadata": {
        "colab": {
          "base_uri": "https://localhost:8080/",
          "height": 204
        },
        "id": "Y9H90dbQ9771",
        "outputId": "f865b454-45fd-4ac4-a4a8-c1be4ff53b86"
      },
      "outputs": [
        {
          "output_type": "execute_result",
          "data": {
            "text/plain": [
              "   alcohol  sugar    pH  class\n",
              "0      9.4    1.9  3.51    0.0\n",
              "1      9.8    2.6  3.20    0.0\n",
              "2      9.8    2.3  3.26    0.0\n",
              "3      9.8    1.9  3.16    0.0\n",
              "4      9.4    1.9  3.51    0.0"
            ],
            "text/html": [
              "\n",
              "  <div id=\"df-6ad27d5d-93f9-42f6-8423-95ba73c152e1\">\n",
              "    <div class=\"colab-df-container\">\n",
              "      <div>\n",
              "<style scoped>\n",
              "    .dataframe tbody tr th:only-of-type {\n",
              "        vertical-align: middle;\n",
              "    }\n",
              "\n",
              "    .dataframe tbody tr th {\n",
              "        vertical-align: top;\n",
              "    }\n",
              "\n",
              "    .dataframe thead th {\n",
              "        text-align: right;\n",
              "    }\n",
              "</style>\n",
              "<table border=\"1\" class=\"dataframe\">\n",
              "  <thead>\n",
              "    <tr style=\"text-align: right;\">\n",
              "      <th></th>\n",
              "      <th>alcohol</th>\n",
              "      <th>sugar</th>\n",
              "      <th>pH</th>\n",
              "      <th>class</th>\n",
              "    </tr>\n",
              "  </thead>\n",
              "  <tbody>\n",
              "    <tr>\n",
              "      <th>0</th>\n",
              "      <td>9.4</td>\n",
              "      <td>1.9</td>\n",
              "      <td>3.51</td>\n",
              "      <td>0.0</td>\n",
              "    </tr>\n",
              "    <tr>\n",
              "      <th>1</th>\n",
              "      <td>9.8</td>\n",
              "      <td>2.6</td>\n",
              "      <td>3.20</td>\n",
              "      <td>0.0</td>\n",
              "    </tr>\n",
              "    <tr>\n",
              "      <th>2</th>\n",
              "      <td>9.8</td>\n",
              "      <td>2.3</td>\n",
              "      <td>3.26</td>\n",
              "      <td>0.0</td>\n",
              "    </tr>\n",
              "    <tr>\n",
              "      <th>3</th>\n",
              "      <td>9.8</td>\n",
              "      <td>1.9</td>\n",
              "      <td>3.16</td>\n",
              "      <td>0.0</td>\n",
              "    </tr>\n",
              "    <tr>\n",
              "      <th>4</th>\n",
              "      <td>9.4</td>\n",
              "      <td>1.9</td>\n",
              "      <td>3.51</td>\n",
              "      <td>0.0</td>\n",
              "    </tr>\n",
              "  </tbody>\n",
              "</table>\n",
              "</div>\n",
              "      <button class=\"colab-df-convert\" onclick=\"convertToInteractive('df-6ad27d5d-93f9-42f6-8423-95ba73c152e1')\"\n",
              "              title=\"Convert this dataframe to an interactive table.\"\n",
              "              style=\"display:none;\">\n",
              "        \n",
              "  <svg xmlns=\"http://www.w3.org/2000/svg\" height=\"24px\"viewBox=\"0 0 24 24\"\n",
              "       width=\"24px\">\n",
              "    <path d=\"M0 0h24v24H0V0z\" fill=\"none\"/>\n",
              "    <path d=\"M18.56 5.44l.94 2.06.94-2.06 2.06-.94-2.06-.94-.94-2.06-.94 2.06-2.06.94zm-11 1L8.5 8.5l.94-2.06 2.06-.94-2.06-.94L8.5 2.5l-.94 2.06-2.06.94zm10 10l.94 2.06.94-2.06 2.06-.94-2.06-.94-.94-2.06-.94 2.06-2.06.94z\"/><path d=\"M17.41 7.96l-1.37-1.37c-.4-.4-.92-.59-1.43-.59-.52 0-1.04.2-1.43.59L10.3 9.45l-7.72 7.72c-.78.78-.78 2.05 0 2.83L4 21.41c.39.39.9.59 1.41.59.51 0 1.02-.2 1.41-.59l7.78-7.78 2.81-2.81c.8-.78.8-2.07 0-2.86zM5.41 20L4 18.59l7.72-7.72 1.47 1.35L5.41 20z\"/>\n",
              "  </svg>\n",
              "      </button>\n",
              "      \n",
              "  <style>\n",
              "    .colab-df-container {\n",
              "      display:flex;\n",
              "      flex-wrap:wrap;\n",
              "      gap: 12px;\n",
              "    }\n",
              "\n",
              "    .colab-df-convert {\n",
              "      background-color: #E8F0FE;\n",
              "      border: none;\n",
              "      border-radius: 50%;\n",
              "      cursor: pointer;\n",
              "      display: none;\n",
              "      fill: #1967D2;\n",
              "      height: 32px;\n",
              "      padding: 0 0 0 0;\n",
              "      width: 32px;\n",
              "    }\n",
              "\n",
              "    .colab-df-convert:hover {\n",
              "      background-color: #E2EBFA;\n",
              "      box-shadow: 0px 1px 2px rgba(60, 64, 67, 0.3), 0px 1px 3px 1px rgba(60, 64, 67, 0.15);\n",
              "      fill: #174EA6;\n",
              "    }\n",
              "\n",
              "    [theme=dark] .colab-df-convert {\n",
              "      background-color: #3B4455;\n",
              "      fill: #D2E3FC;\n",
              "    }\n",
              "\n",
              "    [theme=dark] .colab-df-convert:hover {\n",
              "      background-color: #434B5C;\n",
              "      box-shadow: 0px 1px 3px 1px rgba(0, 0, 0, 0.15);\n",
              "      filter: drop-shadow(0px 1px 2px rgba(0, 0, 0, 0.3));\n",
              "      fill: #FFFFFF;\n",
              "    }\n",
              "  </style>\n",
              "\n",
              "      <script>\n",
              "        const buttonEl =\n",
              "          document.querySelector('#df-6ad27d5d-93f9-42f6-8423-95ba73c152e1 button.colab-df-convert');\n",
              "        buttonEl.style.display =\n",
              "          google.colab.kernel.accessAllowed ? 'block' : 'none';\n",
              "\n",
              "        async function convertToInteractive(key) {\n",
              "          const element = document.querySelector('#df-6ad27d5d-93f9-42f6-8423-95ba73c152e1');\n",
              "          const dataTable =\n",
              "            await google.colab.kernel.invokeFunction('convertToInteractive',\n",
              "                                                     [key], {});\n",
              "          if (!dataTable) return;\n",
              "\n",
              "          const docLinkHtml = 'Like what you see? Visit the ' +\n",
              "            '<a target=\"_blank\" href=https://colab.research.google.com/notebooks/data_table.ipynb>data table notebook</a>'\n",
              "            + ' to learn more about interactive tables.';\n",
              "          element.innerHTML = '';\n",
              "          dataTable['output_type'] = 'display_data';\n",
              "          await google.colab.output.renderOutput(dataTable, element);\n",
              "          const docLink = document.createElement('div');\n",
              "          docLink.innerHTML = docLinkHtml;\n",
              "          element.appendChild(docLink);\n",
              "        }\n",
              "      </script>\n",
              "    </div>\n",
              "  </div>\n",
              "  "
            ]
          },
          "metadata": {},
          "execution_count": 1
        }
      ],
      "source": [
        "import pandas as pd\n",
        "wine = pd.read_csv('/content/drive/MyDrive/Colab Notebooks/머신러닝/와인/wine.csv')\n",
        "wine.head()"
      ]
    },
    {
      "cell_type": "code",
      "source": [
        "data = wine[['alcohol', 'sugar', 'pH']].to_numpy()\n",
        "target = wine['class'].to_numpy()"
      ],
      "metadata": {
        "id": "lV6j29O8AReG"
      },
      "execution_count": 2,
      "outputs": []
    },
    {
      "cell_type": "markdown",
      "source": [
        "- class 열을 타깃으로 사용\n",
        "- 나머지 열은 특성 배열에 저장"
      ],
      "metadata": {
        "id": "qVhtLBGcBzVO"
      }
    },
    {
      "cell_type": "code",
      "source": [
        "from sklearn.model_selection import train_test_split\n",
        "\n",
        "train_input, test_input, train_target, test_target = train_test_split( \n",
        "    data, target, test_size=0.2, random_state=42\n",
        ")"
      ],
      "metadata": {
        "id": "OTIkrHKIBtj2"
      },
      "execution_count": 3,
      "outputs": []
    },
    {
      "cell_type": "markdown",
      "source": [
        "- 훈련 세트와 테스트 세트 나누기(80:20)"
      ],
      "metadata": {
        "id": "0I-p_LZAB22t"
      }
    },
    {
      "cell_type": "code",
      "source": [
        "sub_input, val_input, sub_target, val_target = train_test_split(\n",
        "    train_input, train_target, test_size = 0.2, random_state=42\n",
        ")\n",
        "\n",
        "print(sub_input.shape, val_input.shape)"
      ],
      "metadata": {
        "colab": {
          "base_uri": "https://localhost:8080/"
        },
        "id": "Hd3jjxH7B_hD",
        "outputId": "b2dfbfbf-7eec-4dce-a370-e333ddb33654"
      },
      "execution_count": 4,
      "outputs": [
        {
          "output_type": "stream",
          "name": "stdout",
          "text": [
            "(4157, 3) (1040, 3)\n"
          ]
        }
      ]
    },
    {
      "cell_type": "markdown",
      "source": [
        "- train_input과 train_target을 다시 tarin_test_split()\n",
        "- 훈련 세트 sub_input, sub_target\n",
        "- 검증 세트 val_input, val_target\n",
        "- tarin_input의 약 20%를 val_intput\n",
        "\n",
        "  - > 원래 5,197개였던 훈련 세트가 <font color=\"FF0000\">4,157</font>개로 줄었음\n",
        "\n",
        "  - > 검증 세트는 <font color=\"FF0000\">1,040</font>개\n"
      ],
      "metadata": {
        "id": "HLlh1KZ0CYx-"
      }
    },
    {
      "cell_type": "markdown",
      "source": [
        "- sub_input, sub_target과 val_input, val_target 사용해 모델 생성 및 평가"
      ],
      "metadata": {
        "id": "uFI7VBSAj81S"
      }
    },
    {
      "cell_type": "code",
      "source": [
        "from sklearn.tree import DecisionTreeClassifier\n",
        "\n",
        "dt = DecisionTreeClassifier(random_state=42)\n",
        "dt.fit(sub_input, sub_target)\n",
        "\n",
        "print(dt.score(sub_input, sub_target))\n",
        "print(dt.score(val_input, val_target))"
      ],
      "metadata": {
        "colab": {
          "base_uri": "https://localhost:8080/"
        },
        "id": "IXwVkzGHDU5W",
        "outputId": "67cf1237-7873-4cfe-a8e5-bfdeedcaa5b7"
      },
      "execution_count": 5,
      "outputs": [
        {
          "output_type": "stream",
          "name": "stdout",
          "text": [
            "0.9971133028626413\n",
            "0.864423076923077\n"
          ]
        }
      ]
    },
    {
      "cell_type": "markdown",
      "source": [
        "> <font color=\"FF0000\">과대적합</font>!   \n",
        "\n",
        "> 매개변수를 바꿔서 더 좋은 모델을 찾아야 함"
      ],
      "metadata": {
        "id": "effikRJ5kD6C"
      }
    },
    {
      "cell_type": "markdown",
      "source": [
        "# 교차 검증\n",
        "- 검증 세트를 만드느라 훈련 세트가 줄었음\n",
        "- <font color= \t#0080ff>많은 데이터</font>를 훈련에 사용할수록 좋은 모델 생성 가능\n",
        "- 검증 세트를 <font color= \t#0080ff>너무 조금</font> 떼어 놓으면 검증 점수가 들쭉날쭉 불안정\n",
        "- <font color= \t#0080ff>교차 검증</font>(cross validation) 사용\n",
        "  - 안정적인 검증 점수를 얻고 훈련에 더 많은 데이터 사용 가능\n",
        "  - 검증 세트를 떼어 내어 평가하는 과정을 <font color= \t#0080ff>여러 번</font> 반복\n",
        "  - 그 다음 이 점수를 평균하여 최종 검증 점수를 얻음"
      ],
      "metadata": {
        "id": "uiqhWUcZkfuS"
      }
    },
    {
      "cell_type": "markdown",
      "source": [
        "# k-폴드 교차 검증\n",
        "![image.png](data:image/png;base64,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)\n",
        "#### <font color= #ffff00>k-폴드 교차 검증</font>(k-folt cross validation)\n",
        "  - 훈련 세트를 몇 부부능로 나누냐에 따라 다르게 부름\n",
        "  - 보통 <font color= #ffff00>5-폴드, 10-폴드</font> 교차 검증을 많이 사용함\n",
        "  - 데이터의 <font color= #ffff00>8~90%</font>까지 훈련에 사용: 안정된 점수 \n"
      ],
      "metadata": {
        "id": "N5RUXRWLlCWj"
      }
    },
    {
      "cell_type": "markdown",
      "source": [
        "# cross_validate()\n",
        "- 사이킷런에서는 <font color= #ffff00>cross_validate</font>()라는 교차 검증 함수 제공\n",
        "- 수작업으로 직접 검증 세트 떼어내지 않고 훈련 세트 전체를 전달\n",
        "- 기본적으로 <font color= #ffff00>5-폴드</font> 교차 검증 수행\n",
        "- <font color= #ffff00>fit_time</font>: 각각 모델을 검증하는 시간, 각 키마다 5개의 숫자\n",
        "- <font color= #ffff00>score_time</font>: 각각 모델을 검증하는 시간, 각 키마다 5개의 숫자\n",
        "- <font color= #ffff00>test_score</font>: 각 폴드에서 계산한 검증 점수\n",
        "- 교차 검증의 <font color= #ffff00>최종점수</font>: test_score 키에 담긴 5개의 점수를 <font color= #ffff00>평균</font>"
      ],
      "metadata": {
        "id": "YQMVDszvmAdz"
      }
    },
    {
      "cell_type": "code",
      "source": [
        "from sklearn.model_selection import cross_validate\n",
        "scores = cross_validate(dt, train_input, train_target)\n",
        "print(scores)"
      ],
      "metadata": {
        "colab": {
          "base_uri": "https://localhost:8080/"
        },
        "id": "69VXcVoKlmGK",
        "outputId": "88a2ccb4-ec0c-48b9-b565-4525ef6718f4"
      },
      "execution_count": 6,
      "outputs": [
        {
          "output_type": "stream",
          "name": "stdout",
          "text": [
            "{'fit_time': array([0.00835872, 0.00708342, 0.01161695, 0.01032925, 0.00694633]), 'score_time': array([0.00073361, 0.00065708, 0.00141001, 0.00075936, 0.00065517]), 'test_score': array([0.86923077, 0.84615385, 0.87680462, 0.84889317, 0.83541867])}\n"
          ]
        }
      ]
    },
    {
      "cell_type": "markdown",
      "source": [
        "- <font color= #ffff00>fit_time</font>: 각각 모델을 훈련하는 시간, 각 키마다 5개의 숫자\n",
        "- <font color= #ffff00>score_time</font>: 각각 모델을 검증하는 시간, 각 키마다 5개의 숫자\n",
        "- <font color= #ffff00>test_score</font>: 각 폴드에서 계산한 검증 점수"
      ],
      "metadata": {
        "id": "zJR9kTennQR8"
      }
    },
    {
      "cell_type": "code",
      "source": [
        "import numpy as np\n",
        "print(np.mean(scores['test_score']))"
      ],
      "metadata": {
        "colab": {
          "base_uri": "https://localhost:8080/"
        },
        "id": "NS971l3pnh6i",
        "outputId": "0aa6f577-86ad-4fb3-ef62-fbed72b9e68e"
      },
      "execution_count": 8,
      "outputs": [
        {
          "output_type": "stream",
          "name": "stdout",
          "text": [
            "0.855300214703487\n"
          ]
        }
      ]
    },
    {
      "cell_type": "markdown",
      "source": [
        "- 교차 검증의 최종 점수: test_scroe 키에 담긴 <font color= #ffff00>5개의 점수 평균 출력</font>\n",
        "- train_test_split() 함수로 전체 데이터를 섞은 후 훈련 세트를 준비했기 때문에 따로 <font color= #ffff00>폴드를 섞을 필요 없음</font>"
      ],
      "metadata": {
        "id": "-zlnamovnhGK"
      }
    },
    {
      "cell_type": "markdown",
      "source": [
        "- <font color= #ffff00>회귀</font> 모델: <font color= #FF0000>FKold</font> 분할기 사용\n",
        "- <font color= #ffff00>분류</font> 모델: <font color= #FF0000> StratifiedKFold</font> 사용 (타깃 클래스를 골고루 나누기 위해)"
      ],
      "metadata": {
        "id": "iGQHwO4XoIfJ"
      }
    },
    {
      "cell_type": "code",
      "source": [
        "from sklearn.model_selection import StratifiedKFold\n",
        "scores = cross_validate(dt, train_input, train_target, cv=StratifiedKFold())\n",
        "print(np.mean(scores['test_score']))"
      ],
      "metadata": {
        "colab": {
          "base_uri": "https://localhost:8080/"
        },
        "id": "H4BsCgXeob6U",
        "outputId": "ad5c4e3f-7566-4a26-b360-2734c6dd5db4"
      },
      "execution_count": 10,
      "outputs": [
        {
          "output_type": "stream",
          "name": "stdout",
          "text": [
            "0.855300214703487\n"
          ]
        }
      ]
    },
    {
      "cell_type": "markdown",
      "source": [
        "- 미리 수작업으로 폴드 나누지 않아도 결과 동일!\n",
        "- <font color= #FF0000>n_splits</font> 매개변수: 몇(k) 폴드 교차 검증할지 결정"
      ],
      "metadata": {
        "id": "jFn2v9zdovmC"
      }
    },
    {
      "cell_type": "code",
      "source": [
        "splitter = StratifiedKFold(n_splits=10, shuffle=True, random_state=42)\n",
        "scores = cross_validate(dt, train_input, train_target, cv=splitter)\n",
        "print(np.mean(scores['test_score']))"
      ],
      "metadata": {
        "colab": {
          "base_uri": "https://localhost:8080/"
        },
        "id": "qE94_Dbuoulq",
        "outputId": "85e074f3-4018-4f53-862b-190a01c0f894"
      },
      "execution_count": 11,
      "outputs": [
        {
          "output_type": "stream",
          "name": "stdout",
          "text": [
            "0.8574181117533719\n"
          ]
        }
      ]
    },
    {
      "cell_type": "markdown",
      "source": [
        "# 하이퍼파라미터 튜닝\n",
        "- 결정 트리의 매개변수 값을 바꿔가며 가장 좋은 성능이 나오는 모델을 찾자\n",
        "- 테스트 세트가 아닌 <font color= #ffff00>교차 검증</font>을 통해서 좋은 모델 찾기\n",
        "- <font color= #ffff00>모델 파라미터</font>: 머신러닝 모델이 학습하는 파라미터\n",
        "- <font color= #ffff00>하이퍼파라미터</font>: 모델이 학습할 수 없어서 사용자가 지정하는 파라미터\n",
        "- 하이퍼파라미터를 튜닝하는 작업?\n",
        "  1. 라이브러리가 제공하는 <font color= #ffff00>기본값</font> 사용\n",
        "  2. 검증 세트 점수나 교차 검증을 통해 매개변수 변경\n",
        "  3. 모델마다 1~6개의 매개변수 제공 👉 이를 다 바꿔가면서?\n",
        "  4. max_depth 최적값이 변경하면 min_sample_split도 바뀜 👉 <font color= #ffff00>다 찾아야 함</font>"
      ],
      "metadata": {
        "id": "33CcudpMpPdJ"
      }
    },
    {
      "cell_type": "markdown",
      "source": [
        "> 사이킷런의 <font color= #FF0000>GridSearchCv</font> 클래스는 하이퍼파라미터 탐색과 교차 검증을 <font color= #FF0000>한 번에 수행!</font>"
      ],
      "metadata": {
        "id": "HwMSREESqBn5"
      }
    },
    {
      "cell_type": "markdown",
      "source": [
        "# GridSearchCV 클래스\n",
        "- 하이퍼파리미터 탐색과 교차 검증을 <font color= #ffff00>한 번에 수행</font>\n",
        "- 별도로 cross_validate() 함수 호출 <font color= #ffff00>필요 없음</font>\n",
        "- 기본 매개변수를 사용한 결정 트리 모델에서 min_impurity_decrease 매개변수의 <font color= #ffff00>최적값</font> 찾기"
      ],
      "metadata": {
        "id": "WfDmaz83qMex"
      }
    },
    {
      "cell_type": "markdown",
      "source": [
        "1. GridSearchCV 클래스 임포트\n",
        "2. 탐색할 값의 리스트를 딕셔너리로 만듬(0.0001 ~ 0.0005: 0.000.1씩 증가"
      ],
      "metadata": {
        "id": "MW1GbBt3qeYq"
      }
    },
    {
      "cell_type": "code",
      "source": [
        "from sklearn.model_selection import GridSearchCV\n",
        "params = {'min_impurity_decrease': [0.0001, 0.0002, 0.0003, 0.0004, 0.0005]}"
      ],
      "metadata": {
        "id": "2SaZyv7OpPIi"
      },
      "execution_count": 14,
      "outputs": []
    },
    {
      "cell_type": "markdown",
      "source": [
        "- 결정 트리 클래스를 생상하자마자 바로 GridSearchCV로 전달\n",
        "- <font color= #ffff00>fit</font>() 메서드 호출: mean_impurity_decrease 값 바꿔가며 총 5번 실행\n",
        "- GridSearchCV의 <font color= #ffff00>cv</font> 매개변수의 기본값은 <font color= #ffff00>5</font>\n",
        "- min_impurity_decrease 값마다 5-폴드 교차 검증 수행\n",
        "  : 5 x 5 = <font color= #ffff00>25개</font>의 모델 훈련\n",
        "- <font color= #ffff00>n_jobs</font> 매개변수: 병렬 실행에 사용할 CPU 코어 수 (<font color= #ffff00>-1</font>: 모든 코어 사용)"
      ],
      "metadata": {
        "id": "8bMBIISHq_q6"
      }
    },
    {
      "cell_type": "code",
      "source": [
        "gs = GridSearchCV(DecisionTreeClassifier(random_state= 42), params, n_jobs= -1)\n",
        "gs.fit(train_input, train_target)"
      ],
      "metadata": {
        "colab": {
          "base_uri": "https://localhost:8080/"
        },
        "id": "TfMeIpjErlPh",
        "outputId": "4fab8e8a-c307-409e-d361-5a8c9f7fb8ac"
      },
      "execution_count": 16,
      "outputs": [
        {
          "output_type": "execute_result",
          "data": {
            "text/plain": [
              "GridSearchCV(estimator=DecisionTreeClassifier(random_state=42), n_jobs=-1,\n",
              "             param_grid={'min_impurity_decrease': [0.0001, 0.0002, 0.0003,\n",
              "                                                   0.0004, 0.0005]})"
            ]
          },
          "metadata": {},
          "execution_count": 16
        }
      ]
    },
    {
      "cell_type": "markdown",
      "source": [
        "- 교차 검증에서는 최적의 하이퍼파리미터를 찾으면    \n",
        "  👉 전체 훈련 세트로 모델을 <font color= #ffff00>다시</font> 만들어야 했음\n",
        "- 그리드 서치는 훈련이 끝나면 25개 모델 중에서 검증 점수가 <font color= #ffff00>가장 높은</font> 모델의 매개변수 조합으로 <font color= #ffff00>자동으로</font> 다시 모델을 훈련\n",
        "- 이 모델은 gs 객체의 <font color= #ffff00>best_estimator_</font> 속성에 저장\n",
        "  👉 일반 결정 트리처럼 똑같이 사용"
      ],
      "metadata": {
        "id": "-evYShClrk-5"
      }
    },
    {
      "cell_type": "markdown",
      "source": [
        "\n",
        "\n",
        "---\n",
        "\n",
        "\n",
        "\n"
      ],
      "metadata": {
        "id": "KQ3zaz24xE-i"
      }
    },
    {
      "cell_type": "markdown",
      "source": [
        "최적의 모델은 gs 객체의 <font color= #ffff00>best_estimator_</font> 속성에 저장\n",
        "  👉 일반 결정 트리처럼 똑같이 사용"
      ],
      "metadata": {
        "id": "zaV79QV1w4gK"
      }
    },
    {
      "cell_type": "code",
      "source": [
        "dt = gs.best_estimator_\n",
        "print(dt.score(train_input, train_target))"
      ],
      "metadata": {
        "colab": {
          "base_uri": "https://localhost:8080/"
        },
        "id": "ZodRAXCkwcbw",
        "outputId": "2462859b-8cd4-4a77-872d-92ad1f73cdfc"
      },
      "execution_count": 17,
      "outputs": [
        {
          "output_type": "stream",
          "name": "stdout",
          "text": [
            "0.9615162593804117\n"
          ]
        }
      ]
    },
    {
      "cell_type": "markdown",
      "source": [
        "최적의 매개변수는 <font color= #ffff00>best_params_</font> 속성에 저장"
      ],
      "metadata": {
        "id": "6-T1FuGJwmXi"
      }
    },
    {
      "cell_type": "code",
      "source": [
        "print(gs.best_params_)"
      ],
      "metadata": {
        "colab": {
          "base_uri": "https://localhost:8080/"
        },
        "id": "9CbmcNHvw0bq",
        "outputId": "623e89ba-9f7c-40c1-8ed2-867d79aeb0cc"
      },
      "execution_count": 19,
      "outputs": [
        {
          "output_type": "stream",
          "name": "stdout",
          "text": [
            "{'min_impurity_decrease': 0.0001}\n"
          ]
        }
      ]
    },
    {
      "cell_type": "markdown",
      "source": [
        "각 매개변수에서 수행한 교차 검증의 평균 점수는 <font color= #ffff00>cv_results_</font> 속성의 <font color= #ffff00>'mean_test_score'</font> 키에 저장"
      ],
      "metadata": {
        "id": "ImU2OrV-w0KK"
      }
    },
    {
      "cell_type": "code",
      "source": [
        "print(gs.cv_results_['mean_test_score'])"
      ],
      "metadata": {
        "colab": {
          "base_uri": "https://localhost:8080/"
        },
        "id": "ulFxcQ66wzH2",
        "outputId": "2782d474-7a61-46e2-f9c3-296ddb912845"
      },
      "execution_count": 20,
      "outputs": [
        {
          "output_type": "stream",
          "name": "stdout",
          "text": [
            "[0.86819297 0.86453617 0.86492226 0.86780891 0.86761605]\n"
          ]
        }
      ]
    },
    {
      "cell_type": "markdown",
      "source": [
        "- 0.0001 매개변수를 사용한 평균 점수 →  ![image.png](data:image/png;base64,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)"
      ],
      "metadata": {
        "id": "EfcbRbP0yJMr"
      }
    },
    {
      "cell_type": "markdown",
      "source": [
        "# 더 복잡한 매개변수 조합\n",
        "- <font color= #ffff00>min_impurity_decrease</font>: 노드를 분할하기 위한 불순도 감소 최소량 지정\n",
        "- <font color= #ffff00>max_depth</font>: 트리의 깊이 제한\n",
        "- <font color= #ffff00>min_samples_split</font>: 노드를 나누기 위한 최소 샘플 수 지정"
      ],
      "metadata": {
        "id": "2GKcvPVJydcp"
      }
    },
    {
      "cell_type": "code",
      "source": [
        "params = {'min_impurity_decrease': np.arange(0.0001, 0.001, 0.0001),\n",
        "          'max_depth': range(5, 20, 1),\n",
        "          'min_samples_split': range(2, 100, 10)\n",
        "          }"
      ],
      "metadata": {
        "id": "bk4RidQ6yZjz"
      },
      "execution_count": 21,
      "outputs": []
    },
    {
      "cell_type": "markdown",
      "source": [
        "> 1. <font color= #f96d6d>넘파이 arange() 함수</font>: 첫 번째 매개변수 값 → 두 번째 매개변수에 도달할 때까지 세 번째 매개변수를 계속 더함\n",
        ">\n",
        "> 2. <font color= #f96d6d>파이썬 range() 함수</font>: 넘파이 arange()와 비슷하지만 정수만 가능\n",
        "  - `range(5,20,1) = 5, 6, 7, 8, 9, 10, 11, 12, 13, 14, 15, 16, 17, 18, 19`\n",
        "  - `range(2,100,10) = 2, 12, 22, 32, 42, 52, 62, 72, 82, 92`\n",
        "\n",
        "- min_impurity_decrease: 9개\n",
        "- max_depth: 15개\n",
        "- min_samples_split: 10개\n",
        "\n",
        "> 1. 매개변수로 수행할 교차 검증 횟수: 9 X 15 X 10 = 1,350개\n",
        "> 2. 기본적으로 5-폴드 교차 검증 수행: 1,350 X 5 = 6,770개\n",
        "*n_jobs 매개변수 -1로 설정 후 <font color= #f96d6d>그리드 서치 실행*</font>(colab에서 29초 소요) \n",
        "\n",
        "\n"
      ],
      "metadata": {
        "id": "2nJFydY5zIiy"
      }
    },
    {
      "cell_type": "code",
      "source": [
        "gs = GridSearchCV(DecisionTreeClassifier(random_state= 42), params, n_jobs= -1)\n",
        "gs.fit(train_input, train_target)"
      ],
      "metadata": {
        "colab": {
          "base_uri": "https://localhost:8080/"
        },
        "id": "Yvh-Bx_szkd-",
        "outputId": "358afc6c-7697-44e8-d65a-8552a4ddc977"
      },
      "execution_count": 22,
      "outputs": [
        {
          "output_type": "execute_result",
          "data": {
            "text/plain": [
              "GridSearchCV(estimator=DecisionTreeClassifier(random_state=42), n_jobs=-1,\n",
              "             param_grid={'max_depth': range(5, 20),\n",
              "                         'min_impurity_decrease': array([0.0001, 0.0002, 0.0003, 0.0004, 0.0005, 0.0006, 0.0007, 0.0008,\n",
              "       0.0009]),\n",
              "                         'min_samples_split': range(2, 100, 10)})"
            ]
          },
          "metadata": {},
          "execution_count": 22
        }
      ]
    },
    {
      "cell_type": "markdown",
      "source": [
        "# GridSeacrhCV + HP 튜닝 결과\n",
        "최상의 매개변수 조합 결과\n"
      ],
      "metadata": {
        "id": "uqtymNbs12yi"
      }
    },
    {
      "cell_type": "code",
      "source": [
        "print(gs.best_params_)"
      ],
      "metadata": {
        "colab": {
          "base_uri": "https://localhost:8080/"
        },
        "id": "X3Sq38Ra2AZU",
        "outputId": "7f7ff9c6-d827-4332-e3ec-488018259646"
      },
      "execution_count": 23,
      "outputs": [
        {
          "output_type": "stream",
          "name": "stdout",
          "text": [
            "{'max_depth': 14, 'min_impurity_decrease': 0.0004, 'min_samples_split': 12}\n"
          ]
        }
      ]
    },
    {
      "cell_type": "markdown",
      "source": [
        "> 6,770개 모델로 교차 검증 결과 가장 좋은 결과를 내는 매개변수 값"
      ],
      "metadata": {
        "id": "9oHrxhYz2D7S"
      }
    },
    {
      "cell_type": "markdown",
      "source": [
        "최상의 교차 검증 점수 확인"
      ],
      "metadata": {
        "id": "Xu9NFGz72H4B"
      }
    },
    {
      "cell_type": "code",
      "source": [
        "print(np.max(gs.cv_results_['mean_test_score']))"
      ],
      "metadata": {
        "colab": {
          "base_uri": "https://localhost:8080/"
        },
        "id": "lKyxihx72Lk-",
        "outputId": "5c8caaa5-d3d8-4401-c458-96315f33d870"
      },
      "execution_count": 24,
      "outputs": [
        {
          "output_type": "stream",
          "name": "stdout",
          "text": [
            "0.8683865773302731\n"
          ]
        }
      ]
    },
    {
      "cell_type": "markdown",
      "source": [
        "# 랜덤 서치\n",
        "- GrindSearch에서 매개변수의 간격을 0.0001 혹은 1로 미리 설정\n",
        "- 매개변수의 값이 <font color= #ffff00>수치일 때 범위나 간격을 미리 정하기 어려움</font>\n",
        "- 이럴 때 랜덤 서치(Random Search) 사용\n",
        "- 매개변수 값 목록을 전달하는 것이 아니라   \n",
        "  👉 매개변수를 <font color= #ffff00>샘플링</font>할 수 있는 <font color= #ffff00>확률 분포</font> 객체를 전달\n",
        "\n",
        "> <font color= #f96d6d>싸이파이(scipy)</font>에서 2개의 확률 분포 클래스 임포트\n",
        " - 파이썬의 <font color= #f96d6d>핵심 과학 라이브러리</font> 중 하나\n",
        " - 적분, 보간, 선형 대수, 확률 등을 포함한 수치 계산 전용 라이브러리\n",
        " - 사이킷런은 넘파이와 싸이파이 기능을 많이 사용\n"
      ],
      "metadata": {
        "id": "Vxmf-bj62Rtq"
      }
    },
    {
      "cell_type": "code",
      "source": [
        "from scipy.stats import uniform, randint"
      ],
      "metadata": {
        "id": "FGsws_UY21_D"
      },
      "execution_count": 26,
      "outputs": []
    },
    {
      "cell_type": "markdown",
      "source": [
        "uniform, randint 클래스는 모두 주어진 범위에서 고르게 값을 뽑음   \n",
        "  👉 <font color= #ffff00>균등 푼포에서 샘플링</font> 한다\n",
        "\n",
        "<font color= #ffff00>randint</font>: 정수값을 뽑음   \n",
        "<font color= #ffff00>uniform</font>: 실수값을 뽑음"
      ],
      "metadata": {
        "id": "7wJ3iGp-3Syi"
      }
    },
    {
      "cell_type": "code",
      "source": [
        "rgen = randint(0,10)\n",
        "rgen.rvs(10)"
      ],
      "metadata": {
        "colab": {
          "base_uri": "https://localhost:8080/"
        },
        "id": "gne3qtrB3wcq",
        "outputId": "33f1090c-7ee4-488d-9402-bcf9641f5e69"
      },
      "execution_count": 27,
      "outputs": [
        {
          "output_type": "execute_result",
          "data": {
            "text/plain": [
              "array([3, 0, 7, 2, 6, 0, 7, 0, 2, 9])"
            ]
          },
          "metadata": {},
          "execution_count": 27
        }
      ]
    },
    {
      "cell_type": "markdown",
      "source": [
        "> <font color= #f96d6d>난수 발생기랑 유사!</font>   \n",
        "0에서 10까지 범위   \n",
        "10개 생성"
      ],
      "metadata": {
        "id": "VFOXSw1k303B"
      }
    },
    {
      "cell_type": "code",
      "source": [
        "ugen = uniform(0,1)\n",
        "ugen.rvs(10)"
      ],
      "metadata": {
        "colab": {
          "base_uri": "https://localhost:8080/"
        },
        "id": "9UqJ9oZu4Qyy",
        "outputId": "b04a7ee5-f985-4f15-c388-08a374634e42"
      },
      "execution_count": 28,
      "outputs": [
        {
          "output_type": "execute_result",
          "data": {
            "text/plain": [
              "array([0.59865438, 0.10278988, 0.43180899, 0.6920668 , 0.61003446,\n",
              "       0.3810945 , 0.03637062, 0.46180822, 0.92150655, 0.66652138])"
            ]
          },
          "metadata": {},
          "execution_count": 28
        }
      ]
    },
    {
      "cell_type": "markdown",
      "source": [
        "> <font color= #f96d6d>난수 발생기랑 유사!</font>   \n",
        "- 0에서 10까지 범위(정수) / 0에서 1까지 범위(실수)\n",
        "- 10개 생성\n",
        "\n",
        "<font color= #f96d6d>min_samples_leaf</font> 매개변수 추가\n",
        "  - 리프 노드가 되기 위한 최소 샘플의 개수\n",
        "  - 어떤 노드가 분할하여 만들어진 자식 노드의 샘플 수가 이 값보다 작을 경우 분할하지 않음"
      ],
      "metadata": {
        "id": "kOB6cwGr4XlC"
      }
    },
    {
      "cell_type": "code",
      "source": [
        "params = {'min_impurity_decrease': uniform(0.0001, 0.001),\n",
        "          'max_depth': randint(20,50),\n",
        "          'min_samples_split': randint(2,25),\n",
        "          'min_samples_leaf': randint(1,25)\n",
        "          }"
      ],
      "metadata": {
        "id": "Q528tixw4e_H"
      },
      "execution_count": 31,
      "outputs": []
    },
    {
      "cell_type": "markdown",
      "source": [
        "> - min_impurity_decrease\n",
        "  : 0.0001에서 0.001 사이의 실수 샘플링\n",
        "- max_depth: 20에서 50사이의 정수 샘플링\n",
        "- min_samples_split: 2에서 25사이의 정수 샘플링\n",
        "- min_samples_leaf: 1에서 25사이의 정수 샘플링\n",
        "\n",
        "<font color= #ffff00>n_iter</font> 매개변수: 샘플링 횟수   \n",
        "params에 정의된 매개변수 범위에서 총 100번 샘플링하여 교차 검증   \n",
        "그리드 서치보다 교차 검중 수를 줄이지만, 넓은 영역 효과적으로 탐색"
      ],
      "metadata": {
        "id": "DSBAMfHk5SsB"
      }
    },
    {
      "cell_type": "code",
      "source": [
        "from sklearn.model_selection import RandomizedSearchCV\n",
        "\n",
        "gs = RandomizedSearchCV(DecisionTreeClassifier(random_state= 42), params,\n",
        "                        n_iter= 100, n_jobs= -1, random_state= 42)\n",
        "gs.fit(train_input, train_target)"
      ],
      "metadata": {
        "colab": {
          "base_uri": "https://localhost:8080/"
        },
        "id": "-Pr1zX0e5kFP",
        "outputId": "38e7319c-f7b0-463f-f0b8-6c65bc5445aa"
      },
      "execution_count": 32,
      "outputs": [
        {
          "output_type": "execute_result",
          "data": {
            "text/plain": [
              "RandomizedSearchCV(estimator=DecisionTreeClassifier(random_state=42),\n",
              "                   n_iter=100, n_jobs=-1,\n",
              "                   param_distributions={'max_depth': <scipy.stats._distn_infrastructure.rv_frozen object at 0x7f7b0f84aa10>,\n",
              "                                        'min_impurity_decrease': <scipy.stats._distn_infrastructure.rv_frozen object at 0x7f7b0f84ae50>,\n",
              "                                        'min_samples_leaf': <scipy.stats._distn_infrastructure.rv_frozen object at 0x7f7b0faa8950>,\n",
              "                                        'min_samples_split': <scipy.stats._distn_infrastructure.rv_frozen object at 0x7f7b0f8b1d50>},\n",
              "                   random_state=42)"
            ]
          },
          "metadata": {},
          "execution_count": 32
        }
      ]
    },
    {
      "cell_type": "markdown",
      "source": [
        "# 랜덤 서치 결과\n"
      ],
      "metadata": {
        "id": "7tyEjlOr6VCJ"
      }
    },
    {
      "cell_type": "markdown",
      "source": [
        "최적의 매개변수 조합"
      ],
      "metadata": {
        "id": "lHfKrYPS6gQi"
      }
    },
    {
      "cell_type": "code",
      "source": [
        "print(gs.best_params_)"
      ],
      "metadata": {
        "colab": {
          "base_uri": "https://localhost:8080/"
        },
        "id": "qnxRhTrX6WgY",
        "outputId": "86968a6e-629d-40eb-e511-ba2b6c68c83e"
      },
      "execution_count": 34,
      "outputs": [
        {
          "output_type": "stream",
          "name": "stdout",
          "text": [
            "{'max_depth': 39, 'min_impurity_decrease': 0.00034102546602601173, 'min_samples_leaf': 7, 'min_samples_split': 13}\n"
          ]
        }
      ]
    },
    {
      "cell_type": "markdown",
      "source": [
        "최고의 교차 검증 점수"
      ],
      "metadata": {
        "id": "bMfiU34K6h1Z"
      }
    },
    {
      "cell_type": "code",
      "source": [
        "print(np.max(gs.cv_results_['mean_test_score']))"
      ],
      "metadata": {
        "colab": {
          "base_uri": "https://localhost:8080/"
        },
        "id": "FYvVh1ZP6ZTH",
        "outputId": "dbc3d369-b314-4a57-a91c-8f8227ffc82c"
      },
      "execution_count": 35,
      "outputs": [
        {
          "output_type": "stream",
          "name": "stdout",
          "text": [
            "0.8695428296438884\n"
          ]
        }
      ]
    },
    {
      "cell_type": "markdown",
      "source": [
        "최적의 모델은 <font color= #ffff00>best_estimator_</font> 속성에 저장\n",
        "\n",
        "이를 <font color=\t#ffff00>최종 모델</font>로 결정하고 테스트 세트의 성능 확인"
      ],
      "metadata": {
        "id": "md2zJYEe6j3h"
      }
    },
    {
      "cell_type": "code",
      "source": [
        "dt = gs.best_estimator_\n",
        "print(dt.score(test_input, test_target))"
      ],
      "metadata": {
        "colab": {
          "base_uri": "https://localhost:8080/"
        },
        "id": "kI-SA7fl6tRH",
        "outputId": "13785271-ee78-4360-8190-a5560495dca6"
      },
      "execution_count": 36,
      "outputs": [
        {
          "output_type": "stream",
          "name": "stdout",
          "text": [
            "0.86\n"
          ]
        }
      ]
    }
  ]
}