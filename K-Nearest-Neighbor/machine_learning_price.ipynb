{
  "nbformat": 4,
  "nbformat_minor": 0,
  "metadata": {
    "colab": {
      "name": "machine_learning_price.ipynb",
      "provenance": [],
      "authorship_tag": "ABX9TyOoEWo1hreS3cBQqUpofJph",
      "include_colab_link": true
    },
    "kernelspec": {
      "name": "python3",
      "display_name": "Python 3"
    },
    "language_info": {
      "name": "python"
    }
  },
  "cells": [
    {
      "cell_type": "markdown",
      "metadata": {
        "id": "view-in-github",
        "colab_type": "text"
      },
      "source": [
        "<a href=\"https://colab.research.google.com/github/wodnjse/machine-learning/blob/main/machine_learning_price.ipynb\" target=\"_parent\"><img src=\"https://colab.research.google.com/assets/colab-badge.svg\" alt=\"Open In Colab\"/></a>"
      ]
    },
    {
      "cell_type": "code",
      "execution_count": 7,
      "metadata": {
        "id": "krkOrLYZGxiR"
      },
      "outputs": [],
      "source": [
        "# 짜장면 값 예측\n",
        "import matplotlib.pyplot as plt\n",
        "import numpy as np"
      ]
    },
    {
      "cell_type": "code",
      "source": [
        "# data\n",
        "year = np.array(range(2000, 2020))\n",
        "year"
      ],
      "metadata": {
        "colab": {
          "base_uri": "https://localhost:8080/"
        },
        "id": "hruiAcgaNKFf",
        "outputId": "95b09e00-9b47-4bdf-8b02-6222d2dc2751"
      },
      "execution_count": 8,
      "outputs": [
        {
          "output_type": "execute_result",
          "data": {
            "text/plain": [
              "array([2000, 2001, 2002, 2003, 2004, 2005, 2006, 2007, 2008, 2009, 2010,\n",
              "       2011, 2012, 2013, 2014, 2015, 2016, 2017, 2018, 2019])"
            ]
          },
          "metadata": {},
          "execution_count": 8
        }
      ]
    },
    {
      "cell_type": "code",
      "source": [
        "# 짜장면 데이터셋\n",
        "price = np.array([58.530, 59.262, 62.758, 69.324, 70.953, 71.252, 72.190, 74.886, 84.681, 86.165, 87.240,\n",
        "                  93.339,94.445,96.090,97.308,100.00,102.81,106.1,110.83,115.04])\n",
        "price"
      ],
      "metadata": {
        "colab": {
          "base_uri": "https://localhost:8080/"
        },
        "id": "wdlVCl8KNErB",
        "outputId": "5df28e96-c4ad-40a6-da84-3541964a48d5"
      },
      "execution_count": 10,
      "outputs": [
        {
          "output_type": "execute_result",
          "data": {
            "text/plain": [
              "array([ 58.53 ,  59.262,  62.758,  69.324,  70.953,  71.252,  72.19 ,\n",
              "        74.886,  84.681,  86.165,  87.24 ,  93.339,  94.445,  96.09 ,\n",
              "        97.308, 100.   , 102.81 , 106.1  , 110.83 , 115.04 ])"
            ]
          },
          "metadata": {},
          "execution_count": 10
        }
      ]
    },
    {
      "cell_type": "code",
      "source": [
        "price = price / 100 * 4468 # 짜장면 가격"
      ],
      "metadata": {
        "id": "Jiks8QoIN05_"
      },
      "execution_count": 11,
      "outputs": []
    },
    {
      "cell_type": "code",
      "source": [
        "from sklearn.linear_model import LinearRegression # LinearRegression 불러옴\n",
        "x = year # 독립변수: x\n",
        "y = price  #종속변수: y\n",
        "model = LinearRegression() # LinearRegression 모델 생성\n",
        "\n",
        "model.fit(x.reshape(-1, 1), y) # reshape(-1,1): 2차원 배열로 변경 / fit(): 모델 학습"
      ],
      "metadata": {
        "colab": {
          "base_uri": "https://localhost:8080/"
        },
        "id": "NOyuRsJ5N_ku",
        "outputId": "073324c3-f958-4266-b6d5-7686f31c4f1e"
      },
      "execution_count": 13,
      "outputs": [
        {
          "output_type": "execute_result",
          "data": {
            "text/plain": [
              "LinearRegression()"
            ]
          },
          "metadata": {},
          "execution_count": 13
        }
      ]
    },
    {
      "cell_type": "code",
      "source": [
        "plt.figure(figsize=(7,5)) # 그래프 사이즈 가로세로\n",
        "plt.title(\"price index\") # 제목\n",
        "plt.plot(year, price, 'bo--') # b:blue, o모양, --:대쉬선\n",
        "plt.plot(x, model .predict(x.reshape(-1, 1)), 'r') # 예측선 (빨간색)\n",
        "plt.xticks(np.arange(1998, 2021, 2)) # x축 설정\n",
        "plt.xlabel('year')\n",
        "plt.ylabel('price')\n",
        "plt.show # 그리기"
      ],
      "metadata": {
        "colab": {
          "base_uri": "https://localhost:8080/",
          "height": 368
        },
        "id": "Qv8BsoOGSd8E",
        "outputId": "cd5c777a-fb3c-46b6-ea68-be32019ac856"
      },
      "execution_count": 14,
      "outputs": [
        {
          "output_type": "execute_result",
          "data": {
            "text/plain": [
              "<function matplotlib.pyplot.show>"
            ]
          },
          "metadata": {},
          "execution_count": 14
        },
        {
          "output_type": "display_data",
          "data": {
            "text/plain": [
              "<Figure size 504x360 with 1 Axes>"
            ],
            "image/png": "[encoded data removed]"
          },
          "metadata": {
            "needs_background": "light"
          }
        }
      ]
    },
    {
      "cell_type": "code",
      "source": [
        "y = model.predict([[2030]])\n",
        "print('2030년 예상 짜장면 값은 ', y, '원입니다.')"
      ],
      "metadata": {
        "colab": {
          "base_uri": "https://localhost:8080/"
        },
        "id": "BCkVXWFsW4AB",
        "outputId": "8cabca83-b8f6-4461-cafd-5c1ad7e9f59b"
      },
      "execution_count": 15,
      "outputs": [
        {
          "output_type": "stream",
          "name": "stdout",
          "text": [
            "2030년 예상 짜장면 값은  [6500.71018355] 원입니다.\n"
          ]
        }
      ]
    },
    {
      "cell_type": "code",
      "source": [
        "x = int(input('몇 년의 자장면 가격을 예측하고 싶나요?'))\n",
        "y = model.predict([[x]])\n",
        "print(x, '년 예상 자장면 값은', y, '원입니다.')"
      ],
      "metadata": {
        "colab": {
          "base_uri": "https://localhost:8080/"
        },
        "id": "_AzfKxC0XBZd",
        "outputId": "cc130d87-f27a-4e80-a20e-8d5ed87314b6"
      },
      "execution_count": 24,
      "outputs": [
        {
          "output_type": "stream",
          "name": "stdout",
          "text": [
            "몇 년의 자장면 가격을 예측하고 싶나요?2030\n",
            "2030 년 예상 자장면 값은 [6500.71018355] 원입니다.\n"
          ]
        }
      ]
    }
  ]
}
