{
  "nbformat": 4,
  "nbformat_minor": 0,
  "metadata": {
    "colab": {
      "name": "machine_learning_2_2.ipynb",
      "provenance": [],
      "collapsed_sections": [],
      "authorship_tag": "ABX9TyOTGp7zmkm03HnYVzHSh9Ry",
      "include_colab_link": true
    },
    "kernelspec": {
      "name": "python3",
      "display_name": "Python 3"
    },
    "language_info": {
      "name": "python"
    }
  },
  "cells": [
    {
      "cell_type": "markdown",
      "metadata": {
        "id": "view-in-github",
        "colab_type": "text"
      },
      "source": [
        "<a href=\"https://colab.research.google.com/github/wodnjse/machine-learning/blob/main/K-Nearest-Neighbor/machine_learning_2_2.ipynb\" target=\"_parent\"><img src=\"https://colab.research.google.com/assets/colab-badge.svg\" alt=\"Open In Colab\"/></a>"
      ]
    },
    {
      "cell_type": "code",
      "source": [
        "# 전체 데이터 리스트(생선의 길이와 무게)\n",
        "fish_length = [25.4, 26.3, 26.5, 29.0, 29.0, 29.7, 29.7, 30.0, 30.0, 30.7, 31.0, 31.0, \n",
        "                31.5, 32.0, 32.0, 32.0, 33.0, 33.0, 33.5, 33.5, 34.0, 34.0, 34.5, 35.0, \n",
        "                35.0, 35.0, 35.0, 36.0, 36.0, 37.0, 38.5, 38.5, 39.5, 41.0, 41.0, 9.8, \n",
        "                10.5, 10.6, 11.0, 11.2, 11.3, 11.8, 11.8, 12.0, 12.2, 12.4, 13.0, 14.3, 15.0]\n",
        "fish_weight = [242.0, 290.0, 340.0, 363.0, 430.0, 450.0, 500.0, 390.0, 450.0, 500.0, 475.0, 500.0, \n",
        "                500.0, 340.0, 600.0, 600.0, 700.0, 700.0, 610.0, 650.0, 575.0, 685.0, 620.0, 680.0, \n",
        "                700.0, 725.0, 720.0, 714.0, 850.0, 1000.0, 920.0, 955.0, 925.0, 975.0, 950.0, 6.7, \n",
        "                7.5, 7.0, 9.7, 9.8, 8.7, 10.0, 9.9, 9.8, 12.2, 13.4, 12.2, 19.7, 19.9]"
      ],
      "metadata": {
        "id": "Mi_mfU_boNaP"
      },
      "execution_count": null,
      "outputs": []
    },
    {
      "cell_type": "markdown",
      "source": [
        "#**넘파이로 데이터 준비하기**\n",
        "- 기존에는 파이썬 리스트를 순회하면서 원소를 하나씩 꺼내 생선 하나의 길이와 무게를 리트스 안의 리스트로 직접 구성"
      ],
      "metadata": {
        "id": "jZkQL2tXoSl3"
      }
    },
    {
      "cell_type": "code",
      "execution_count": null,
      "metadata": {
        "id": "rAVX5HAznCnB"
      },
      "outputs": [],
      "source": [
        "import numpy as np"
      ]
    },
    {
      "cell_type": "code",
      "source": [
        "np.column_stack(([1,2,3],[4,5,6]))"
      ],
      "metadata": {
        "colab": {
          "base_uri": "https://localhost:8080/"
        },
        "id": "r04Z5RgFoHJ8",
        "outputId": "be6150ee-be67-4ac7-d366-c7712718f8fa"
      },
      "execution_count": null,
      "outputs": [
        {
          "output_type": "execute_result",
          "data": {
            "text/plain": [
              "array([[1, 4],\n",
              "       [2, 5],\n",
              "       [3, 6]])"
            ]
          },
          "metadata": {},
          "execution_count": 6
        }
      ]
    },
    {
      "cell_type": "markdown",
      "source": [
        "**column_stack() 함수:**</br>\n",
        "<u>전달받은 리스트를 일렬로 세운 다음 차례대로 나란히 연결</u>\n",
        "\n",
        "🔼(예시 배열은 3행 2열)"
      ],
      "metadata": {
        "id": "DU4FxNvAonX_"
      }
    },
    {
      "cell_type": "markdown",
      "source": [
        "# 튜플(Tuple)\n",
        "1. column_stack 함수로 전달하는 리스트는 파이썬 튜플로 전달\n",
        "2. 리스트와 매우 비슷\n",
        "3. 리스트처럼 원소에 순서가 있지만 한 번 만들어진 튜플은 ***수정 불가***\n",
        "4. 함수로 전달한 값이 바뀌지 않는다는 것을 믿을 수 있음.</br>\n",
        "  -> 매개변수 값으로 많이 사용"
      ],
      "metadata": {
        "id": "AQ6j0tWKpFFn"
      }
    },
    {
      "cell_type": "markdown",
      "source": [
        "# 넘파이 배열 생성\n",
        "- fish_ length와 fish_wieght 합치기\n",
        "- 49행 2열\n",
        "(행과 열을 맞추어 가지런히 정렬된 모습)"
      ],
      "metadata": {
        "id": "2Npw9Sw2pc84"
      }
    },
    {
      "cell_type": "code",
      "source": [
        "fish_data = np.column_stack((fish_length, fish_weight))\n",
        "print(fish_data[:5])\n",
        "fish_data.shape"
      ],
      "metadata": {
        "colab": {
          "base_uri": "https://localhost:8080/"
        },
        "id": "MtkjdyJEpC7A",
        "outputId": "cea59161-a530-4af0-eacb-4eb43147d8c4"
      },
      "execution_count": null,
      "outputs": [
        {
          "output_type": "stream",
          "name": "stdout",
          "text": [
            "[[ 25.4 242. ]\n",
            " [ 26.3 290. ]\n",
            " [ 26.5 340. ]\n",
            " [ 29.  363. ]\n",
            " [ 29.  430. ]]\n"
          ]
        },
        {
          "output_type": "execute_result",
          "data": {
            "text/plain": [
              "(49, 2)"
            ]
          },
          "metadata": {},
          "execution_count": 7
        }
      ]
    },
    {
      "cell_type": "markdown",
      "source": [
        "# 타깃 데이터 생성\n",
        "- 기존에는 리스트 [1], [0]을 여러 번 곱해서 타깃 데이터 생성\n",
        "- 넘파이에서는 np.ones(), np.zeros() 사용"
      ],
      "metadata": {
        "id": "RN9BhPDNpzJR"
      }
    },
    {
      "cell_type": "code",
      "source": [
        "print(np.ones(5))\n",
        "print(np.zeros(5))"
      ],
      "metadata": {
        "colab": {
          "base_uri": "https://localhost:8080/"
        },
        "id": "iKqJcLdNp8xX",
        "outputId": "5efb1730-a5de-4759-936f-d9ec24bec625"
      },
      "execution_count": null,
      "outputs": [
        {
          "output_type": "stream",
          "name": "stdout",
          "text": [
            "[1. 1. 1. 1. 1.]\n",
            "[0. 0. 0. 0. 0.]\n"
          ]
        }
      ]
    },
    {
      "cell_type": "code",
      "source": [
        "fish_target = np.concatenate((np.ones(35), np.zeros(14)))\n",
        "print(fish_target)"
      ],
      "metadata": {
        "colab": {
          "base_uri": "https://localhost:8080/"
        },
        "id": "NTCGS18CrB3g",
        "outputId": "07d61dc7-5980-45ad-e670-0b696155d243"
      },
      "execution_count": null,
      "outputs": [
        {
          "output_type": "stream",
          "name": "stdout",
          "text": [
            "[1. 1. 1. 1. 1. 1. 1. 1. 1. 1. 1. 1. 1. 1. 1. 1. 1. 1. 1. 1. 1. 1. 1. 1.\n",
            " 1. 1. 1. 1. 1. 1. 1. 1. 1. 1. 1. 0. 0. 0. 0. 0. 0. 0. 0. 0. 0. 0. 0. 0.\n",
            " 0.]\n"
          ]
        }
      ]
    },
    {
      "cell_type": "markdown",
      "source": [
        "**np.concatenate() 함수:**  \n",
        " <u>첫 번째 차원을 따라 배열 연결</u>"
      ],
      "metadata": {
        "id": "tK6eCvABrMCY"
      }
    },
    {
      "cell_type": "code",
      "source": [
        "# 사이킷런으로 훈련 세트와 테스트 세트 나누기\n",
        "from sklearn.model_selection import train_test_split"
      ],
      "metadata": {
        "id": "UqwYPa-ssdpR"
      },
      "execution_count": null,
      "outputs": []
    },
    {
      "cell_type": "markdown",
      "source": [
        "# **train_test_split() 함수**\n",
        "- 전달되는 리스트나 배열을 비율에 맞게 훈련/테스트 세트로 나눔\n",
        "- 나누기 전에 알아서 섞어줌\n",
        "- random_state 매개변수\n",
        "  - 자체적으로 랜덤 시드 지정\n",
        "- train_size 매개변수\n",
        "  - train/test 비율 지정 가능\n",
        "  - default는 75:25"
      ],
      "metadata": {
        "id": "OZ_45CLSivsf"
      }
    },
    {
      "cell_type": "code",
      "source": [
        "# 비율 설정하지 않으면 default는 75:25\n",
        "train_input, test_input, train_target, test_target = train_test_split(\n",
        "    fish_data, fish_target, random_state=42)\n",
        "print(train_input.shape, test_input.shape)\n",
        "print(train_target.shape, test_target.shape)"
      ],
      "metadata": {
        "colab": {
          "base_uri": "https://localhost:8080/"
        },
        "id": "gm9XaIO_iIuw",
        "outputId": "e203acec-1fe8-4661-ab86-5b31ce88525d"
      },
      "execution_count": null,
      "outputs": [
        {
          "output_type": "stream",
          "name": "stdout",
          "text": [
            "(36, 2) (13, 2)\n",
            "(36,) (13,)\n"
          ]
        }
      ]
    },
    {
      "cell_type": "markdown",
      "source": [
        "# **샘플링 편향**\n",
        "- 잘 섞였는지 확인하기 위해 출력\n",
        "- 원래 35:14이기 때문에 2.5:1\n",
        "- 이 테스트 세트의 도미와 빙어 비율은 3.3:1\n",
        "- 샘플이 골고루 섞이지 않아 클래스 비율이 일정하지 않다면\n",
        "  - → 모델이 일부 샘플을 *올바르게 학습할 수 없음*"
      ],
      "metadata": {
        "id": "lZB1EowkjYof"
      }
    },
    {
      "cell_type": "code",
      "source": [
        "# 샘플링 편향 발생\n",
        "print(test_target)"
      ],
      "metadata": {
        "colab": {
          "base_uri": "https://localhost:8080/"
        },
        "id": "C5dL66JVjRbP",
        "outputId": "132cd7cc-0496-45db-9f68-d9eb8972d4e8"
      },
      "execution_count": null,
      "outputs": [
        {
          "output_type": "stream",
          "name": "stdout",
          "text": [
            "[1. 0. 0. 0. 1. 1. 1. 1. 1. 1. 1. 1. 1.]\n"
          ]
        }
      ]
    },
    {
      "cell_type": "markdown",
      "source": [
        "# **stratify 매개변수**\n",
        "- stratify 매개변수에 타깃 데이터 전달\n",
        "- 훈련 데이터가 작거나 특정 클래스의 샘플 개수가 적을 때 특히 유용\n",
        "- 실행 결과 2.25:1\n"
      ],
      "metadata": {
        "id": "RTk8sR7TjuuG"
      }
    },
    {
      "cell_type": "code",
      "source": [
        "# stratify 매개변수에 타깃 데이터 전달: 클래스 비율에 맞게 데이터 나눔\n",
        "train_input, test_input, train_target, test_target = train_test_split(\n",
        "    fish_data, fish_target, random_state=42)\n",
        "print(test_target)"
      ],
      "metadata": {
        "colab": {
          "base_uri": "https://localhost:8080/"
        },
        "id": "xC33LPgTj8fX",
        "outputId": "22f5b482-67ad-4966-dfda-7cff8b262d2d"
      },
      "execution_count": null,
      "outputs": [
        {
          "output_type": "stream",
          "name": "stdout",
          "text": [
            "[1. 0. 0. 0. 1. 1. 1. 1. 1. 1. 1. 1. 1.]\n"
          ]
        }
      ]
    },
    {
      "cell_type": "markdown",
      "source": [
        "<hr></hr>"
      ],
      "metadata": {
        "id": "Fh6Jrk_5kyEX"
      }
    },
    {
      "cell_type": "markdown",
      "source": [
        "# **수상한 도미 한 마리**\n",
        "- 새로운 학습 데이터로 k-최근접 이웃 훈련\n",
        "- 모델 평가 수치 1.0으로 완벽한 결과"
      ],
      "metadata": {
        "id": "5J4RFxdck0Cv"
      }
    },
    {
      "cell_type": "code",
      "source": [
        "from sklearn.neighbors import KNeighborsClassifier\n",
        "kn = KNeighborsClassifier()\n",
        "kn.fit(train_input, train_target)\n",
        "kn.score(test_input, test_target)"
      ],
      "metadata": {
        "colab": {
          "base_uri": "https://localhost:8080/"
        },
        "id": "NACGgzRqkZho",
        "outputId": "210d70e2-9e42-4202-aa5b-c89183fa7a28"
      },
      "execution_count": null,
      "outputs": [
        {
          "output_type": "execute_result",
          "data": {
            "text/plain": [
              "1.0"
            ]
          },
          "metadata": {},
          "execution_count": 19
        }
      ]
    },
    {
      "cell_type": "code",
      "source": [
        "if kn.predict([[25, 150]]) == 0:  # 길이가 25cm이고, 무게가 150g이면 '도미'\n",
        "  print('빙어')\n",
        "else:\n",
        "  print('도미')"
      ],
      "metadata": {
        "colab": {
          "base_uri": "https://localhost:8080/"
        },
        "id": "5kYx2xD5k8Y_",
        "outputId": "92013713-a4fd-4a7a-89dd-ccd557c25cb6"
      },
      "execution_count": null,
      "outputs": [
        {
          "output_type": "stream",
          "name": "stdout",
          "text": [
            "빙어\n"
          ]
        }
      ]
    },
    {
      "cell_type": "markdown",
      "source": [
        "- 길이가 25cm이고 무게가 150g이면 ***도미***라고 예측\n",
        "- 하지만 현재 모델 샐행 결과는 ***빙어로 예측***\n",
        "- 산점도를 봐도 도미가 훨씬 가깝게 보임"
      ],
      "metadata": {
        "id": "G-soNmLQlpxe"
      }
    },
    {
      "cell_type": "code",
      "source": [
        "import matplotlib.pyplot as plt\n",
        "plt.scatter(train_input[:,0], train_input[:,1])\n",
        "plt.scatter(25, 150, marker='^')  # 길이 25cm, 무게 150g\n",
        "plt.xlabel('length')\n",
        "plt.ylabel('weight')\n",
        "plt.show()"
      ],
      "metadata": {
        "colab": {
          "base_uri": "https://localhost:8080/",
          "height": 279
        },
        "id": "bMCg7ZH_lmNX",
        "outputId": "3387ce84-99df-4dbf-8782-58ca38ffba6e"
      },
      "execution_count": null,
      "outputs": [
        {
          "output_type": "display_data",
          "data": {
            "text/plain": [
              "<Figure size 432x288 with 1 Axes>"
            ],
            "image/png": "[encoded data removed]"
          },
          "metadata": {
            "needs_background": "light"
          }
        }
      ]
    },
    {
      "cell_type": "markdown",
      "source": [
        "# **K-최근접 이웃 알고리즘**\n",
        "- 오른쪽 위로 뻗어 있는 다른 도미 데이터에 더 가까움\n",
        "- k-최근접 이웃은 <u>**주변의 샘플 중에서 다수인 클래스를 예측으로 사용**</u>\n",
        "- n_neighbors  매개변수\n",
        "  - KNeighborsClassifier 클래스의 *이웃개수*\n",
        "  - default 값은 5\n",
        "- kneighbors() 메서드: 주어진 샘플에서 가장 가까운 이웃을 찾아줌\n",
        "\n"
      ],
      "metadata": {
        "id": "sPmNK1e-mSpY"
      }
    },
    {
      "cell_type": "code",
      "source": [
        "# 가장 가까운 5개의 거리와 인덱스 저장\n",
        "distances, indexes = kn.kneighbors([[25, 150]])"
      ],
      "metadata": {
        "id": "-9u3sgGHmHLv"
      },
      "execution_count": null,
      "outputs": []
    },
    {
      "cell_type": "code",
      "source": [
        "# 인덱스를 이용해서 산점도 그리기\n",
        "\n",
        "plt.scatter(train_input[:,0], train_input[:,1])\n",
        "plt.scatter(25, 150, marker='^')  # 길이 25cm, 무게 150g\n",
        "plt.scatter(train_input[indexes,0], train_input[indexes, 1], marker='D')  # marker='D': 마름모\n",
        "plt.xlabel('length')\n",
        "plt.ylabel('weight')\n",
        "plt.show()"
      ],
      "metadata": {
        "colab": {
          "base_uri": "https://localhost:8080/",
          "height": 279
        },
        "id": "E_OYL0lbnTsX",
        "outputId": "a9323150-5b75-42eb-d9ac-2230f49b04f0"
      },
      "execution_count": null,
      "outputs": [
        {
          "output_type": "display_data",
          "data": {
            "text/plain": [
              "<Figure size 432x288 with 1 Axes>"
            ],
            "image/png": "[encoded data removed]"
          },
          "metadata": {
            "needs_background": "light"
          }
        }
      ]
    },
    {
      "cell_type": "code",
      "source": [
        "# 가장 가까운 데이터 5개의 거리 확인\n",
        "# 가장 가까운 생선 4개는 모두 빙어\n",
        "\n",
        "print(distances)"
      ],
      "metadata": {
        "colab": {
          "base_uri": "https://localhost:8080/"
        },
        "id": "JbOx2kVHnuFm",
        "outputId": "ee423f99-46ea-4a30-f2aa-e1f9b4bd5576"
      },
      "execution_count": null,
      "outputs": [
        {
          "output_type": "stream",
          "name": "stdout",
          "text": [
            "[[ 92.00086956 130.48375378 138.32150953 140.00603558 140.62090883]]\n"
          ]
        }
      ]
    },
    {
      "cell_type": "markdown",
      "source": [
        "# **기준을 맞춰라**"
      ],
      "metadata": {
        "id": "mHZQ-HEGn3Wa"
      }
    },
    {
      "cell_type": "code",
      "source": [
        "# x축의 범위를 y축 범위와 동일하게 변경\n",
        "plt.scatter(train_input[:,0], train_input[:,1])\n",
        "plt.scatter(25, 150, marker='^')  # 길이 25cm, 무게 150g\n",
        "plt.scatter(train_input[indexes,0],\n",
        "            train_input[indexes, 1], marker='D')  # marker='D': 마름모\n",
        "plt.xlim((0, 1000))\n",
        "plt.xlabel('length')\n",
        "plt.ylabel('weight')\n",
        "plt.show()"
      ],
      "metadata": {
        "colab": {
          "base_uri": "https://localhost:8080/",
          "height": 279
        },
        "id": "ZRrIZH-xn1Qw",
        "outputId": "2e412b1b-331f-49a0-a7ac-85371ba345d0"
      },
      "execution_count": null,
      "outputs": [
        {
          "output_type": "display_data",
          "data": {
            "text/plain": [
              "<Figure size 432x288 with 1 Axes>"
            ],
            "image/png": "[encoded data removed]"
          },
          "metadata": {
            "needs_background": "light"
          }
        }
      ]
    },
    {
      "cell_type": "markdown",
      "source": [
        "\n",
        "- x축은 범위가 좁음: 10 ~ 40 / y축은 범위가 넓음: 0 ~ 1000\n",
        "- x축은 범위를 y축과 동일하게 한다면? (xlim 함수 사용)\n",
        "- 모든 데이터가 수직으로 늘어선 형태 → 생선의 길이(x축)은 영향 x\n",
        "- 생선의 무게(y축)만 고려 대상"
      ],
      "metadata": {
        "id": "NvwksRpVpG3Y"
      }
    },
    {
      "cell_type": "code",
      "source": [
        "# 평균, 표준편차를 이용해 표준점수 계산\n",
        "mean = np.mean(train_input, axis=0)\n",
        "std = np.std(train_input, axis=0)\n",
        "print(mean.std)"
      ],
      "metadata": {
        "colab": {
          "base_uri": "https://localhost:8080/"
        },
        "id": "2tWpUM3PpDFO",
        "outputId": "2600feb0-61a1-4949-f145-0d939a98999b"
      },
      "execution_count": null,
      "outputs": [
        {
          "output_type": "stream",
          "name": "stdout",
          "text": [
            "<built-in method std of numpy.ndarray object at 0x7fa672ce9f30>\n"
          ]
        }
      ]
    }
  ]
}