{
  "nbformat": 4,
  "nbformat_minor": 0,
  "metadata": {
    "colab": {
      "name": "machine_learning_3_2_4.ipynb",
      "provenance": [],
      "collapsed_sections": [],
      "mount_file_id": "1dTNlQS_r-SgteMlTd_FsErXQYKIP_Pxc",
      "authorship_tag": "ABX9TyPhzxXRPCDVbG4IyVCid/ab",
      "include_colab_link": true
    },
    "kernelspec": {
      "name": "python3",
      "display_name": "Python 3"
    },
    "language_info": {
      "name": "python"
    }
  },
  "cells": [
    {
      "cell_type": "markdown",
      "metadata": {
        "id": "view-in-github",
        "colab_type": "text"
      },
      "source": [
        "<a href=\"https://colab.research.google.com/github/wodnjse/machine-learning/blob/main/machine_learning_3_2_4.ipynb\" target=\"_parent\"><img src=\"https://colab.research.google.com/assets/colab-badge.svg\" alt=\"Open In Colab\"/></a>"
      ]
    },
    {
      "cell_type": "markdown",
      "source": [
        "# **데이터 수집**\n",
        "- 스마트폰 과의존 실태 조사 데이터 세트<br/>\n",
        ": 2018년 유아에서 성인까지 *28,575명*데 대한 설문 조사 파일\n",
        "- *179개의 속성*으로 구성된 csv 파일\n",
        "- 설문자의 문항 번호, 변수명, 변수값 등 속성의 의미를 정리해 둔 **코드북** 파일\n",
        "- 주요 속성\n",
        " - 대상별 변수(**DM1**): 1-유아, 2-청소년, 3-성인, 4-60대\n",
        " - 스마트폰 과의존 유형(**KK1**): 1-고위험, 2-잠재적 위험군, 3-일반 사용자군"
      ],
      "metadata": {
        "id": "RPvcWD3dgUrc"
      }
    },
    {
      "cell_type": "code",
      "execution_count": null,
      "metadata": {
        "colab": {
          "base_uri": "https://localhost:8080/",
          "height": 206
        },
        "id": "wa7tVgb8VwYE",
        "outputId": "07b872d0-f40a-4a80-fd70-5df9ab186c7c"
      },
      "outputs": [
        {
          "output_type": "execute_result",
          "data": {
            "text/plain": [
              "   DM1  KK1  Q3B_1  Q3B_2  Q3B_3  Q3B_4  Q3B_5  Q3B_6  Q3B_7  Q3B_8  Q3B_9  \\\n",
              "0    2    2      2      3      3      3      2      2      2      3      3   \n",
              "1    2    3      2      2      1      2      2      3      2      2      2   \n",
              "2    2    3      1      1      1      1      1      1      1      2      2   \n",
              "3    2    3      2      3      3      2      2      1      2      2      2   \n",
              "4    2    3      1      1      1      1      1      1      1      4      1   \n",
              "\n",
              "   Q3B_10  \n",
              "0       2  \n",
              "1       2  \n",
              "2       2  \n",
              "3       2  \n",
              "4       1  "
            ],
            "text/html": [
              "\n",
              "  <div id=\"df-92073b84-f219-4feb-bb04-d72a5d924366\">\n",
              "    <div class=\"colab-df-container\">\n",
              "      <div>\n",
              "<style scoped>\n",
              "    .dataframe tbody tr th:only-of-type {\n",
              "        vertical-align: middle;\n",
              "    }\n",
              "\n",
              "    .dataframe tbody tr th {\n",
              "        vertical-align: top;\n",
              "    }\n",
              "\n",
              "    .dataframe thead th {\n",
              "        text-align: right;\n",
              "    }\n",
              "</style>\n",
              "<table border=\"1\" class=\"dataframe\">\n",
              "  <thead>\n",
              "    <tr style=\"text-align: right;\">\n",
              "      <th></th>\n",
              "      <th>DM1</th>\n",
              "      <th>KK1</th>\n",
              "      <th>Q3B_1</th>\n",
              "      <th>Q3B_2</th>\n",
              "      <th>Q3B_3</th>\n",
              "      <th>Q3B_4</th>\n",
              "      <th>Q3B_5</th>\n",
              "      <th>Q3B_6</th>\n",
              "      <th>Q3B_7</th>\n",
              "      <th>Q3B_8</th>\n",
              "      <th>Q3B_9</th>\n",
              "      <th>Q3B_10</th>\n",
              "    </tr>\n",
              "  </thead>\n",
              "  <tbody>\n",
              "    <tr>\n",
              "      <th>0</th>\n",
              "      <td>2</td>\n",
              "      <td>2</td>\n",
              "      <td>2</td>\n",
              "      <td>3</td>\n",
              "      <td>3</td>\n",
              "      <td>3</td>\n",
              "      <td>2</td>\n",
              "      <td>2</td>\n",
              "      <td>2</td>\n",
              "      <td>3</td>\n",
              "      <td>3</td>\n",
              "      <td>2</td>\n",
              "    </tr>\n",
              "    <tr>\n",
              "      <th>1</th>\n",
              "      <td>2</td>\n",
              "      <td>3</td>\n",
              "      <td>2</td>\n",
              "      <td>2</td>\n",
              "      <td>1</td>\n",
              "      <td>2</td>\n",
              "      <td>2</td>\n",
              "      <td>3</td>\n",
              "      <td>2</td>\n",
              "      <td>2</td>\n",
              "      <td>2</td>\n",
              "      <td>2</td>\n",
              "    </tr>\n",
              "    <tr>\n",
              "      <th>2</th>\n",
              "      <td>2</td>\n",
              "      <td>3</td>\n",
              "      <td>1</td>\n",
              "      <td>1</td>\n",
              "      <td>1</td>\n",
              "      <td>1</td>\n",
              "      <td>1</td>\n",
              "      <td>1</td>\n",
              "      <td>1</td>\n",
              "      <td>2</td>\n",
              "      <td>2</td>\n",
              "      <td>2</td>\n",
              "    </tr>\n",
              "    <tr>\n",
              "      <th>3</th>\n",
              "      <td>2</td>\n",
              "      <td>3</td>\n",
              "      <td>2</td>\n",
              "      <td>3</td>\n",
              "      <td>3</td>\n",
              "      <td>2</td>\n",
              "      <td>2</td>\n",
              "      <td>1</td>\n",
              "      <td>2</td>\n",
              "      <td>2</td>\n",
              "      <td>2</td>\n",
              "      <td>2</td>\n",
              "    </tr>\n",
              "    <tr>\n",
              "      <th>4</th>\n",
              "      <td>2</td>\n",
              "      <td>3</td>\n",
              "      <td>1</td>\n",
              "      <td>1</td>\n",
              "      <td>1</td>\n",
              "      <td>1</td>\n",
              "      <td>1</td>\n",
              "      <td>1</td>\n",
              "      <td>1</td>\n",
              "      <td>4</td>\n",
              "      <td>1</td>\n",
              "      <td>1</td>\n",
              "    </tr>\n",
              "  </tbody>\n",
              "</table>\n",
              "</div>\n",
              "      <button class=\"colab-df-convert\" onclick=\"convertToInteractive('df-92073b84-f219-4feb-bb04-d72a5d924366')\"\n",
              "              title=\"Convert this dataframe to an interactive table.\"\n",
              "              style=\"display:none;\">\n",
              "        \n",
              "  <svg xmlns=\"http://www.w3.org/2000/svg\" height=\"24px\"viewBox=\"0 0 24 24\"\n",
              "       width=\"24px\">\n",
              "    <path d=\"M0 0h24v24H0V0z\" fill=\"none\"/>\n",
              "    <path d=\"M18.56 5.44l.94 2.06.94-2.06 2.06-.94-2.06-.94-.94-2.06-.94 2.06-2.06.94zm-11 1L8.5 8.5l.94-2.06 2.06-.94-2.06-.94L8.5 2.5l-.94 2.06-2.06.94zm10 10l.94 2.06.94-2.06 2.06-.94-2.06-.94-.94-2.06-.94 2.06-2.06.94z\"/><path d=\"M17.41 7.96l-1.37-1.37c-.4-.4-.92-.59-1.43-.59-.52 0-1.04.2-1.43.59L10.3 9.45l-7.72 7.72c-.78.78-.78 2.05 0 2.83L4 21.41c.39.39.9.59 1.41.59.51 0 1.02-.2 1.41-.59l7.78-7.78 2.81-2.81c.8-.78.8-2.07 0-2.86zM5.41 20L4 18.59l7.72-7.72 1.47 1.35L5.41 20z\"/>\n",
              "  </svg>\n",
              "      </button>\n",
              "      \n",
              "  <style>\n",
              "    .colab-df-container {\n",
              "      display:flex;\n",
              "      flex-wrap:wrap;\n",
              "      gap: 12px;\n",
              "    }\n",
              "\n",
              "    .colab-df-convert {\n",
              "      background-color: #E8F0FE;\n",
              "      border: none;\n",
              "      border-radius: 50%;\n",
              "      cursor: pointer;\n",
              "      display: none;\n",
              "      fill: #1967D2;\n",
              "      height: 32px;\n",
              "      padding: 0 0 0 0;\n",
              "      width: 32px;\n",
              "    }\n",
              "\n",
              "    .colab-df-convert:hover {\n",
              "      background-color: #E2EBFA;\n",
              "      box-shadow: 0px 1px 2px rgba(60, 64, 67, 0.3), 0px 1px 3px 1px rgba(60, 64, 67, 0.15);\n",
              "      fill: #174EA6;\n",
              "    }\n",
              "\n",
              "    [theme=dark] .colab-df-convert {\n",
              "      background-color: #3B4455;\n",
              "      fill: #D2E3FC;\n",
              "    }\n",
              "\n",
              "    [theme=dark] .colab-df-convert:hover {\n",
              "      background-color: #434B5C;\n",
              "      box-shadow: 0px 1px 3px 1px rgba(0, 0, 0, 0.15);\n",
              "      filter: drop-shadow(0px 1px 2px rgba(0, 0, 0, 0.3));\n",
              "      fill: #FFFFFF;\n",
              "    }\n",
              "  </style>\n",
              "\n",
              "      <script>\n",
              "        const buttonEl =\n",
              "          document.querySelector('#df-92073b84-f219-4feb-bb04-d72a5d924366 button.colab-df-convert');\n",
              "        buttonEl.style.display =\n",
              "          google.colab.kernel.accessAllowed ? 'block' : 'none';\n",
              "\n",
              "        async function convertToInteractive(key) {\n",
              "          const element = document.querySelector('#df-92073b84-f219-4feb-bb04-d72a5d924366');\n",
              "          const dataTable =\n",
              "            await google.colab.kernel.invokeFunction('convertToInteractive',\n",
              "                                                     [key], {});\n",
              "          if (!dataTable) return;\n",
              "\n",
              "          const docLinkHtml = 'Like what you see? Visit the ' +\n",
              "            '<a target=\"_blank\" href=https://colab.research.google.com/notebooks/data_table.ipynb>data table notebook</a>'\n",
              "            + ' to learn more about interactive tables.';\n",
              "          element.innerHTML = '';\n",
              "          dataTable['output_type'] = 'display_data';\n",
              "          await google.colab.output.renderOutput(dataTable, element);\n",
              "          const docLink = document.createElement('div');\n",
              "          docLink.innerHTML = docLinkHtml;\n",
              "          element.appendChild(docLink);\n",
              "        }\n",
              "      </script>\n",
              "    </div>\n",
              "  </div>\n",
              "  "
            ]
          },
          "metadata": {},
          "execution_count": 53
        }
      ],
      "source": [
        "import pandas as pd\n",
        "import numpy as np\n",
        "import matplotlib.pyplot as plt\n",
        "from google.colab import drive\n",
        "\n",
        "df = pd.read_excel('/content/drive/MyDrive/Colab Notebooks/머신러닝/기계학습/phone.xlsx')\n",
        "df.head()\n",
        "\n",
        "# DM1: 청소년\n",
        "# KK1: 레이블\n",
        "# Q3B_1,Q3B_2,Q3B_3,Q3B_4,Q3B_5,Q3B_6,Q3B_7,Q3B_8,Q3B_9,Q3B_10: 속성(1:전혀 그렇지 않다 2:그러히 않다 3:그렇다 4:매우 그렇다)"
      ]
    },
    {
      "cell_type": "markdown",
      "source": [
        "# **속성 간 상관관계 분석**\n",
        "- 10개의 설문 문항에서 3~4개 선택하여 간소화(Q3B_4\n",
        "- 상관관계 분석하여 높은 4개 속성 선택"
      ],
      "metadata": {
        "id": "2sUP84OfbNO3"
      }
    },
    {
      "cell_type": "code",
      "source": [
        "df.corr()\n",
        "import seaborn as sns\n",
        "plt.figure(figsize=(12,5 ))\n",
        "sns.heatmap(df.corr(),annot=True) # annotation: 히트맵 내부 수치"
      ],
      "metadata": {
        "colab": {
          "base_uri": "https://localhost:8080/",
          "height": 363
        },
        "id": "iqtCv_5_a85J",
        "outputId": "0e26fb77-35b6-4b8f-ed32-64273ff388fd"
      },
      "execution_count": null,
      "outputs": [
        {
          "output_type": "execute_result",
          "data": {
            "text/plain": [
              "<matplotlib.axes._subplots.AxesSubplot at 0x7efc59235e10>"
            ]
          },
          "metadata": {},
          "execution_count": 35
        },
        {
          "output_type": "display_data",
          "data": {
            "text/plain": [
              "<Figure size 864x360 with 2 Axes>"
            ],
            "image/png": "[encoded data removed]"
          },
          "metadata": {
            "needs_background": "light"
          }
        }
      ]
    },
    {
      "cell_type": "markdown",
      "source": [
        "#### **Q3B_4: -0.63**\n",
        "#### **Q3B_5: -0.64**\n",
        "#### **Q3B_6: -0.62**\n",
        "#### **Q3B_10: -0.57**\n",
        "\n",
        "↑음수는 음의 상관관계"
      ],
      "metadata": {
        "id": "w7GSzxcleS92"
      }
    },
    {
      "cell_type": "markdown",
      "source": [
        "# **X,y 정의**\n",
        "- X: 입력 데이터\n",
        "- y: 레이블\n",
        "- 대소문자 구문하는것이 관례"
      ],
      "metadata": {
        "id": "lVsmItgEcZDd"
      }
    },
    {
      "cell_type": "markdown",
      "source": [
        ""
      ],
      "metadata": {
        "id": "xuWbp9K4eSRs"
      }
    },
    {
      "cell_type": "code",
      "source": [
        "X = df[['Q3B_4','Q3B_5','Q3B_6','Q3B_10']].to_numpy()\n",
        "y = df['KK1'].to_numpy() # KK1 속성만\n",
        "print(X.shape,y.shape) # X,y 형태 출력"
      ],
      "metadata": {
        "colab": {
          "base_uri": "https://localhost:8080/"
        },
        "id": "w-be85N-cX4W",
        "outputId": "a8ae23b5-83cc-4379-a405-ba9cb788e1ef"
      },
      "execution_count": null,
      "outputs": [
        {
          "output_type": "stream",
          "name": "stdout",
          "text": [
            "(4886, 4) (4886,)\n"
          ]
        }
      ]
    },
    {
      "cell_type": "markdown",
      "source": [
        "# **훈련 데이터/테스트 데이터 분리**\n",
        "- 기본적으로 75% : 25% -> 3,664개와 1,222개로 분리"
      ],
      "metadata": {
        "id": "_S6Bd0aCc_ne"
      }
    },
    {
      "cell_type": "code",
      "source": [
        "# data split\n",
        "from sklearn.model_selection import train_test_split\n",
        "\n",
        "# 비율은 default(75:25), 결과값 비중 동일하게(stratify 매개변수)\n",
        "X_train, X_test, y_train, y_test = train_test_split(X, y, stratify = y)\n",
        "print(X_train.shape, y_train.shape)"
      ],
      "metadata": {
        "colab": {
          "base_uri": "https://localhost:8080/"
        },
        "id": "gwUreALOdKK9",
        "outputId": "1ca4638b-6d65-4c37-c0f1-9679eba869d0"
      },
      "execution_count": null,
      "outputs": [
        {
          "output_type": "stream",
          "name": "stdout",
          "text": [
            "(3664, 4) (3664,)\n"
          ]
        }
      ]
    },
    {
      "cell_type": "markdown",
      "source": [
        "# **훈련 데이터로 학습**\n",
        "- MLPClassifier 사용 (Multi Layer Perceptron)\n",
        "- **은닉층** 100개 노드, 50개 노드, 25개 노드인 **딥러닝** 모델 생성\n",
        "- 훈련 데이터로 학습"
      ],
      "metadata": {
        "id": "H9e1rhbRkDsR"
      }
    },
    {
      "cell_type": "code",
      "source": [
        "# training\n",
        "from sklearn.neural_network import MLPClassifier\n",
        "model = MLPClassifier(hidden_layer_sizes=(100,50,25),verbose=True)\n",
        "model.fit(X_train, y_train)"
      ],
      "metadata": {
        "colab": {
          "base_uri": "https://localhost:8080/"
        },
        "id": "ha0MvCFukODy",
        "outputId": "ca2f7045-88ee-4080-d913-3163069a92ac"
      },
      "execution_count": null,
      "outputs": [
        {
          "output_type": "stream",
          "name": "stdout",
          "text": [
            "Iteration 1, loss = 0.92794827\n",
            "Iteration 2, loss = 0.73661451\n",
            "Iteration 3, loss = 0.66610582\n",
            "Iteration 4, loss = 0.59440716\n",
            "Iteration 5, loss = 0.52294938\n",
            "Iteration 6, loss = 0.45630868\n",
            "Iteration 7, loss = 0.40286201\n",
            "Iteration 8, loss = 0.37006220\n",
            "Iteration 9, loss = 0.33831999\n",
            "Iteration 10, loss = 0.31908043\n",
            "Iteration 11, loss = 0.30625769\n",
            "Iteration 12, loss = 0.29712992\n",
            "Iteration 13, loss = 0.29361072\n",
            "Iteration 14, loss = 0.28302145\n",
            "Iteration 15, loss = 0.27882939\n",
            "Iteration 16, loss = 0.27918334\n",
            "Iteration 17, loss = 0.27098228\n",
            "Iteration 18, loss = 0.27025307\n",
            "Iteration 19, loss = 0.26697421\n",
            "Iteration 20, loss = 0.26424615\n",
            "Iteration 21, loss = 0.26651680\n",
            "Iteration 22, loss = 0.26508587\n",
            "Iteration 23, loss = 0.25906082\n",
            "Iteration 24, loss = 0.26253992\n",
            "Iteration 25, loss = 0.26503603\n",
            "Iteration 26, loss = 0.25544625\n",
            "Iteration 27, loss = 0.25293612\n",
            "Iteration 28, loss = 0.25509064\n",
            "Iteration 29, loss = 0.25216121\n",
            "Iteration 30, loss = 0.25115572\n",
            "Iteration 31, loss = 0.25297562\n",
            "Iteration 32, loss = 0.25037086\n",
            "Iteration 33, loss = 0.26448260\n",
            "Iteration 34, loss = 0.25021806\n",
            "Iteration 35, loss = 0.24970772\n",
            "Iteration 36, loss = 0.25432204\n",
            "Iteration 37, loss = 0.24797945\n",
            "Iteration 38, loss = 0.25162252\n",
            "Iteration 39, loss = 0.24885825\n",
            "Iteration 40, loss = 0.25076756\n",
            "Iteration 41, loss = 0.24877269\n",
            "Iteration 42, loss = 0.24945271\n",
            "Iteration 43, loss = 0.24766983\n",
            "Iteration 44, loss = 0.24830643\n",
            "Iteration 45, loss = 0.26165579\n",
            "Iteration 46, loss = 0.25170431\n",
            "Iteration 47, loss = 0.24924522\n",
            "Iteration 48, loss = 0.24950640\n",
            "Iteration 49, loss = 0.25324416\n",
            "Iteration 50, loss = 0.25063758\n",
            "Iteration 51, loss = 0.24816567\n",
            "Iteration 52, loss = 0.25006843\n",
            "Iteration 53, loss = 0.24775716\n",
            "Iteration 54, loss = 0.25171675\n",
            "Training loss did not improve more than tol=0.000100 for 10 consecutive epochs. Stopping.\n"
          ]
        },
        {
          "output_type": "execute_result",
          "data": {
            "text/plain": [
              "MLPClassifier(hidden_layer_sizes=(100, 50, 25), verbose=True)"
            ]
          },
          "metadata": {},
          "execution_count": 40
        }
      ]
    },
    {
      "cell_type": "markdown",
      "source": [
        "↑손실률(Loss)이 0.25171675에서 크게 바뀌지 않아 54회 학습 후 종료"
      ],
      "metadata": {
        "id": "MTo5LgrHkztJ"
      }
    },
    {
      "cell_type": "markdown",
      "source": [
        "# **테스트 데이터로 모델 평가**"
      ],
      "metadata": {
        "id": "0vtLSPkIlI3x"
      }
    },
    {
      "cell_type": "code",
      "source": [
        "model.score(X_test,y_test)"
      ],
      "metadata": {
        "colab": {
          "base_uri": "https://localhost:8080/"
        },
        "id": "wS0Dl6QxlETZ",
        "outputId": "b3962144-da21-4b25-d2c4-d6961767aecb"
      },
      "execution_count": null,
      "outputs": [
        {
          "output_type": "execute_result",
          "data": {
            "text/plain": [
              "0.9083469721767594"
            ]
          },
          "metadata": {},
          "execution_count": 41
        }
      ]
    },
    {
      "cell_type": "markdown",
      "source": [
        "# **모델 활용**\n",
        "1. 4개의 간소화된 스마트폰 과의존 설문 조사 후\n",
        "2. 설문 결과를 학습 모델에 입력\n",
        "3. 예측한 결과를 바탕으로 과의존 유형을 알려주자!"
      ],
      "metadata": {
        "id": "m624YXMvmLnI"
      }
    },
    {
      "cell_type": "code",
      "source": [
        "question =['스마트폰이 옆에 있으면 다른 일에 집중하기 어렵다.',\n",
        "            '스마트폰 생각이 머리에서 떠나지 않는다.',\n",
        "            '스마트폰을 이용하고 싶은 충동을 강하게 느낀다.',\n",
        "            '스마트폰 떄문에 학업 수행에 어려움이 있다.']\n",
        "\n",
        "result = np.zeros(4)\n",
        "print('다음 질문에 답해주세요. 1(전혀아니다),2(아니다),3(그렇다),4(매우 그렇다)')\n",
        "\n",
        "for i, q in enumerate(question):\n",
        "  result[i] = int(input((q)))\n",
        "pred_result = model.predict([result])\n",
        "\n",
        "if pred_result == 1:\n",
        "  print(\"예상: 고위험군\")\n",
        "elif pred_result == 2:\n",
        "  print(\"예상: 잠재적 위험군\")\n",
        "else:\n",
        "  print(\"예상: 일반 사용자군\")"
      ],
      "metadata": {
        "colab": {
          "base_uri": "https://localhost:8080/"
        },
        "id": "DpFD0epWmVjR",
        "outputId": "de88119b-89fe-4c7c-fa74-58458e394f14"
      },
      "execution_count": null,
      "outputs": [
        {
          "output_type": "stream",
          "name": "stdout",
          "text": [
            "다음 질문에 답해주세요. 1(전혀아니다),2(아니다),3(그렇다),4(매우 그렇다)\n",
            "스마트폰이 옆에 있으면 다른 일에 집중하기 어렵다.2\n",
            "스마트폰 생각이 머리에서 떠나지 않는다.1\n",
            "스마트폰을 이용하고 싶은 충동을 강하게 느낀다.1\n",
            "스마트폰 떄문에 학업 수행에 어려움이 있다.2\n",
            "예상: 일반 사용자군\n"
          ]
        }
      ]
    }
  ]
}
